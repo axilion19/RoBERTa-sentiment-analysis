{
<<<<<<< HEAD
 "cells": [
  {
   "cell_type": "code",
   "execution_count": null,
   "metadata": {
    "executionInfo": {
     "elapsed": 52148,
     "status": "ok",
     "timestamp": 1749117682665,
     "user": {
      "displayName": "Hakan Çobanoğlu",
      "userId": "12887805589343695815"
     },
     "user_tz": -180
    },
    "id": "XL63zRs_h6Si"
   },
   "source": [
    "import pandas as pd\n",
    "import torch\n",
    "import transformers\n",
    "from tqdm import tqdm\n",
    "from torch.utils.data import Dataset, DataLoader\n",
    "from transformers import RobertaModel, RobertaTokenizer"
   ]
  },
  {
   "cell_type": "code",
   "execution_count": null,
   "metadata": {
    "colab": {
     "base_uri": "https://localhost:8080/"
    },
    "executionInfo": {
     "elapsed": 19115,
     "status": "ok",
     "timestamp": 1749117725674,
     "user": {
      "displayName": "Hakan Çobanoğlu",
      "userId": "12887805589343695815"
     },
     "user_tz": -180
    },
    "id": "tA_0WqF_iQMZ",
    "outputId": "be82b935-3287-4aee-d79e-3c921d84c7a6"
   },
   "source": [
    "from google.colab import drive\n",
    "drive.mount('/content/drive')"
   ]
  },
  {
   "cell_type": "code",
   "execution_count": null,
   "metadata": {
    "colab": {
     "base_uri": "https://localhost:8080/",
     "height": 35
    },
    "executionInfo": {
     "elapsed": 11,
     "status": "ok",
     "timestamp": 1749117744318,
     "user": {
      "displayName": "Hakan Çobanoğlu",
      "userId": "12887805589343695815"
     },
     "user_tz": -180
    },
    "id": "W89IPbYgilDD",
    "outputId": "2cc6727d-50b6-4fd6-8607-df6019b09311"
   },
   "source": [
    "from torch import cuda\n",
    "device = 'cuda' if cuda.is_available() else 'cpu'\n",
    "device"
   ]
  },
  {
   "cell_type": "code",
   "execution_count": null,
   "metadata": {
    "colab": {
     "base_uri": "https://localhost:8080/",
     "height": 424
    },
    "executionInfo": {
     "elapsed": 2928,
     "status": "ok",
     "timestamp": 1749118520676,
     "user": {
      "displayName": "Hakan Çobanoğlu",
      "userId": "12887805589343695815"
     },
     "user_tz": -180
    },
    "id": "n7Y3Dn-Zir6g",
    "outputId": "9ed0b8be-7c24-4d0a-ee15-350d7a9656a6"
   },
   "source": [
    "data = pd.read_csv('/content/drive/MyDrive/imdb_data_cleaned.csv')\n",
    "data"
   ]
  },
  {
   "cell_type": "code",
   "execution_count": null,
   "metadata": {
    "colab": {
     "base_uri": "https://localhost:8080/",
     "height": 281,
     "referenced_widgets": [
      "6758152845e149b0bb535e39a98b2ca3",
      "0bd6163596d94344b469933c355eddc0",
      "9de51e1ed9374349913d82164d5dad51",
      "66bb425ac0f84d04baa858285ca74430",
      "07e2a025f338403e824920744933cd20",
      "8febc6356f8148b795b835f401e15109",
      "80dc5dfaf7b9487facd62df35ab783c3",
      "f5e5eb567ec440aea0dbf56ddc3bb7bd",
      "16987737fee84e62a2f85e7e738688f4",
      "14f8ef3a3acf4092b2685941af8ce025",
      "1f014a1b6eb048629f407e2116e6bdd6",
      "8a56ff76cc9a456397c07019daecabcf",
      "0156294c49b349b3ad5c54a58110c91b",
      "8991b739670e474a885899b4b0ece74b",
      "3bc9d70293704d02830a8a8176d420b9",
      "637ecf0892d843e4ae090b8f2b7c2a5d",
      "6a777cfe40d44c1c87df3b2e2d20cd31",
      "ce0f610827554de0b6f8f70b6559d3a3",
      "4942ca2225d5457b8caa1ee5df46f0c7",
      "de2e731a46004a03b2f96edcb4112485",
      "1e2ab83004fb471eae5fa2484bda5c79",
      "7d670a3a6430483e8f073ffc196cf79a",
      "13dcedc893204775b16799b7a58f0b2b",
      "1802dd24165a4780b71c96e5c5d29da6",
      "c0aeb9db97334f9a8a994532ae320b1f",
      "ec970d9cf97a4f6fa2a6883a8e9fd19a",
      "a5c098b64aa3492cb0c49f35154da519",
      "dc000c67e97548cd8a13a01bd94acd3f",
      "82cd15d98a404c4baf340cb19f748ac2",
      "f2d8d6ec69d44c15a4ebfe0cee1415b3",
      "338b3d8c72104348b1f4dd81cfe4e2a9",
      "16d85250387c4631816dbc3c23d2b610",
      "1ddfaa571c32409ea4644817625bb9c2",
      "f9a88a6e87cb4a668bf5e960ad70f8d8",
      "790184049dea48b7b1d2f89af9823855",
      "e96e25a7648644c986b33c494b950f61",
      "6552f40b1ffd4a0183076376769a44e9",
      "1c17de2cbd4c4a4e8bce95b7de6f3408",
      "d66c4eab4ee6438e984598753d43c120",
      "97189a65af3a40d489884fcdc1061219",
      "ee8603bcf24e43a59889998fb485f05d",
      "06b1dd3a5fd3499ab0ec79b99b2a3d3a",
      "252010bd03f440ad8a3fb83c90418577",
      "72933a813a124c0a9c75a4797ea08829",
      "b665022fa4f04b3db89ebcbe4caa0d07",
      "b65668768f1e4ca594086831dad3f98a",
      "7cae67278040498ebb018a077c25c5e8",
      "4d040a597305437798d2d28b30466635",
      "9145230f95554740b823d4f7856d3b39",
      "2aeb5cfdca224abeb6387e141e0dcefb",
      "3c250b5ba13f4e0d84b1515f7f9c9ac9",
      "2a5b10e8baf140edb6c76f2d816b28c0",
      "a37b486d6f5145c7b9362525da81195d",
      "dbc28817ca1f4dc38611151aa515632a",
      "b489bc79b8704276b957838f6b9eaed4"
     ]
    },
    "executionInfo": {
     "elapsed": 3124,
     "status": "ok",
     "timestamp": 1749118554007,
     "user": {
      "displayName": "Hakan Çobanoğlu",
      "userId": "12887805589343695815"
     },
     "user_tz": -180
    },
    "id": "r3cp6KIjlvBn",
    "outputId": "f5b7a62e-8241-492b-fe37-6fbbadef55c9"
   },
   "source": [
    "MAX_LEN = 256\n",
    "TRAIN_BATCH_SIZE = 8\n",
    "VALID_BATCH_SIZE = 4\n",
    "\n",
    "LEARNING_RATE = 1e-05\n",
    "tokenizer = RobertaTokenizer.from_pretrained('roberta-base', truncation=True, do_lower_case=True)"
   ]
  },
  {
   "cell_type": "code",
   "execution_count": null,
   "metadata": {
    "executionInfo": {
     "elapsed": 4,
     "status": "ok",
     "timestamp": 1749118597324,
     "user": {
      "displayName": "Hakan Çobanoğlu",
      "userId": "12887805589343695815"
     },
     "user_tz": -180
    },
    "id": "vlG6MEyGlxOy"
   },
   "source": [
    "class SentimentData(Dataset):\n",
    "    def __init__(self, dataframe, tokenizer, max_len):\n",
    "        self.tokenizer = tokenizer\n",
    "        self.data = dataframe\n",
    "        self.text = dataframe.review\n",
    "        self.targets = self.data.sentiment\n",
    "        self.max_len = max_len\n",
    "\n",
    "    def __len__(self):\n",
    "        return len(self.text)\n",
    "\n",
    "    def __getitem__(self, index):\n",
    "        text = str(self.text[index])\n",
    "        text = \" \".join(text.split())\n",
    "\n",
    "        inputs = self.tokenizer.encode_plus(\n",
    "            text,\n",
    "            add_special_tokens=True,\n",
    "            max_length=self.max_len,\n",
    "            padding='max_length',\n",
    "            truncation=True,\n",
    "            return_token_type_ids=False\n",
    "        )\n",
    "        ids = inputs['input_ids']\n",
    "        mask = inputs['attention_mask']\n",
    "\n",
    "\n",
    "        return {\n",
    "            'ids': torch.tensor(ids, dtype=torch.long),\n",
    "            'mask': torch.tensor(mask, dtype=torch.long),\n",
    "            'targets': torch.tensor(self.targets[index], dtype=torch.float)\n",
    "        }"
   ]
  },
  {
   "cell_type": "code",
   "execution_count": null,
   "metadata": {
    "colab": {
     "base_uri": "https://localhost:8080/"
    },
    "executionInfo": {
     "elapsed": 21,
     "status": "ok",
     "timestamp": 1749118615045,
     "user": {
      "displayName": "Hakan Çobanoğlu",
      "userId": "12887805589343695815"
     },
     "user_tz": -180
    },
    "id": "-UhuaeFEl8Xk",
    "outputId": "2f421f26-6e8f-4faa-b479-9bbe3dea037c"
   },
   "source": [
    "train_size = 0.8\n",
    "train_data = data.sample(frac=train_size,random_state=200)\n",
    "test_data = data.drop(train_data.index).reset_index(drop=True)\n",
    "train_data = train_data.reset_index(drop=True)\n",
    "\n",
    "\n",
    "print(\"FULL Dataset: {}\".format(data.shape))\n",
    "print(\"TRAIN Dataset: {}\".format(train_data.shape))\n",
    "print(\"TEST Dataset: {}\".format(test_data.shape))\n",
    "\n",
    "training_set = SentimentData(train_data, tokenizer, MAX_LEN)\n",
    "testing_set = SentimentData(test_data, tokenizer, MAX_LEN)"
   ]
  },
  {
   "cell_type": "code",
   "execution_count": null,
   "metadata": {
    "executionInfo": {
     "elapsed": 5,
     "status": "ok",
     "timestamp": 1749118629557,
     "user": {
      "displayName": "Hakan Çobanoğlu",
      "userId": "12887805589343695815"
     },
     "user_tz": -180
    },
    "id": "QYL-_tYamAzK"
   },
   "source": [
    "train_params = {'batch_size': TRAIN_BATCH_SIZE,\n",
    "                'shuffle': True,\n",
    "                'num_workers': 0\n",
    "                }\n",
    "\n",
    "test_params = {'batch_size': VALID_BATCH_SIZE,\n",
    "                'shuffle': True,\n",
    "                'num_workers': 0\n",
    "                }\n",
    "\n",
    "training_loader = DataLoader(training_set, **train_params)\n",
    "testing_loader = DataLoader(testing_set, **test_params)"
   ]
  },
  {
   "cell_type": "code",
   "execution_count": null,
   "metadata": {
    "executionInfo": {
     "elapsed": 5,
     "status": "ok",
     "timestamp": 1749118654856,
     "user": {
      "displayName": "Hakan Çobanoğlu",
      "userId": "12887805589343695815"
     },
     "user_tz": -180
    },
    "id": "Njwa9G-KmHF9"
   },
   "source": [
    "class RobertaClass(torch.nn.Module):\n",
    "    def __init__(self):\n",
    "        super(RobertaClass, self).__init__()\n",
    "        self.l1 = RobertaModel.from_pretrained(\"roberta-base\")\n",
    "        self.pre_classifier = torch.nn.Linear(768, 768)\n",
    "        self.dropout = torch.nn.Dropout(0.3)\n",
    "        self.classifier = torch.nn.Linear(768, 2)\n",
    "\n",
    "    def forward(self, input_ids, attention_mask):\n",
    "        output_1 = self.l1(input_ids=input_ids, attention_mask=attention_mask)\n",
    "        hidden_state = output_1[0]\n",
    "        pooler = hidden_state[:, 0]\n",
    "        pooler = self.pre_classifier(pooler)\n",
    "        pooler = torch.nn.ReLU()(pooler)\n",
    "        pooler = self.dropout(pooler)\n",
    "        output = self.classifier(pooler)\n",
    "        return output"
   ]
  },
  {
   "cell_type": "code",
   "execution_count": null,
   "metadata": {
    "colab": {
     "base_uri": "https://localhost:8080/",
     "height": 882,
     "referenced_widgets": [
      "855b4986fd3b409990b4e9110fed1cbe",
      "15e50e12049d4cb6b2f292e19b62fe15",
      "e2e2ed86842844e0bedf29d4de243162",
      "f4b5eb8203c14f7db3b46c6b46edb1a6",
      "dccdebc4b18345708595563fb0982fb8",
      "85ad1e20f8fe4951a05a38c04dd95503",
      "84e7b4d070d24b39a9e330566dce72f4",
      "ba2d909803b6419f892764f57e55fe11",
      "5fdd066cdfb543e89da51f2971591a66",
      "f02db3f258f94916a897a8067f66fb21",
      "80a48330aa45463fb9eaee855a4cb03f"
     ]
    },
    "executionInfo": {
     "elapsed": 7933,
     "status": "ok",
     "timestamp": 1749118676045,
     "user": {
      "displayName": "Hakan Çobanoğlu",
      "userId": "12887805589343695815"
     },
     "user_tz": -180
    },
    "id": "KOytE9D5mKSx",
    "outputId": "d7ce181f-47b7-475d-d777-780af7b8882b"
   },
   "source": [
    "model = RobertaClass()\n",
    "model.to(device)"
   ]
  },
  {
   "cell_type": "code",
   "execution_count": null,
   "metadata": {
    "executionInfo": {
     "elapsed": 5,
     "status": "ok",
     "timestamp": 1749118688751,
     "user": {
      "displayName": "Hakan Çobanoğlu",
      "userId": "12887805589343695815"
     },
     "user_tz": -180
    },
    "id": "6GiwDhDMmP5g"
   },
   "source": [
    "loss_function = torch.nn.CrossEntropyLoss()\n",
    "optimizer = torch.optim.Adam(params =  model.parameters(), lr=LEARNING_RATE)"
   ]
  },
  {
   "cell_type": "code",
   "execution_count": null,
   "metadata": {
    "executionInfo": {
     "elapsed": 12,
     "status": "ok",
     "timestamp": 1749118703244,
     "user": {
      "displayName": "Hakan Çobanoğlu",
      "userId": "12887805589343695815"
     },
     "user_tz": -180
    },
    "id": "iu-zmKkSmSlP"
   },
   "source": [
    "def calcuate_accuracy(preds, targets):\n",
    "    n_correct = (preds==targets).sum().item()\n",
    "    return n_correct"
   ]
  },
  {
   "cell_type": "code",
   "execution_count": null,
   "metadata": {
    "executionInfo": {
     "elapsed": 5,
     "status": "ok",
     "timestamp": 1749119176125,
     "user": {
      "displayName": "Hakan Çobanoğlu",
      "userId": "12887805589343695815"
     },
     "user_tz": -180
    },
    "id": "028m57GXmV9Z"
   },
   "source": [
    "def train(epoch):\n",
    "    tr_loss = 0\n",
    "    n_correct = 0\n",
    "    nb_tr_steps = 0\n",
    "    nb_tr_examples = 0\n",
    "    model.train()\n",
    "    for _,data in tqdm(enumerate(training_loader, 0)):\n",
    "        ids = data['ids'].to(device, dtype = torch.long)\n",
    "        mask = data['mask'].to(device, dtype = torch.long)\n",
    "        targets = data['targets'].to(device, dtype = torch.long)\n",
    "\n",
    "        outputs = model(ids, mask)\n",
    "        loss = loss_function(outputs, targets)\n",
    "        tr_loss += loss.item()\n",
    "        big_val, big_idx = torch.max(outputs.data, dim=1)\n",
    "        n_correct += calcuate_accuracy(big_idx, targets)\n",
    "\n",
    "        nb_tr_steps += 1\n",
    "        nb_tr_examples+=targets.size(0)\n",
    "\n",
    "        if _%5000==0:\n",
    "            loss_step = tr_loss/nb_tr_steps\n",
    "            accu_step = (n_correct*100)/nb_tr_examples\n",
    "            print(f\"Training Loss per 5000 steps: {loss_step}\")\n",
    "            print(f\"Training Accuracy per 5000 steps: {accu_step}\")\n",
    "\n",
    "        optimizer.zero_grad()\n",
    "        loss.backward()\n",
    "        optimizer.step()\n",
    "\n",
    "    print(f'The Total Accuracy for Epoch {epoch}: {(n_correct*100)/nb_tr_examples}')\n",
    "    epoch_loss = tr_loss/nb_tr_steps\n",
    "    epoch_accu = (n_correct*100)/nb_tr_examples\n",
    "    print(f\"Training Loss Epoch: {epoch_loss}\")\n",
    "    print(f\"Training Accuracy Epoch: {epoch_accu}\")\n",
    "\n",
    "    return epoch_accu, epoch_loss"
   ]
  },
  {
   "cell_type": "code",
   "execution_count": null,
   "metadata": {
    "executionInfo": {
     "elapsed": 5,
     "status": "ok",
     "timestamp": 1749119179028,
     "user": {
      "displayName": "Hakan Çobanoğlu",
      "userId": "12887805589343695815"
     },
     "user_tz": -180
    },
    "id": "N3mGAJ6_mtT4"
   },
   "source": [
    "def valid(model, testing_loader):\n",
    "    model.eval()\n",
    "    n_correct = 0; n_wrong = 0; total = 0; tr_loss=0; nb_tr_steps=0; nb_tr_examples=0\n",
    "    with torch.no_grad():\n",
    "        for _, data in tqdm(enumerate(testing_loader, 0)):\n",
    "            ids = data['ids'].to(device, dtype = torch.long)\n",
    "            mask = data['mask'].to(device, dtype = torch.long)\n",
    "            targets = data['targets'].to(device, dtype = torch.long)\n",
    "            outputs = model(ids, mask).squeeze()\n",
    "            loss = loss_function(outputs, targets)\n",
    "            tr_loss += loss.item()\n",
    "            big_val, big_idx = torch.max(outputs.data, dim=1)\n",
    "            n_correct += calcuate_accuracy(big_idx, targets)\n",
    "\n",
    "            nb_tr_steps += 1\n",
    "            nb_tr_examples+=targets.size(0)\n",
    "\n",
    "            if _%5000==0:\n",
    "                loss_step = tr_loss/nb_tr_steps\n",
    "                accu_step = (n_correct*100)/nb_tr_examples\n",
    "                print(f\"Validation Loss per 100 steps: {loss_step}\")\n",
    "                print(f\"Validation Accuracy per 100 steps: {accu_step}\")\n",
    "    epoch_loss = tr_loss/nb_tr_steps\n",
    "    epoch_accu = (n_correct*100)/nb_tr_examples\n",
    "    print(f\"Validation Loss Epoch: {epoch_loss}\")\n",
    "    print(f\"Validation Accuracy Epoch: {epoch_accu}\")\n",
    "\n",
    "    return epoch_accu, epoch_loss\n"
   ]
  },
  {
   "cell_type": "code",
   "execution_count": null,
   "metadata": {
    "colab": {
     "base_uri": "https://localhost:8080/"
    },
    "executionInfo": {
     "elapsed": 3952003,
     "status": "ok",
     "timestamp": 1749124176439,
     "user": {
      "displayName": "Hakan Çobanoğlu",
      "userId": "12887805589343695815"
     },
     "user_tz": -180
    },
    "id": "fWyKoeDGoKLQ",
    "outputId": "1044dc32-c9e4-446d-b599-5b62153556d9"
   },
   "source": [
    "import copy\n",
    "train_losses, val_losses = [], []\n",
    "train_accs,   val_accs   = [], []\n",
    "\n",
    "EPOCHS     = 4\n",
    "PATIENCE   = 1\n",
    "MONITOR    = \"val_loss\"\n",
    "MODE       = \"min\"\n",
    "\n",
    "best_metric   = float(\"inf\") if MODE == \"min\" else -float(\"inf\")\n",
    "patience_cnt  = 0\n",
    "best_weights  = None\n",
    "\n",
    "for ep in range(EPOCHS):\n",
    "    tr_acc, tr_loss = train(ep)\n",
    "    val_acc, val_loss = valid(model, testing_loader)\n",
    "\n",
    "    train_losses.append(tr_loss)\n",
    "    val_losses.append(val_loss)\n",
    "    train_accs.append(tr_acc)\n",
    "    val_accs.append(val_acc)\n",
    "\n",
    "    print(f\"Epoch {ep} done ✓\")\n",
    "\n",
    "    current = val_loss if MONITOR == \"val_loss\" else val_acc\n",
    "    better  = (current < best_metric) if MODE == \"min\" else (current > best_metric)\n",
    "\n",
    "    if better:\n",
    "        best_metric  = current\n",
    "        patience_cnt = 0\n",
    "        best_weights = copy.deepcopy(model.state_dict())\n",
    "    else:\n",
    "        patience_cnt += 1\n",
    "\n",
    "        if patience_cnt >= PATIENCE:\n",
    "            print(\"Early stopping triggered\")\n",
    "            break\n",
    "if best_weights is not None:\n",
    "    model.load_state_dict(best_weights)\n",
    "    print(f\"Model: best weights protected -> ({MONITOR}={best_metric:.4f})\")\n"
   ]
  },
  {
   "cell_type": "code",
   "execution_count": null,
   "metadata": {
    "colab": {
     "base_uri": "https://localhost:8080/",
     "height": 803
    },
    "executionInfo": {
     "elapsed": 247,
     "status": "ok",
     "timestamp": 1749124599409,
     "user": {
      "displayName": "Hakan Çobanoğlu",
      "userId": "12887805589343695815"
     },
     "user_tz": -180
    },
    "id": "zlR2dOQZqQfq",
    "outputId": "b7072eaa-1aa9-455f-cacc-b586be8a4aad"
   },
   "source": [
    "import matplotlib.pyplot as plt\n",
    "\n",
    "epochs = range(1,3)\n",
    "\n",
    "plt.figure(figsize=(8, 4))\n",
    "plt.plot(epochs, train_losses, marker='o', label='Train loss')\n",
    "plt.plot(epochs, val_losses,   marker='s', label='Valid loss')\n",
    "plt.xlabel('Epoch'); plt.ylabel('Loss')\n",
    "plt.title('Train -Validation Loss')\n",
    "plt.xticks(epochs)\n",
    "plt.grid(True); plt.legend()\n",
    "plt.show()\n",
    "\n",
    "plt.figure(figsize=(8, 4))\n",
    "plt.plot(epochs, train_accs, marker='o', label='Train acc')\n",
    "plt.plot(epochs, val_accs,   marker='s', label='Valid acc')\n",
    "plt.xlabel('Epoch'); plt.ylabel('Accuracy (%)')\n",
    "plt.title('Train-Validation Accuracy')\n",
    "plt.xticks(epochs)\n",
    "plt.grid(True); plt.legend()\n",
    "plt.show()"
   ]
  },
  {
   "cell_type": "code",
   "execution_count": null,
   "metadata": {
    "colab": {
     "base_uri": "https://localhost:8080/"
    },
    "executionInfo": {
     "elapsed": 119,
     "status": "ok",
     "timestamp": 1749125107990,
     "user": {
      "displayName": "Hakan Çobanoğlu",
      "userId": "12887805589343695815"
     },
     "user_tz": -180
    },
    "id": "zj3mwOm-8-W4",
    "outputId": "859c4fd1-862d-4af7-a8f4-d215c1025a82"
   },
   "source": [
    "def predict_reviews(reviews):\n",
    "\n",
    "    if isinstance(reviews, str):\n",
    "        reviews = [reviews]\n",
    "\n",
    "    model.eval()\n",
    "    device_ = next(model.parameters()).device\n",
    "\n",
    "    results = []\n",
    "    with torch.no_grad():\n",
    "        enc = tokenizer(\n",
    "            reviews,\n",
    "            padding=True,\n",
    "            truncation=True,\n",
    "            max_length=MAX_LEN,\n",
    "            return_tensors=\"pt\"\n",
    "        ).to(device_)\n",
    "\n",
    "        logits = model(enc[\"input_ids\"], enc[\"attention_mask\"])\n",
    "        probs  = torch.softmax(logits, dim=-1)\n",
    "        preds  = probs.argmax(dim=-1).cpu().numpy()\n",
    "\n",
    "        for idx, review in enumerate(reviews):\n",
    "            label = \"POSITIVE\" if preds[idx] == 1 else \"NEGATIVE\"\n",
    "            score = probs[idx, preds[idx]].item()\n",
    "            results.append({\"label\": label, \"score\": round(score, 3)})\n",
    "\n",
    "    return results\n",
    "\n",
    "samples = [\n",
    "    \"The movie was surprisingly touching and well-acted.\",\n",
    "    \"Plot holes everywhere—what a waste of time!\",\n",
    "    \"I fell asleep halfway through.\",\n",
    "    \"Amazing cinematography but weak story.\",\n",
    "    \"\"\"i'll spare you the \"cinema is dead\" spiel and instead elect to mention that they literally say \"epic fail\" like five times in this movie\"\"\", #1/5-star\n",
    "    \"i have no clue what the plot of this was supposed to be, but one star because the scene of ryan in the car reminiscing about his ex while listening to all too well i fear i may know that feeling a little bit all too well.\", # 1/5-star\n",
    "    \"they added the scene where colt cries in the car while listening to all too well by taylor swift so that girls could have their own “literally me” ryan gosling moment\", #4/5-star\n",
    "    \"the fall guy was released in dvd/bluray format today so I had to watch it again and I know what you all will say regarding the amount of times I’ve seen this film but how could I just ignore watching it on my own new physical copy when it came in the mail today… I couldn’t, bc my love for this film is too strong\", #5-star\n",
    "    \"A clear thank-you message to stunt performers, and all those in a craft that frequently receives less recognition than it deserves, but a film that is messy—really messy. Gosling and Blunt try their hardest to lift the weak writing, and they occasionally succeed in providing ounces of charisma and charm, but their fundamental relationship felt deeply forced. It's an effort that unfortunately falls into many of the modern-day blockbuster traps—meta humour that lands less than it should and okay-ish action sequences that feel way too long (as does the entire film). There is true enthusiasm there, and don't get me wrong, there are some genuinely pretty funny and heartfelt moments (especially the ones with Gosling leading the line), but I can't help but feel slightly disappointed overall.\" #2,5/5 star\n",
    "]\n",
    "\n",
    "for out in predict_reviews(samples):\n",
    "    print(out)\n"
   ]
  },
  {
   "cell_type": "code",
   "execution_count": null,
   "metadata": {
    "executionInfo": {
     "elapsed": 4378,
     "status": "ok",
     "timestamp": 1749124410992,
     "user": {
      "displayName": "Hakan Çobanoğlu",
      "userId": "12887805589343695815"
     },
     "user_tz": -180
    },
    "id": "kQC2HL7d7_iH"
   },
   "source": [
    "torch.save(model.state_dict(), '/content/drive/MyDrive/model_weights.pth')"
   ]
  }
 ],
 "metadata": {
  "accelerator": "GPU",
  "colab": {
   "authorship_tag": "ABX9TyPOCbJqxed3au9dYJAOQLP3",
   "gpuType": "T4",
   "provenance": []
  },
  "kernelspec": {
   "display_name": "Python 3",
   "name": "python3"
  },
  "language_info": {
   "name": "python"
  }
 },
 "nbformat": 4,
 "nbformat_minor": 0
}
=======
  "cells": [
    {
      "cell_type": "code",
      "execution_count": 1,
      "metadata": {
        "executionInfo": {
          "elapsed": 52148,
          "status": "ok",
          "timestamp": 1749117682665,
          "user": {
            "displayName": "Hakan Çobanoğlu",
            "userId": "12887805589343695815"
          },
          "user_tz": -180
        },
        "id": "XL63zRs_h6Si"
      },
      "outputs": [],
      "source": [
        "import pandas as pd\n",
        "import torch\n",
        "import transformers\n",
        "from tqdm import tqdm\n",
        "from torch.utils.data import Dataset, DataLoader\n",
        "from transformers import RobertaModel, RobertaTokenizer"
      ]
    },
    {
      "cell_type": "code",
      "execution_count": 2,
      "metadata": {
        "colab": {
          "base_uri": "https://localhost:8080/"
        },
        "executionInfo": {
          "elapsed": 19115,
          "status": "ok",
          "timestamp": 1749117725674,
          "user": {
            "displayName": "Hakan Çobanoğlu",
            "userId": "12887805589343695815"
          },
          "user_tz": -180
        },
        "id": "tA_0WqF_iQMZ",
        "outputId": "be82b935-3287-4aee-d79e-3c921d84c7a6"
      },
      "outputs": [
        {
          "name": "stdout",
          "output_type": "stream",
          "text": ["Mounted at /content/drive\n"]
        }
      ],
      "source": [
        "from google.colab import drive\n",
        "drive.mount('/content/drive')"
      ]
    },
    {
      "cell_type": "code",
      "execution_count": 3,
      "metadata": {
        "colab": {
          "base_uri": "https://localhost:8080/",
          "height": 35
        },
        "executionInfo": {
          "elapsed": 11,
          "status": "ok",
          "timestamp": 1749117744318,
          "user": {
            "displayName": "Hakan Çobanoğlu",
            "userId": "12887805589343695815"
          },
          "user_tz": -180
        },
        "id": "W89IPbYgilDD",
        "outputId": "2cc6727d-50b6-4fd6-8607-df6019b09311"
      },
      "outputs": [
        {
          "data": {
            "application/vnd.google.colaboratory.intrinsic+json": {
              "type": "string"
            },
            "text/plain": ["'cuda'"]
          },
          "execution_count": 3,
          "metadata": {},
          "output_type": "execute_result"
        }
      ],
      "source": [
        "from torch import cuda\n",
        "device = 'cuda' if cuda.is_available() else 'cpu'\n",
        "device"
      ]
    },
    {
      "cell_type": "code",
      "execution_count": 36,
      "metadata": {
        "colab": {
          "base_uri": "https://localhost:8080/",
          "height": 424
        },
        "executionInfo": {
          "elapsed": 2928,
          "status": "ok",
          "timestamp": 1749118520676,
          "user": {
            "displayName": "Hakan Çobanoğlu",
            "userId": "12887805589343695815"
          },
          "user_tz": -180
        },
        "id": "n7Y3Dn-Zir6g",
        "outputId": "9ed0b8be-7c24-4d0a-ee15-350d7a9656a6"
      },
      "outputs": [
        {
          "data": {
            "application/vnd.google.colaboratory.intrinsic+json": {
              "summary": "{\n  \"name\": \"data\",\n  \"rows\": 49582,\n  \"fields\": [\n    {\n      \"column\": \"review\",\n      \"properties\": {\n        \"dtype\": \"string\",\n        \"num_unique_values\": 49581,\n        \"samples\": [\n          \"Poorly done political actioner. Badly photographed, acted, and directed. Every single scene is underlighted, including those very few that are shot during the daytime. It doesn't matter what the location is. At an important conference in the White House, no lights are on, and the only available lighting is a gloomy blue that is filtered through a few windows. The primier of China conducts an earth-shattering phone conversation under conditions of such intense chiaroscuro that he should be contemplating a bust of Homer in a Rembrandt painting. Honest. It's as if he had a tiny spotlight on his face and was otherwise in total darkness. The slow motion deaths are by now obligatory in any ill-thought-out movie.Roy Scheider and Maria Conchita Alonzo do well by their roles, but Scheider is rarely on screen. The other performances are dismissable. There is a pretty Oriental woman in a short tight skirt who totes a gun and is right out of a Bond movie who's accent suggests a childhood spent in Basset, Nebraska, and who should have remained the model she probably started out as. Whoever plays the surviving Secret Service agent aboard the cruise ship was probably picked for the part because he looked most like Johnny Depp, not because of any display of talent. The Chinese villains, representing both Taiwan and mainland China, hiss and grin as they threaten the heroes. The script is pretty awful, recycled from other, better films. There is a lot of shooting aboard the ship and practically everyone winds up mincemeat. Two thirds of the way through, the ship explodes into the expected series of fireballs. Then the movie splits into two related parts. Part one, another shootout, this time in a waterfront warehouse. Part two, an exchange between the Vice President, now acting president, and the oily Chinese premiere, lifted out of both \\\"Dr. Strangelove\\\" and \\\"Fail Safe.\\\" We unwittingly launch our missiles. They launch theirs in retaliation. We cannot convince them that our launch was accidental, even though we offer to help them destroy our own missiles. There is even the George C. Scott/ Walter Matthau general who argues that their \\\"nucular\\\" armory can't match ours so we should hit them with everything we've got. More fireballs. The end comes none too soon.\",\n          \"In Sri Lanka, a country divided by religion and language, the civil war between the pro-Sinhalese government and the Liberation Tigers of Tamil Eelam (LTTE), a separatist organization, has claimed an estimated 68,000 lives since 1983. Human rights groups have said that, as a result of the war, more than one million people have been displaced, homeless or living in camps. The impact on children and families caught in the conflict is sensitively dramatized by acclaimed Tamil director Mani Ratnam in his 2002 film A Peck on the Cheek, winner of several awards at the National Film Awards in India. While the civil war is merely a backdrop for the story of a young girl's voyage of discovery, the human cost of war is made quite clear and Ratnam gives the fighting a universal context, pointing the finger at global arms traffickers as the source of wrongdoing.Beautifully photographed in Southern India by cinematographer Ravi K Chandran in a setting mirroring the terrain of Sri Lanka, the film tells a moving story about an adopted 9-year old girl who sets out to find her real mother in the middle of the fighting in Sri Lanka. Played with deep feeling and expressiveness by P.S. Keerthana in a memorable performance, Amudha is brought up by a loving middle class family with two younger brothers after her natural parents Shyama (Nandita Das) and Dileepan (J.D. Chakravarthi) were forced to flee when the fighting broke out, leaving her in a Red Cross camp. In a loving flashback, we see Amudha's adoptive parents, father Thiru (Madhavan) a prominent Tamil writer, and mother Indra (Simran) a TV personality, marry to facilitate their adoption of the darker-skinned little girl.Young Amudha has no idea that she is adopted until it is sprung upon her abruptly on her ninth birthday, according to the parents' prior agreement. While she is playing, Thiru tells her almost in a matter of fact tone that \\\"you are not our daughter\\\" and the response is predictable. Distraught, she questions who her father was, what her mother's name was, why she gave her up, and so forth but few answers are forthcoming. Amudha runs away several times until her parents agree to go to Sri Lanka to help her find her true mother, now a fighter for the Tamil separatists. The family's immersion in the reality of the civil war leads to some traumatic moments and difficult decisions, handled mostly with skill by Ratnam, though a sequence where the family was caught in a crossfire felt amateurish.A Peck on the Cheek is of course a Bollywood-style film and that means tons of music and melodrama. The melodrama did not get in the way because of the strong performances by the lead actors; however, I found the musical dramatizations of songs by A. R. Rahman counter to the mood of the film with their slick, high production techniques and fast-paced music video-style editing. Yet the compelling nature of the story and the honesty in which it is told transcend the film's limitations. Tamil cinema has been criticized by many, even within the country as being too clich\\u00e9d and commercial, yet A Peck on the Cheek is both a film of entertainment and one that tackles serious issues. That it successfully straddles the line between art and commerce is not a rejection but a tribute.\",\n          \"FUTZ is the only show preserved from the experimental theatre movement in New York in the 1960s (the origins of Off Off Broadway). Though it's not for everyone, it is a genuinely brilliant, darkly funny, even more often deeply disturbing tale about love, sex, personal liberty, and revenge, a serious morality tale even more relevant now in a time when Congress wants to outlaw gay marriage by trashing our Constitution. The story is not about being gay, though -- it's about love and sex that don't conform to social norms and therefore must be removed through violence and hate. On the surface, it tells the story of a man who falls in love with a pig, but like any great fable, it's not really about animals, it's about something bigger -- stifling conformity in America.The stage version won international acclaim in its original production, it toured the U.S. and Europe, and with others of its kind, influenced almost all theatre that came after it. Luckily, we have preserved here the show pretty much as it was originally conceived, with the original cast and original director, Tom O'Horgan (who also directed HAIR and Jesus Christ Superstar on Broadway).This is not a mainstream, easy-to-take, studio film -- this is an aggressive, unsettling, glorious, deeply emotional, wildly imaginative piece of storytelling that you'll never forget. And it just might change the way you see the world...\"\n        ],\n        \"semantic_type\": \"\",\n        \"description\": \"\"\n      }\n    },\n    {\n      \"column\": \"sentiment\",\n      \"properties\": {\n        \"dtype\": \"number\",\n        \"std\": 0,\n        \"min\": 0,\n        \"max\": 1,\n        \"num_unique_values\": 2,\n        \"samples\": [\n          0,\n          1\n        ],\n        \"semantic_type\": \"\",\n        \"description\": \"\"\n      }\n    }\n  ]\n}",
              "type": "dataframe",
              "variable_name": "data"
            },
            "text/html": [
              "\n",
              "  <div id=\"df-ac28bd24-b474-4bba-a7b3-22d6926eb315\" class=\"colab-df-container\">\n",
              "    <div>\n",
              "<style scoped>\n",
              "    .dataframe tbody tr th:only-of-type {\n",
              "        vertical-align: middle;\n",
              "    }\n",
              "\n",
              "    .dataframe tbody tr th {\n",
              "        vertical-align: top;\n",
              "    }\n",
              "\n",
              "    .dataframe thead th {\n",
              "        text-align: right;\n",
              "    }\n",
              "</style>\n",
              "<table border=\"1\" class=\"dataframe\">\n",
              "  <thead>\n",
              "    <tr style=\"text-align: right;\">\n",
              "      <th></th>\n",
              "      <th>review</th>\n",
              "      <th>sentiment</th>\n",
              "    </tr>\n",
              "  </thead>\n",
              "  <tbody>\n",
              "    <tr>\n",
              "      <th>0</th>\n",
              "      <td>One of the other reviewers has mentioned that ...</td>\n",
              "      <td>1</td>\n",
              "    </tr>\n",
              "    <tr>\n",
              "      <th>1</th>\n",
              "      <td>A wonderful little production. The filming tec...</td>\n",
              "      <td>1</td>\n",
              "    </tr>\n",
              "    <tr>\n",
              "      <th>2</th>\n",
              "      <td>I thought this was a wonderful way to spend ti...</td>\n",
              "      <td>1</td>\n",
              "    </tr>\n",
              "    <tr>\n",
              "      <th>3</th>\n",
              "      <td>Basically there's a family where a little boy ...</td>\n",
              "      <td>0</td>\n",
              "    </tr>\n",
              "    <tr>\n",
              "      <th>4</th>\n",
              "      <td>Petter Mattei's \"Love in the Time of Money\" is...</td>\n",
              "      <td>1</td>\n",
              "    </tr>\n",
              "    <tr>\n",
              "      <th>...</th>\n",
              "      <td>...</td>\n",
              "      <td>...</td>\n",
              "    </tr>\n",
              "    <tr>\n",
              "      <th>49577</th>\n",
              "      <td>I thought this movie did a down right good job...</td>\n",
              "      <td>1</td>\n",
              "    </tr>\n",
              "    <tr>\n",
              "      <th>49578</th>\n",
              "      <td>Bad plot, bad dialogue, bad acting, idiotic di...</td>\n",
              "      <td>0</td>\n",
              "    </tr>\n",
              "    <tr>\n",
              "      <th>49579</th>\n",
              "      <td>I am a Catholic taught in parochial elementary...</td>\n",
              "      <td>0</td>\n",
              "    </tr>\n",
              "    <tr>\n",
              "      <th>49580</th>\n",
              "      <td>I'm going to have to disagree with the previou...</td>\n",
              "      <td>0</td>\n",
              "    </tr>\n",
              "    <tr>\n",
              "      <th>49581</th>\n",
              "      <td>No one expects the Star Trek movies to be high...</td>\n",
              "      <td>0</td>\n",
              "    </tr>\n",
              "  </tbody>\n",
              "</table>\n",
              "<p>49582 rows × 2 columns</p>\n",
              "</div>\n",
              "    <div class=\"colab-df-buttons\">\n",
              "\n",
              "  <div class=\"colab-df-container\">\n",
              "    <button class=\"colab-df-convert\" onclick=\"convertToInteractive('df-ac28bd24-b474-4bba-a7b3-22d6926eb315')\"\n",
              "            title=\"Convert this dataframe to an interactive table.\"\n",
              "            style=\"display:none;\">\n",
              "\n",
              "  <svg xmlns=\"http://www.w3.org/2000/svg\" height=\"24px\" viewBox=\"0 -960 960 960\">\n",
              "    <path d=\"M120-120v-720h720v720H120Zm60-500h600v-160H180v160Zm220 220h160v-160H400v160Zm0 220h160v-160H400v160ZM180-400h160v-160H180v160Zm440 0h160v-160H620v160ZM180-180h160v-160H180v160Zm440 0h160v-160H620v160Z\"/>\n",
              "  </svg>\n",
              "    </button>\n",
              "\n",
              "  <style>\n",
              "    .colab-df-container {\n",
              "      display:flex;\n",
              "      gap: 12px;\n",
              "    }\n",
              "\n",
              "    .colab-df-convert {\n",
              "      background-color: #E8F0FE;\n",
              "      border: none;\n",
              "      border-radius: 50%;\n",
              "      cursor: pointer;\n",
              "      display: none;\n",
              "      fill: #1967D2;\n",
              "      height: 32px;\n",
              "      padding: 0 0 0 0;\n",
              "      width: 32px;\n",
              "    }\n",
              "\n",
              "    .colab-df-convert:hover {\n",
              "      background-color: #E2EBFA;\n",
              "      box-shadow: 0px 1px 2px rgba(60, 64, 67, 0.3), 0px 1px 3px 1px rgba(60, 64, 67, 0.15);\n",
              "      fill: #174EA6;\n",
              "    }\n",
              "\n",
              "    .colab-df-buttons div {\n",
              "      margin-bottom: 4px;\n",
              "    }\n",
              "\n",
              "    [theme=dark] .colab-df-convert {\n",
              "      background-color: #3B4455;\n",
              "      fill: #D2E3FC;\n",
              "    }\n",
              "\n",
              "    [theme=dark] .colab-df-convert:hover {\n",
              "      background-color: #434B5C;\n",
              "      box-shadow: 0px 1px 3px 1px rgba(0, 0, 0, 0.15);\n",
              "      filter: drop-shadow(0px 1px 2px rgba(0, 0, 0, 0.3));\n",
              "      fill: #FFFFFF;\n",
              "    }\n",
              "  </style>\n",
              "\n",
              "    <script>\n",
              "      const buttonEl =\n",
              "        document.querySelector('#df-ac28bd24-b474-4bba-a7b3-22d6926eb315 button.colab-df-convert');\n",
              "      buttonEl.style.display =\n",
              "        google.colab.kernel.accessAllowed ? 'block' : 'none';\n",
              "\n",
              "      async function convertToInteractive(key) {\n",
              "        const element = document.querySelector('#df-ac28bd24-b474-4bba-a7b3-22d6926eb315');\n",
              "        const dataTable =\n",
              "          await google.colab.kernel.invokeFunction('convertToInteractive',\n",
              "                                                    [key], {});\n",
              "        if (!dataTable) return;\n",
              "\n",
              "        const docLinkHtml = 'Like what you see? Visit the ' +\n",
              "          '<a target=\"_blank\" href=https://colab.research.google.com/notebooks/data_table.ipynb>data table notebook</a>'\n",
              "          + ' to learn more about interactive tables.';\n",
              "        element.innerHTML = '';\n",
              "        dataTable['output_type'] = 'display_data';\n",
              "        await google.colab.output.renderOutput(dataTable, element);\n",
              "        const docLink = document.createElement('div');\n",
              "        docLink.innerHTML = docLinkHtml;\n",
              "        element.appendChild(docLink);\n",
              "      }\n",
              "    </script>\n",
              "  </div>\n",
              "\n",
              "\n",
              "    <div id=\"df-bf91964a-c6e7-4bb8-89fd-bccb160c4c1c\">\n",
              "      <button class=\"colab-df-quickchart\" onclick=\"quickchart('df-bf91964a-c6e7-4bb8-89fd-bccb160c4c1c')\"\n",
              "                title=\"Suggest charts\"\n",
              "                style=\"display:none;\">\n",
              "\n",
              "<svg xmlns=\"http://www.w3.org/2000/svg\" height=\"24px\"viewBox=\"0 0 24 24\"\n",
              "     width=\"24px\">\n",
              "    <g>\n",
              "        <path d=\"M19 3H5c-1.1 0-2 .9-2 2v14c0 1.1.9 2 2 2h14c1.1 0 2-.9 2-2V5c0-1.1-.9-2-2-2zM9 17H7v-7h2v7zm4 0h-2V7h2v10zm4 0h-2v-4h2v4z\"/>\n",
              "    </g>\n",
              "</svg>\n",
              "      </button>\n",
              "\n",
              "<style>\n",
              "  .colab-df-quickchart {\n",
              "      --bg-color: #E8F0FE;\n",
              "      --fill-color: #1967D2;\n",
              "      --hover-bg-color: #E2EBFA;\n",
              "      --hover-fill-color: #174EA6;\n",
              "      --disabled-fill-color: #AAA;\n",
              "      --disabled-bg-color: #DDD;\n",
              "  }\n",
              "\n",
              "  [theme=dark] .colab-df-quickchart {\n",
              "      --bg-color: #3B4455;\n",
              "      --fill-color: #D2E3FC;\n",
              "      --hover-bg-color: #434B5C;\n",
              "      --hover-fill-color: #FFFFFF;\n",
              "      --disabled-bg-color: #3B4455;\n",
              "      --disabled-fill-color: #666;\n",
              "  }\n",
              "\n",
              "  .colab-df-quickchart {\n",
              "    background-color: var(--bg-color);\n",
              "    border: none;\n",
              "    border-radius: 50%;\n",
              "    cursor: pointer;\n",
              "    display: none;\n",
              "    fill: var(--fill-color);\n",
              "    height: 32px;\n",
              "    padding: 0;\n",
              "    width: 32px;\n",
              "  }\n",
              "\n",
              "  .colab-df-quickchart:hover {\n",
              "    background-color: var(--hover-bg-color);\n",
              "    box-shadow: 0 1px 2px rgba(60, 64, 67, 0.3), 0 1px 3px 1px rgba(60, 64, 67, 0.15);\n",
              "    fill: var(--button-hover-fill-color);\n",
              "  }\n",
              "\n",
              "  .colab-df-quickchart-complete:disabled,\n",
              "  .colab-df-quickchart-complete:disabled:hover {\n",
              "    background-color: var(--disabled-bg-color);\n",
              "    fill: var(--disabled-fill-color);\n",
              "    box-shadow: none;\n",
              "  }\n",
              "\n",
              "  .colab-df-spinner {\n",
              "    border: 2px solid var(--fill-color);\n",
              "    border-color: transparent;\n",
              "    border-bottom-color: var(--fill-color);\n",
              "    animation:\n",
              "      spin 1s steps(1) infinite;\n",
              "  }\n",
              "\n",
              "  @keyframes spin {\n",
              "    0% {\n",
              "      border-color: transparent;\n",
              "      border-bottom-color: var(--fill-color);\n",
              "      border-left-color: var(--fill-color);\n",
              "    }\n",
              "    20% {\n",
              "      border-color: transparent;\n",
              "      border-left-color: var(--fill-color);\n",
              "      border-top-color: var(--fill-color);\n",
              "    }\n",
              "    30% {\n",
              "      border-color: transparent;\n",
              "      border-left-color: var(--fill-color);\n",
              "      border-top-color: var(--fill-color);\n",
              "      border-right-color: var(--fill-color);\n",
              "    }\n",
              "    40% {\n",
              "      border-color: transparent;\n",
              "      border-right-color: var(--fill-color);\n",
              "      border-top-color: var(--fill-color);\n",
              "    }\n",
              "    60% {\n",
              "      border-color: transparent;\n",
              "      border-right-color: var(--fill-color);\n",
              "    }\n",
              "    80% {\n",
              "      border-color: transparent;\n",
              "      border-right-color: var(--fill-color);\n",
              "      border-bottom-color: var(--fill-color);\n",
              "    }\n",
              "    90% {\n",
              "      border-color: transparent;\n",
              "      border-bottom-color: var(--fill-color);\n",
              "    }\n",
              "  }\n",
              "</style>\n",
              "\n",
              "      <script>\n",
              "        async function quickchart(key) {\n",
              "          const quickchartButtonEl =\n",
              "            document.querySelector('#' + key + ' button');\n",
              "          quickchartButtonEl.disabled = true;  // To prevent multiple clicks.\n",
              "          quickchartButtonEl.classList.add('colab-df-spinner');\n",
              "          try {\n",
              "            const charts = await google.colab.kernel.invokeFunction(\n",
              "                'suggestCharts', [key], {});\n",
              "          } catch (error) {\n",
              "            console.error('Error during call to suggestCharts:', error);\n",
              "          }\n",
              "          quickchartButtonEl.classList.remove('colab-df-spinner');\n",
              "          quickchartButtonEl.classList.add('colab-df-quickchart-complete');\n",
              "        }\n",
              "        (() => {\n",
              "          let quickchartButtonEl =\n",
              "            document.querySelector('#df-bf91964a-c6e7-4bb8-89fd-bccb160c4c1c button');\n",
              "          quickchartButtonEl.style.display =\n",
              "            google.colab.kernel.accessAllowed ? 'block' : 'none';\n",
              "        })();\n",
              "      </script>\n",
              "    </div>\n",
              "\n",
              "  <div id=\"id_78e210f5-9da5-4c46-9c6f-05698cc02d14\">\n",
              "    <style>\n",
              "      .colab-df-generate {\n",
              "        background-color: #E8F0FE;\n",
              "        border: none;\n",
              "        border-radius: 50%;\n",
              "        cursor: pointer;\n",
              "        display: none;\n",
              "        fill: #1967D2;\n",
              "        height: 32px;\n",
              "        padding: 0 0 0 0;\n",
              "        width: 32px;\n",
              "      }\n",
              "\n",
              "      .colab-df-generate:hover {\n",
              "        background-color: #E2EBFA;\n",
              "        box-shadow: 0px 1px 2px rgba(60, 64, 67, 0.3), 0px 1px 3px 1px rgba(60, 64, 67, 0.15);\n",
              "        fill: #174EA6;\n",
              "      }\n",
              "\n",
              "      [theme=dark] .colab-df-generate {\n",
              "        background-color: #3B4455;\n",
              "        fill: #D2E3FC;\n",
              "      }\n",
              "\n",
              "      [theme=dark] .colab-df-generate:hover {\n",
              "        background-color: #434B5C;\n",
              "        box-shadow: 0px 1px 3px 1px rgba(0, 0, 0, 0.15);\n",
              "        filter: drop-shadow(0px 1px 2px rgba(0, 0, 0, 0.3));\n",
              "        fill: #FFFFFF;\n",
              "      }\n",
              "    </style>\n",
              "    <button class=\"colab-df-generate\" onclick=\"generateWithVariable('data')\"\n",
              "            title=\"Generate code using this dataframe.\"\n",
              "            style=\"display:none;\">\n",
              "\n",
              "  <svg xmlns=\"http://www.w3.org/2000/svg\" height=\"24px\"viewBox=\"0 0 24 24\"\n",
              "       width=\"24px\">\n",
              "    <path d=\"M7,19H8.4L18.45,9,17,7.55,7,17.6ZM5,21V16.75L18.45,3.32a2,2,0,0,1,2.83,0l1.4,1.43a1.91,1.91,0,0,1,.58,1.4,1.91,1.91,0,0,1-.58,1.4L9.25,21ZM18.45,9,17,7.55Zm-12,3A5.31,5.31,0,0,0,4.9,8.1,5.31,5.31,0,0,0,1,6.5,5.31,5.31,0,0,0,4.9,4.9,5.31,5.31,0,0,0,6.5,1,5.31,5.31,0,0,0,8.1,4.9,5.31,5.31,0,0,0,12,6.5,5.46,5.46,0,0,0,6.5,12Z\"/>\n",
              "  </svg>\n",
              "    </button>\n",
              "    <script>\n",
              "      (() => {\n",
              "      const buttonEl =\n",
              "        document.querySelector('#id_78e210f5-9da5-4c46-9c6f-05698cc02d14 button.colab-df-generate');\n",
              "      buttonEl.style.display =\n",
              "        google.colab.kernel.accessAllowed ? 'block' : 'none';\n",
              "\n",
              "      buttonEl.onclick = () => {\n",
              "        google.colab.notebook.generateWithVariable('data');\n",
              "      }\n",
              "      })();\n",
              "    </script>\n",
              "  </div>\n",
              "\n",
              "    </div>\n",
              "  </div>\n"
            ],
            "text/plain": [
              "                                                  review  sentiment\n",
              "0      One of the other reviewers has mentioned that ...          1\n",
              "1      A wonderful little production. The filming tec...          1\n",
              "2      I thought this was a wonderful way to spend ti...          1\n",
              "3      Basically there's a family where a little boy ...          0\n",
              "4      Petter Mattei's \"Love in the Time of Money\" is...          1\n",
              "...                                                  ...        ...\n",
              "49577  I thought this movie did a down right good job...          1\n",
              "49578  Bad plot, bad dialogue, bad acting, idiotic di...          0\n",
              "49579  I am a Catholic taught in parochial elementary...          0\n",
              "49580  I'm going to have to disagree with the previou...          0\n",
              "49581  No one expects the Star Trek movies to be high...          0\n",
              "\n",
              "[49582 rows x 2 columns]"
            ]
          },
          "execution_count": 36,
          "metadata": {},
          "output_type": "execute_result"
        }
      ],
      "source": [
        "data = pd.read_csv('/content/drive/MyDrive/imdb_data_cleaned.csv')\n",
        "data"
      ]
    },
    {
      "cell_type": "code",
      "execution_count": 37,
      "metadata": {
        "colab": {
          "base_uri": "https://localhost:8080/",
          "height": 281,
          "referenced_widgets": [
            "6758152845e149b0bb535e39a98b2ca3",
            "0bd6163596d94344b469933c355eddc0",
            "9de51e1ed9374349913d82164d5dad51",
            "66bb425ac0f84d04baa858285ca74430",
            "07e2a025f338403e824920744933cd20",
            "8febc6356f8148b795b835f401e15109",
            "80dc5dfaf7b9487facd62df35ab783c3",
            "f5e5eb567ec440aea0dbf56ddc3bb7bd",
            "16987737fee84e62a2f85e7e738688f4",
            "14f8ef3a3acf4092b2685941af8ce025",
            "1f014a1b6eb048629f407e2116e6bdd6",
            "8a56ff76cc9a456397c07019daecabcf",
            "0156294c49b349b3ad5c54a58110c91b",
            "8991b739670e474a885899b4b0ece74b",
            "3bc9d70293704d02830a8a8176d420b9",
            "637ecf0892d843e4ae090b8f2b7c2a5d",
            "6a777cfe40d44c1c87df3b2e2d20cd31",
            "ce0f610827554de0b6f8f70b6559d3a3",
            "4942ca2225d5457b8caa1ee5df46f0c7",
            "de2e731a46004a03b2f96edcb4112485",
            "1e2ab83004fb471eae5fa2484bda5c79",
            "7d670a3a6430483e8f073ffc196cf79a",
            "13dcedc893204775b16799b7a58f0b2b",
            "1802dd24165a4780b71c96e5c5d29da6",
            "c0aeb9db97334f9a8a994532ae320b1f",
            "ec970d9cf97a4f6fa2a6883a8e9fd19a",
            "a5c098b64aa3492cb0c49f35154da519",
            "dc000c67e97548cd8a13a01bd94acd3f",
            "82cd15d98a404c4baf340cb19f748ac2",
            "f2d8d6ec69d44c15a4ebfe0cee1415b3",
            "338b3d8c72104348b1f4dd81cfe4e2a9",
            "16d85250387c4631816dbc3c23d2b610",
            "1ddfaa571c32409ea4644817625bb9c2",
            "f9a88a6e87cb4a668bf5e960ad70f8d8",
            "790184049dea48b7b1d2f89af9823855",
            "e96e25a7648644c986b33c494b950f61",
            "6552f40b1ffd4a0183076376769a44e9",
            "1c17de2cbd4c4a4e8bce95b7de6f3408",
            "d66c4eab4ee6438e984598753d43c120",
            "97189a65af3a40d489884fcdc1061219",
            "ee8603bcf24e43a59889998fb485f05d",
            "06b1dd3a5fd3499ab0ec79b99b2a3d3a",
            "252010bd03f440ad8a3fb83c90418577",
            "72933a813a124c0a9c75a4797ea08829",
            "b665022fa4f04b3db89ebcbe4caa0d07",
            "b65668768f1e4ca594086831dad3f98a",
            "7cae67278040498ebb018a077c25c5e8",
            "4d040a597305437798d2d28b30466635",
            "9145230f95554740b823d4f7856d3b39",
            "2aeb5cfdca224abeb6387e141e0dcefb",
            "3c250b5ba13f4e0d84b1515f7f9c9ac9",
            "2a5b10e8baf140edb6c76f2d816b28c0",
            "a37b486d6f5145c7b9362525da81195d",
            "dbc28817ca1f4dc38611151aa515632a",
            "b489bc79b8704276b957838f6b9eaed4"
          ]
        },
        "executionInfo": {
          "elapsed": 3124,
          "status": "ok",
          "timestamp": 1749118554007,
          "user": {
            "displayName": "Hakan Çobanoğlu",
            "userId": "12887805589343695815"
          },
          "user_tz": -180
        },
        "id": "r3cp6KIjlvBn",
        "outputId": "f5b7a62e-8241-492b-fe37-6fbbadef55c9"
      },
      "outputs": [
        {
          "name": "stderr",
          "output_type": "stream",
          "text": [
            "/usr/local/lib/python3.11/dist-packages/huggingface_hub/utils/_auth.py:94: UserWarning: \n",
            "The secret `HF_TOKEN` does not exist in your Colab secrets.\n",
            "To authenticate with the Hugging Face Hub, create a token in your settings tab (https://huggingface.co/settings/tokens), set it as secret in your Google Colab and restart your session.\n",
            "You will be able to reuse this secret in all of your notebooks.\n",
            "Please note that authentication is recommended but still optional to access public models or datasets.\n",
            "  warnings.warn(\n"
          ]
        },
        {
          "data": {
            "application/vnd.jupyter.widget-view+json": {
              "model_id": "6758152845e149b0bb535e39a98b2ca3",
              "version_major": 2,
              "version_minor": 0
            },
            "text/plain": [
              "tokenizer_config.json:   0%|          | 0.00/25.0 [00:00<?, ?B/s]"
            ]
          },
          "metadata": {},
          "output_type": "display_data"
        },
        {
          "data": {
            "application/vnd.jupyter.widget-view+json": {
              "model_id": "8a56ff76cc9a456397c07019daecabcf",
              "version_major": 2,
              "version_minor": 0
            },
            "text/plain": [
              "vocab.json:   0%|          | 0.00/899k [00:00<?, ?B/s]"
            ]
          },
          "metadata": {},
          "output_type": "display_data"
        },
        {
          "data": {
            "application/vnd.jupyter.widget-view+json": {
              "model_id": "13dcedc893204775b16799b7a58f0b2b",
              "version_major": 2,
              "version_minor": 0
            },
            "text/plain": [
              "merges.txt:   0%|          | 0.00/456k [00:00<?, ?B/s]"
            ]
          },
          "metadata": {},
          "output_type": "display_data"
        },
        {
          "data": {
            "application/vnd.jupyter.widget-view+json": {
              "model_id": "f9a88a6e87cb4a668bf5e960ad70f8d8",
              "version_major": 2,
              "version_minor": 0
            },
            "text/plain": [
              "tokenizer.json:   0%|          | 0.00/1.36M [00:00<?, ?B/s]"
            ]
          },
          "metadata": {},
          "output_type": "display_data"
        },
        {
          "data": {
            "application/vnd.jupyter.widget-view+json": {
              "model_id": "b665022fa4f04b3db89ebcbe4caa0d07",
              "version_major": 2,
              "version_minor": 0
            },
            "text/plain": [
              "config.json:   0%|          | 0.00/481 [00:00<?, ?B/s]"
            ]
          },
          "metadata": {},
          "output_type": "display_data"
        }
      ],
      "source": [
        "MAX_LEN = 256\n",
        "TRAIN_BATCH_SIZE = 8\n",
        "VALID_BATCH_SIZE = 4\n",
        "\n",
        "LEARNING_RATE = 1e-05\n",
        "tokenizer = RobertaTokenizer.from_pretrained('roberta-base', truncation=True, do_lower_case=True)"
      ]
    },
    {
      "cell_type": "code",
      "execution_count": 38,
      "metadata": {
        "executionInfo": {
          "elapsed": 4,
          "status": "ok",
          "timestamp": 1749118597324,
          "user": {
            "displayName": "Hakan Çobanoğlu",
            "userId": "12887805589343695815"
          },
          "user_tz": -180
        },
        "id": "vlG6MEyGlxOy"
      },
      "outputs": [],
      "source": [
        "class SentimentData(Dataset):\n",
        "    def __init__(self, dataframe, tokenizer, max_len):\n",
        "        self.tokenizer = tokenizer\n",
        "        self.data = dataframe\n",
        "        self.text = dataframe.review\n",
        "        self.targets = self.data.sentiment\n",
        "        self.max_len = max_len\n",
        "\n",
        "    def __len__(self):\n",
        "        return len(self.text)\n",
        "\n",
        "    def __getitem__(self, index):\n",
        "        text = str(self.text[index])\n",
        "        text = \" \".join(text.split())\n",
        "\n",
        "        inputs = self.tokenizer.encode_plus(\n",
        "            text,\n",
        "            add_special_tokens=True,\n",
        "            max_length=self.max_len,\n",
        "            padding='max_length',\n",
        "            truncation=True,\n",
        "            return_token_type_ids=False\n",
        "        )\n",
        "        ids = inputs['input_ids']\n",
        "        mask = inputs['attention_mask']\n",
        "\n",
        "\n",
        "        return {\n",
        "            'ids': torch.tensor(ids, dtype=torch.long),\n",
        "            'mask': torch.tensor(mask, dtype=torch.long),\n",
        "            'targets': torch.tensor(self.targets[index], dtype=torch.float)\n",
        "        }"
      ]
    },
    {
      "cell_type": "code",
      "execution_count": 39,
      "metadata": {
        "colab": {
          "base_uri": "https://localhost:8080/"
        },
        "executionInfo": {
          "elapsed": 21,
          "status": "ok",
          "timestamp": 1749118615045,
          "user": {
            "displayName": "Hakan Çobanoğlu",
            "userId": "12887805589343695815"
          },
          "user_tz": -180
        },
        "id": "-UhuaeFEl8Xk",
        "outputId": "2f421f26-6e8f-4faa-b479-9bbe3dea037c"
      },
      "outputs": [
        {
          "name": "stdout",
          "output_type": "stream",
          "text": [
            "FULL Dataset: (49582, 2)\n",
            "TRAIN Dataset: (39666, 2)\n",
            "TEST Dataset: (9916, 2)\n"
          ]
        }
      ],
      "source": [
        "train_size = 0.8\n",
        "train_data = data.sample(frac=train_size,random_state=200)\n",
        "test_data = data.drop(train_data.index).reset_index(drop=True)\n",
        "train_data = train_data.reset_index(drop=True)\n",
        "\n",
        "\n",
        "print(\"FULL Dataset: {}\".format(data.shape))\n",
        "print(\"TRAIN Dataset: {}\".format(train_data.shape))\n",
        "print(\"TEST Dataset: {}\".format(test_data.shape))\n",
        "\n",
        "training_set = SentimentData(train_data, tokenizer, MAX_LEN)\n",
        "testing_set = SentimentData(test_data, tokenizer, MAX_LEN)"
      ]
    },
    {
      "cell_type": "code",
      "execution_count": 40,
      "metadata": {
        "executionInfo": {
          "elapsed": 5,
          "status": "ok",
          "timestamp": 1749118629557,
          "user": {
            "displayName": "Hakan Çobanoğlu",
            "userId": "12887805589343695815"
          },
          "user_tz": -180
        },
        "id": "QYL-_tYamAzK"
      },
      "outputs": [],
      "source": [
        "train_params = {'batch_size': TRAIN_BATCH_SIZE,\n",
        "                'shuffle': True,\n",
        "                'num_workers': 0\n",
        "                }\n",
        "\n",
        "test_params = {'batch_size': VALID_BATCH_SIZE,\n",
        "                'shuffle': True,\n",
        "                'num_workers': 0\n",
        "                }\n",
        "\n",
        "training_loader = DataLoader(training_set, **train_params)\n",
        "testing_loader = DataLoader(testing_set, **test_params)"
      ]
    },
    {
      "cell_type": "code",
      "execution_count": 41,
      "metadata": {
        "executionInfo": {
          "elapsed": 5,
          "status": "ok",
          "timestamp": 1749118654856,
          "user": {
            "displayName": "Hakan Çobanoğlu",
            "userId": "12887805589343695815"
          },
          "user_tz": -180
        },
        "id": "Njwa9G-KmHF9"
      },
      "outputs": [],
      "source": [
        "class RobertaClass(torch.nn.Module):\n",
        "    def __init__(self):\n",
        "        super(RobertaClass, self).__init__()\n",
        "        self.l1 = RobertaModel.from_pretrained(\"roberta-base\")\n",
        "        self.pre_classifier = torch.nn.Linear(768, 768)\n",
        "        self.dropout = torch.nn.Dropout(0.3)\n",
        "        self.classifier = torch.nn.Linear(768, 2)\n",
        "\n",
        "    def forward(self, input_ids, attention_mask):\n",
        "        output_1 = self.l1(input_ids=input_ids, attention_mask=attention_mask)\n",
        "        hidden_state = output_1[0]\n",
        "        pooler = hidden_state[:, 0]\n",
        "        pooler = self.pre_classifier(pooler)\n",
        "        pooler = torch.nn.ReLU()(pooler)\n",
        "        pooler = self.dropout(pooler)\n",
        "        output = self.classifier(pooler)\n",
        "        return output"
      ]
    },
    {
      "cell_type": "code",
      "execution_count": 42,
      "metadata": {
        "colab": {
          "base_uri": "https://localhost:8080/",
          "height": 882,
          "referenced_widgets": [
            "855b4986fd3b409990b4e9110fed1cbe",
            "15e50e12049d4cb6b2f292e19b62fe15",
            "e2e2ed86842844e0bedf29d4de243162",
            "f4b5eb8203c14f7db3b46c6b46edb1a6",
            "dccdebc4b18345708595563fb0982fb8",
            "85ad1e20f8fe4951a05a38c04dd95503",
            "84e7b4d070d24b39a9e330566dce72f4",
            "ba2d909803b6419f892764f57e55fe11",
            "5fdd066cdfb543e89da51f2971591a66",
            "f02db3f258f94916a897a8067f66fb21",
            "80a48330aa45463fb9eaee855a4cb03f"
          ]
        },
        "executionInfo": {
          "elapsed": 7933,
          "status": "ok",
          "timestamp": 1749118676045,
          "user": {
            "displayName": "Hakan Çobanoğlu",
            "userId": "12887805589343695815"
          },
          "user_tz": -180
        },
        "id": "KOytE9D5mKSx",
        "outputId": "d7ce181f-47b7-475d-d777-780af7b8882b"
      },
      "outputs": [
        {
          "data": {
            "application/vnd.jupyter.widget-view+json": {
              "model_id": "855b4986fd3b409990b4e9110fed1cbe",
              "version_major": 2,
              "version_minor": 0
            },
            "text/plain": [
              "model.safetensors:   0%|          | 0.00/499M [00:00<?, ?B/s]"
            ]
          },
          "metadata": {},
          "output_type": "display_data"
        },
        {
          "name": "stderr",
          "output_type": "stream",
          "text": [
            "Some weights of RobertaModel were not initialized from the model checkpoint at roberta-base and are newly initialized: ['pooler.dense.bias', 'pooler.dense.weight']\n",
            "You should probably TRAIN this model on a down-stream task to be able to use it for predictions and inference.\n"
          ]
        },
        {
          "data": {
            "text/plain": [
              "RobertaClass(\n",
              "  (l1): RobertaModel(\n",
              "    (embeddings): RobertaEmbeddings(\n",
              "      (word_embeddings): Embedding(50265, 768, padding_idx=1)\n",
              "      (position_embeddings): Embedding(514, 768, padding_idx=1)\n",
              "      (token_type_embeddings): Embedding(1, 768)\n",
              "      (LayerNorm): LayerNorm((768,), eps=1e-05, elementwise_affine=True)\n",
              "      (dropout): Dropout(p=0.1, inplace=False)\n",
              "    )\n",
              "    (encoder): RobertaEncoder(\n",
              "      (layer): ModuleList(\n",
              "        (0-11): 12 x RobertaLayer(\n",
              "          (attention): RobertaAttention(\n",
              "            (self): RobertaSdpaSelfAttention(\n",
              "              (query): Linear(in_features=768, out_features=768, bias=True)\n",
              "              (key): Linear(in_features=768, out_features=768, bias=True)\n",
              "              (value): Linear(in_features=768, out_features=768, bias=True)\n",
              "              (dropout): Dropout(p=0.1, inplace=False)\n",
              "            )\n",
              "            (output): RobertaSelfOutput(\n",
              "              (dense): Linear(in_features=768, out_features=768, bias=True)\n",
              "              (LayerNorm): LayerNorm((768,), eps=1e-05, elementwise_affine=True)\n",
              "              (dropout): Dropout(p=0.1, inplace=False)\n",
              "            )\n",
              "          )\n",
              "          (intermediate): RobertaIntermediate(\n",
              "            (dense): Linear(in_features=768, out_features=3072, bias=True)\n",
              "            (intermediate_act_fn): GELUActivation()\n",
              "          )\n",
              "          (output): RobertaOutput(\n",
              "            (dense): Linear(in_features=3072, out_features=768, bias=True)\n",
              "            (LayerNorm): LayerNorm((768,), eps=1e-05, elementwise_affine=True)\n",
              "            (dropout): Dropout(p=0.1, inplace=False)\n",
              "          )\n",
              "        )\n",
              "      )\n",
              "    )\n",
              "    (pooler): RobertaPooler(\n",
              "      (dense): Linear(in_features=768, out_features=768, bias=True)\n",
              "      (activation): Tanh()\n",
              "    )\n",
              "  )\n",
              "  (pre_classifier): Linear(in_features=768, out_features=768, bias=True)\n",
              "  (dropout): Dropout(p=0.3, inplace=False)\n",
              "  (classifier): Linear(in_features=768, out_features=2, bias=True)\n",
              ")"
            ]
          },
          "execution_count": 42,
          "metadata": {},
          "output_type": "execute_result"
        }
      ],
      "source": ["model = RobertaClass()\n", "model.to(device)"]
    },
    {
      "cell_type": "code",
      "execution_count": 43,
      "metadata": {
        "executionInfo": {
          "elapsed": 5,
          "status": "ok",
          "timestamp": 1749118688751,
          "user": {
            "displayName": "Hakan Çobanoğlu",
            "userId": "12887805589343695815"
          },
          "user_tz": -180
        },
        "id": "6GiwDhDMmP5g"
      },
      "outputs": [],
      "source": [
        "loss_function = torch.nn.CrossEntropyLoss()\n",
        "optimizer = torch.optim.Adam(params =  model.parameters(), lr=LEARNING_RATE)"
      ]
    },
    {
      "cell_type": "code",
      "execution_count": 44,
      "metadata": {
        "executionInfo": {
          "elapsed": 12,
          "status": "ok",
          "timestamp": 1749118703244,
          "user": {
            "displayName": "Hakan Çobanoğlu",
            "userId": "12887805589343695815"
          },
          "user_tz": -180
        },
        "id": "iu-zmKkSmSlP"
      },
      "outputs": [],
      "source": [
        "def calcuate_accuracy(preds, targets):\n",
        "    n_correct = (preds==targets).sum().item()\n",
        "    return n_correct"
      ]
    },
    {
      "cell_type": "code",
      "execution_count": 45,
      "metadata": {
        "executionInfo": {
          "elapsed": 5,
          "status": "ok",
          "timestamp": 1749119176125,
          "user": {
            "displayName": "Hakan Çobanoğlu",
            "userId": "12887805589343695815"
          },
          "user_tz": -180
        },
        "id": "028m57GXmV9Z"
      },
      "outputs": [],
      "source": [
        "def train(epoch):\n",
        "    tr_loss = 0\n",
        "    n_correct = 0\n",
        "    nb_tr_steps = 0\n",
        "    nb_tr_examples = 0\n",
        "    model.train()\n",
        "    for _,data in tqdm(enumerate(training_loader, 0)):\n",
        "        ids = data['ids'].to(device, dtype = torch.long)\n",
        "        mask = data['mask'].to(device, dtype = torch.long)\n",
        "        targets = data['targets'].to(device, dtype = torch.long)\n",
        "\n",
        "        outputs = model(ids, mask)\n",
        "        loss = loss_function(outputs, targets)\n",
        "        tr_loss += loss.item()\n",
        "        big_val, big_idx = torch.max(outputs.data, dim=1)\n",
        "        n_correct += calcuate_accuracy(big_idx, targets)\n",
        "\n",
        "        nb_tr_steps += 1\n",
        "        nb_tr_examples+=targets.size(0)\n",
        "\n",
        "        if _%5000==0:\n",
        "            loss_step = tr_loss/nb_tr_steps\n",
        "            accu_step = (n_correct*100)/nb_tr_examples\n",
        "            print(f\"Training Loss per 5000 steps: {loss_step}\")\n",
        "            print(f\"Training Accuracy per 5000 steps: {accu_step}\")\n",
        "\n",
        "        optimizer.zero_grad()\n",
        "        loss.backward()\n",
        "        optimizer.step()\n",
        "\n",
        "    print(f'The Total Accuracy for Epoch {epoch}: {(n_correct*100)/nb_tr_examples}')\n",
        "    epoch_loss = tr_loss/nb_tr_steps\n",
        "    epoch_accu = (n_correct*100)/nb_tr_examples\n",
        "    print(f\"Training Loss Epoch: {epoch_loss}\")\n",
        "    print(f\"Training Accuracy Epoch: {epoch_accu}\")\n",
        "\n",
        "    return epoch_accu, epoch_loss"
      ]
    },
    {
      "cell_type": "code",
      "execution_count": 46,
      "metadata": {
        "executionInfo": {
          "elapsed": 5,
          "status": "ok",
          "timestamp": 1749119179028,
          "user": {
            "displayName": "Hakan Çobanoğlu",
            "userId": "12887805589343695815"
          },
          "user_tz": -180
        },
        "id": "N3mGAJ6_mtT4"
      },
      "outputs": [],
      "source": [
        "def valid(model, testing_loader):\n",
        "    model.eval()\n",
        "    n_correct = 0; n_wrong = 0; total = 0; tr_loss=0; nb_tr_steps=0; nb_tr_examples=0\n",
        "    with torch.no_grad():\n",
        "        for _, data in tqdm(enumerate(testing_loader, 0)):\n",
        "            ids = data['ids'].to(device, dtype = torch.long)\n",
        "            mask = data['mask'].to(device, dtype = torch.long)\n",
        "            targets = data['targets'].to(device, dtype = torch.long)\n",
        "            outputs = model(ids, mask).squeeze()\n",
        "            loss = loss_function(outputs, targets)\n",
        "            tr_loss += loss.item()\n",
        "            big_val, big_idx = torch.max(outputs.data, dim=1)\n",
        "            n_correct += calcuate_accuracy(big_idx, targets)\n",
        "\n",
        "            nb_tr_steps += 1\n",
        "            nb_tr_examples+=targets.size(0)\n",
        "\n",
        "            if _%5000==0:\n",
        "                loss_step = tr_loss/nb_tr_steps\n",
        "                accu_step = (n_correct*100)/nb_tr_examples\n",
        "                print(f\"Validation Loss per 100 steps: {loss_step}\")\n",
        "                print(f\"Validation Accuracy per 100 steps: {accu_step}\")\n",
        "    epoch_loss = tr_loss/nb_tr_steps\n",
        "    epoch_accu = (n_correct*100)/nb_tr_examples\n",
        "    print(f\"Validation Loss Epoch: {epoch_loss}\")\n",
        "    print(f\"Validation Accuracy Epoch: {epoch_accu}\")\n",
        "\n",
        "    return epoch_accu, epoch_loss\n"
      ]
    },
    {
      "cell_type": "code",
      "execution_count": 47,
      "metadata": {
        "colab": {
          "base_uri": "https://localhost:8080/"
        },
        "executionInfo": {
          "elapsed": 3952003,
          "status": "ok",
          "timestamp": 1749124176439,
          "user": {
            "displayName": "Hakan Çobanoğlu",
            "userId": "12887805589343695815"
          },
          "user_tz": -180
        },
        "id": "fWyKoeDGoKLQ",
        "outputId": "1044dc32-c9e4-446d-b599-5b62153556d9"
      },
      "outputs": [
        {
          "name": "stderr",
          "output_type": "stream",
          "text": ["\r", "0it [00:00, ?it/s]"]
        },
        {
          "name": "stdout",
          "output_type": "stream",
          "text": [
            "Training Loss per 5000 steps: 0.708359956741333\n",
            "Training Accuracy per 5000 steps: 37.5\n"
          ]
        },
        {
          "name": "stderr",
          "output_type": "stream",
          "text": ["4959it [30:24,  2.72it/s]\n"]
        },
        {
          "name": "stdout",
          "output_type": "stream",
          "text": [
            "The Total Accuracy for Epoch 0: 91.93767962486764\n",
            "Training Loss Epoch: 0.20536924219603123\n",
            "Training Accuracy Epoch: 91.93767962486764\n"
          ]
        },
        {
          "name": "stderr",
          "output_type": "stream",
          "text": ["1it [00:00,  8.39it/s]"]
        },
        {
          "name": "stdout",
          "output_type": "stream",
          "text": [
            "Validation Loss per 100 steps: 0.5761903524398804\n",
            "Validation Accuracy per 100 steps: 75.0\n"
          ]
        },
        {
          "name": "stderr",
          "output_type": "stream",
          "text": ["2479it [02:31, 16.31it/s]\n"]
        },
        {
          "name": "stdout",
          "output_type": "stream",
          "text": [
            "Validation Loss Epoch: 0.15956571337695752\n",
            "Validation Accuracy Epoch: 94.1206131504639\n",
            "Epoch 0 done ✓\n"
          ]
        },
        {
          "name": "stderr",
          "output_type": "stream",
          "text": ["1it [00:00,  6.10it/s]"]
        },
        {
          "name": "stdout",
          "output_type": "stream",
          "text": [
            "Training Loss per 5000 steps: 0.05775928869843483\n",
            "Training Accuracy per 5000 steps: 100.0\n"
          ]
        },
        {
          "name": "stderr",
          "output_type": "stream",
          "text": ["4959it [30:23,  2.72it/s]\n"]
        },
        {
          "name": "stdout",
          "output_type": "stream",
          "text": [
            "The Total Accuracy for Epoch 1: 95.27555084959411\n",
            "Training Loss Epoch: 0.13091914657941703\n",
            "Training Accuracy Epoch: 95.27555084959411\n"
          ]
        },
        {
          "name": "stderr",
          "output_type": "stream",
          "text": ["1it [00:00,  9.37it/s]"]
        },
        {
          "name": "stdout",
          "output_type": "stream",
          "text": [
            "Validation Loss per 100 steps: 0.0034266584552824497\n",
            "Validation Accuracy per 100 steps: 100.0\n"
          ]
        },
        {
          "name": "stderr",
          "output_type": "stream",
          "text": ["2479it [02:31, 16.34it/s]"]
        },
        {
          "name": "stdout",
          "output_type": "stream",
          "text": [
            "Validation Loss Epoch: 0.17231367026281852\n",
            "Validation Accuracy Epoch: 93.87858007260992\n",
            "Epoch 1 done ✓\n",
            "Early stopping triggered\n",
            "Model: best weights protected -> (val_loss=0.1596)\n"
          ]
        },
        {
          "name": "stderr",
          "output_type": "stream",
          "text": ["\n"]
        }
      ],
      "source": [
        "import copy\n",
        "train_losses, val_losses = [], []\n",
        "train_accs,   val_accs   = [], []\n",
        "\n",
        "EPOCHS     = 4\n",
        "PATIENCE   = 1\n",
        "MONITOR    = \"val_loss\"\n",
        "MODE       = \"min\"\n",
        "\n",
        "best_metric   = float(\"inf\") if MODE == \"min\" else -float(\"inf\")\n",
        "patience_cnt  = 0\n",
        "best_weights  = None\n",
        "\n",
        "for ep in range(EPOCHS):\n",
        "    tr_acc, tr_loss = train(ep)\n",
        "    val_acc, val_loss = valid(model, testing_loader)\n",
        "\n",
        "    train_losses.append(tr_loss)\n",
        "    val_losses.append(val_loss)\n",
        "    train_accs.append(tr_acc)\n",
        "    val_accs.append(val_acc)\n",
        "\n",
        "    print(f\"Epoch {ep} done ✓\")\n",
        "\n",
        "    current = val_loss if MONITOR == \"val_loss\" else val_acc\n",
        "    better  = (current < best_metric) if MODE == \"min\" else (current > best_metric)\n",
        "\n",
        "    if better:\n",
        "        best_metric  = current\n",
        "        patience_cnt = 0\n",
        "        best_weights = copy.deepcopy(model.state_dict())\n",
        "    else:\n",
        "        patience_cnt += 1\n",
        "\n",
        "        if patience_cnt >= PATIENCE:\n",
        "            print(\"Early stopping triggered\")\n",
        "            break\n",
        "if best_weights is not None:\n",
        "    model.load_state_dict(best_weights)\n",
        "    print(f\"Model: best weights protected -> ({MONITOR}={best_metric:.4f})\")\n"
      ]
    },
    {
      "cell_type": "code",
      "execution_count": 53,
      "metadata": {
        "colab": {
          "base_uri": "https://localhost:8080/",
          "height": 803
        },
        "executionInfo": {
          "elapsed": 247,
          "status": "ok",
          "timestamp": 1749124599409,
          "user": {
            "displayName": "Hakan Çobanoğlu",
            "userId": "12887805589343695815"
          },
          "user_tz": -180
        },
        "id": "zlR2dOQZqQfq",
        "outputId": "b7072eaa-1aa9-455f-cacc-b586be8a4aad"
      },
      "outputs": [
        {
          "data": {
            "image/png": "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\n",
            "text/plain": ["<Figure size 800x400 with 1 Axes>"]
          },
          "metadata": {},
          "output_type": "display_data"
        },
        {
          "data": {
            "image/png": "iVBORw0KGgoAAAANSUhEUgAAArwAAAGJCAYAAABo5eDAAAAAOnRFWHRTb2Z0d2FyZQBNYXRwbG90bGliIHZlcnNpb24zLjEwLjAsIGh0dHBzOi8vbWF0cGxvdGxpYi5vcmcvlHJYcgAAAAlwSFlzAAAPYQAAD2EBqD+naQAAcXRJREFUeJzt3Xd8VFX+//HXpBcSICSkQEinSJXeiwmiuLiwKEVXmn2lLbbF/a7CorI/KyCIiopKk7Ug4KKU0BEQQVBEMAk1hBZKElInM/f3x8BASAIJJJkQ3s/HIw+ZM+fe87lDhDcn555rMgzDQERERESkinJydAEiIiIiIuVJgVdEREREqjQFXhERERGp0hR4RURERKRKU+AVERERkSpNgVdEREREqjQFXhERERGp0hR4RURERKRKU+AVERERkSpNgVdEbjrDhg0jPDzc0WUU65NPPsFkMnHw4EF7W/fu3enevfs1j127di0mk4m1a9eWaU0mk4kJEyaU6TlFRG4WCrwiUmZMJlOJvso6zF0vs9mMv78/nTt3LraPYRiEhobSsmXLCqzs+ixbtqxSh9rnnnsOk8nEwIEDHV2KiNxiXBxdgIhUHXPmzCnw+rPPPmPlypWF2hs1anRD48yaNQur1XpD5wBwdXXl/vvv5/333+fQoUOEhYUV6rN+/XqSk5P5+9//fkNjrVix4oaOL4lly5YxY8aMIkNvdnY2Li6O+yPfMAwWLFhAeHg4S5cuJSMjAx8fH4fVIyK3FgVeESkzf/3rXwu83rJlCytXrizUfqWsrCy8vLxKPI6rq+t11VeUBx98kPfee48FCxbwj3/8o9D78+fPx8nJiUGDBt3QOG5ubjd0/I3y8PBw6Phr164lOTmZ1atX06tXL77++muGDh3q0JqKU9rvRxGp/LSkQUQqVPfu3WnSpAnbt2+na9eueHl58cILLwCwePFi7rnnHkJCQnB3dycqKopJkyZhsVgKnOPKNbwHDx7EZDLxxhtv8MEHHxAVFYW7uztt2rRh27ZtV62nU6dOhIeHM3/+/ELvmc1mvvzyS3r06EFISAi//PILw4YNIzIyEg8PD4KCghgxYgSnT58u0XVfuYY3OTmZvn374u3tTe3atfn73/9Obm5uoWM3bNjA/fffT7169XB3dyc0NJS///3vZGdnF/hMZsyYARRcWnJRUWt4f/75Z+6++258fX2pVq0asbGxbNmypUCfi+uRN23axLhx4wgICMDb25t+/fpx6tSpa173RfPmzeO2226jR48exMXFMW/evCL7HT16lIcfftj+PRAREcGTTz5JXl6evc+5c+f4+9//Tnh4OO7u7tStW5chQ4aQmppaoObL11BD0eujy+L7EWDr1q307t2bmjVr4u3tTbNmzZg6dSoAs2fPxmQy8fPPPxc67tVXX8XZ2ZmjR4+W+LMUkdLTDK+IVLjTp09z9913M2jQIP76178SGBgI2IJKtWrVGDduHNWqVWP16tW8+OKLpKen8/rrr1/zvPPnzycjI4PHH38ck8nEa6+9xl/+8hf2799f7KywyWTigQce4NVXX+W3336jcePG9ve+//57zpw5w4MPPgjAypUr2b9/P8OHDycoKIjffvuNDz74gN9++40tW7YUCJjXkp2dTWxsLIcPH2b06NGEhIQwZ84cVq9eXajvF198QVZWFk8++SS1atXixx9/5J133iE5OZkvvvgCgMcff5yUlJQil5AU5bfffqNLly74+vry3HPP4erqyvvvv0/37t1Zt24d7dq1K9B/1KhR1KxZk5deeomDBw8yZcoURo4cycKFC685Vm5uLl999RVPP/00AIMHD2b48OEcP36coKAge7+UlBTatm3LuXPneOyxx2jYsCFHjx7lyy+/JCsrCzc3N86fP0+XLl34/fffGTFiBC1btiQ1NZUlS5aQnJyMv7//Neu50o1+P65cuZI//elPBAcHM2bMGIKCgvj999/59ttvGTNmDPfddx9PPfUU8+bN4/bbby8w9rx58+jevTt16tQpdd0iUgqGiEg5eeqpp4wr/5jp1q2bARjvvfdeof5ZWVmF2h5//HHDy8vLyMnJsbcNHTrUCAsLs78+cOCAARi1atUyzpw5Y29fvHixARhLly69ap2//fabARjjx48v0D5o0CDDw8PDSEtLK7a+BQsWGICxfv16e9vs2bMNwDhw4ECB6+7WrZv99ZQpUwzA+O9//2tvy8zMNKKjow3AWLNmjb29qHEnT55smEwm49ChQ/a2oj7viwDjpZdesr/u27ev4ebmZiQlJdnbUlJSDB8fH6Nr166FriUuLs6wWq329r///e+Gs7Ozce7cuSLHu9yXX35pAEZCQoJhGIaRnp5ueHh4GG+//XaBfkOGDDGcnJyMbdu2FTrHxbFffPFFAzC+/vrrYvsU9fkbhmGsWbOm0Gd7o9+P+fn5RkREhBEWFmacPXu2yHoMwzAGDx5shISEGBaLxd62Y8cOAzBmz55daBwRKVta0iAiFc7d3Z3hw4cXavf09LT/OiMjg9TUVLp06UJWVhZ79+695nkHDhxIzZo17a+7dOkCwP79+6963G233cbtt9/O559/bm/LzMxkyZIl/OlPf8LX17dQfTk5OaSmptK+fXsAduzYcc36Lrds2TKCg4O577777G1eXl489thjhfpePm5mZiapqal07NgRwzCK/DH5tVgsFlasWEHfvn2JjIy0twcHB/PAAw+wceNG0tPTCxzz2GOPFZjB7tKlCxaLhUOHDl1zvHnz5tG6dWuio6MB8PHx4Z577imwrMFqtfLNN9/Qp08fWrduXegcF8f+6quvaN68Of369Su2T2ndyPfjzz//zIEDBxg7diw1atQotp4hQ4aQkpLCmjVr7G3z5s3D09OT/v37X1fdIlJyCrwiUuHq1KlT5E1cv/32G/369aN69er4+voSEBBgv+EtLS3tmuetV69egdcXw+/Zs2cB2zKC48ePF/i66MEHH+TAgQP88MMPAHzzzTdkZWXZlzMAnDlzhjFjxhAYGIinpycBAQFERESUuL7LHTp0iOjo6EIhrUGDBoX6Hj58mGHDhuHn50e1atUICAigW7du1zUuwKlTp8jKyipyrEaNGmG1Wjly5EiB9mt9tsU5d+4cy5Yto1u3biQmJtq/OnXqxE8//cQff/xhryk9PZ0mTZpc9XxJSUnX7FNaN/L9mJSUBHDNmnr27ElwcLA95FutVhYsWMCf//xn7VYhUgG0hldEKtzlM2cXnTt3jm7duuHr68u///1voqKi8PDwYMeOHTz//PMl2obM2dm5yHbDMABYuHBhoZm8i+8NHjyY5557jvnz59OxY0fmz59PzZo16d27t73vgAED+OGHH3j22Wdp0aIF1apVw2q1ctddd5XJNmlFsVgs9OzZkzNnzvD888/TsGFDvL29OXr0KMOGDSu3ca90rc+2OF988QW5ubm8+eabvPnmm4XenzdvHhMnTiyTGi8qbqa3qJvNoPy+Hy/n7OzMAw88wKxZs3j33XfZtGkTKSkp19zBRETKhgKviFQKa9eu5fTp03z99dd07drV3n7gwIEyG6NXr16sXLmyyPdCQkLo0aMHX3zxBf/6179YuXIlw4YNs8/8nT17lvj4eCZOnMiLL75oPy4hIeG6agkLC2P37t0YhlEgoO3bt69Av19//ZU//viDTz/9lCFDhtjbi7qOkv5IPyAgAC8vr0JjAezduxcnJydCQ0NLeilXNW/ePJo0acJLL71U6L3333+f+fPnM3HiRAICAvD19WX37t1XPV9UVNQ1+1ycfT537lyB9pIsv7iopN+PUVFRAOzevZu4uLirnnPIkCG8+eabLF26lO+++46AgAB69epV4ppE5PppSYOIVAoXZxAvnzHMy8vj3XffLbMxgoODiYuLK/B1uQcffJCTJ0/y+OOPYzabCyxnKKo+gClTplxXLb179yYlJYUvv/zS3paVlcUHH3xQoF9R4xqGYd/y6nLe3t5A4aB3JWdnZ+68804WL15cYOuuEydOMH/+fDp37mxft3wjjhw5wvr16xkwYAD33Xdfoa/hw4eTmJjI1q1bcXJyom/fvixdupSffvqp0LkuXn///v3ZtWsXixYtKrbPxRC6fv16+3sWi6XQZ3s1Jf1+bNmyJREREUyZMqXQ537l90qzZs1o1qwZH374IV999RWDBg1y6MNARG4l+j9NRCqFjh07UrNmTYYOHcro0aMxmUzMmTPnmj8yL0v9+/fnb3/7G4sXLyY0NLTAzJ6vry9du3bltddew2w2U6dOHVasWHHdM9CPPvoo06dPZ8iQIWzfvp3g4GDmzJlT6IEHDRs2JCoqimeeeYajR4/i6+vLV199VeTa2VatWgEwevRoevXqhbOzc7EPzHj55ZdZuXIlnTt35m9/+xsuLi68//775Obm8tprr13XNV1p/vz5GIbBvffeW+T7vXv3xsXFhXnz5tGuXTteffVVVqxYQbdu3Xjsscdo1KgRx44d44svvmDjxo3UqFGDZ599li+//JL777+fESNG0KpVK86cOcOSJUt47733aN68OY0bN6Z9+/aMHz+eM2fO4Ofnx+eff05+fn6Jay/p96OTkxMzZ86kT58+tGjRguHDhxMcHMzevXv57bffWL58eYH+Q4YM4ZlnngEKP6hFRMpRxW8MISK3iuK2JWvcuHGR/Tdt2mS0b9/e8PT0NEJCQoznnnvOWL58eaGtpIrbluz1118vdE6u2I7rWu6//34DMJ577rlC7yUnJxv9+vUzatSoYVSvXt24//77jZSUlEJjlGRbMsMwjEOHDhn33nuv4eXlZfj7+xtjxowxvv/++0LXu2fPHiMuLs6oVq2a4e/vbzz66KPGrl27Cm1plZ+fb4waNcoICAgwTCZTgc++qM9hx44dRq9evYxq1aoZXl5eRo8ePYwffvihQJ+L13LlVmFFbfF1paZNmxr16tUr9n3DMIzu3bsbtWvXNsxms/0zGTJkiBEQEGC4u7sbkZGRxlNPPWXk5ubajzl9+rQxcuRIo06dOoabm5tRt25dY+jQoUZqaqq9T1JSkhEXF2e4u7sbgYGBxgsvvGCsXLmyyG3JbvT70TAMY+PGjUbPnj0NHx8fw9vb22jWrJnxzjvvFDrnsWPHDGdnZ6N+/fpX/VxEpGyZDKMCp09ERERuYampqQQHB/Piiy/yr3/9y9HliNwytIZXRESkgnzyySdYLBYeeughR5cickvRGl4REZFytnr1avbs2cMrr7xC3759CQ8Pd3RJIrcULWkQEREpZ927d+eHH36gU6dOzJ07lzp16ji6JJFbigKviIiIiFRpWsMrIiIiIlWaAq+IiIiIVGm6aa0IVquVlJQUfHx8SvyoThERERGpOIZhkJGRQUhICE5OV5/DVeAtQkpKSpk9R15EREREys+RI0eoW7fuVfso8BbBx8cHsH2AZfE8+Wsxm82sWLGCO++8E1dX13IfT0RERKSsVXSeSU9PJzQ01J7brkaBtwgXlzH4+vpWWOD18vLC19dXgVdERERuSo7KMyVZfqqb1kRERESkSlPgFREREZEqTYFXRERERKo0reG9ToZhkJ+fj8ViueFzmc1mXFxcyMnJKZPzSdGcnZ1xcXHRVnMiIiK3GAXe65CXl8exY8fIysoqk/MZhkFQUBBHjhxRGCtnXl5eBAcH4+bm5uhSREREpIIo8JaS1WrlwIEDODs7ExISgpub2w2HVKvVyvnz56lWrdo1N06W62MYBnl5eZw6dYoDBw4QExOjz1pEROQWocBbSnl5eVitVkJDQ/Hy8iqTc1qtVvLy8vDw8FAIK0eenp64urpy6NAh++ctIiIiN85iNdh64AzbU03UOnCGDtG1cXaqPD+1VuC9TgqmNyf9vomIiJSt73cfY+LSPRxLywGc+SzhJ4Kre/BSn9u4q0mwo8sDtEuDiIiIiFyn73cf48m5Oy6E3UuOp+Xw5NwdfL/7mIMqK0iBV0RERERKzWI1mLh0D0YR711sm7h0DxZrUT0qlgKvg1isBpuTTrN451G27D9dKb4ZSis8PJwpU6Y4ugwRERFxgB8PnCk0s3s5AziWlsOPB85UXFHF0BpeByi41sUm0MeNl/o0pnezkDIf71q7SLz00ktMmDCh1Ofdtm0b3t7e11mViIiI3KwMw2DtHydL1PdkRvGhuKIo8Fawi2tdrpzPPZmRx1Pzf2amk6nMF3gfO3Zp/czChQt58cUX2bdvn72tWrVq9l8bhoHFYsHF5drfGgEBAWVap4iIiFRuhmGwZt9Jpq5KYFdyWomOqe3j+F2RtKShDBiGQVZe/jW/MnLMvLTkt6uudZmwZA8ZOeYSnc8wSrYMIigoyP5VvXp1TCaT/fXevXvx8fHhu+++o1WrVri7u7Nx40aSkpL485//TGBgINWqVaNNmzasWrWqwHmvXNJgMpn48MMP6devH15eXsTExLBkyZKr1jZnzhxat26Nj48PQUFBPPDAA5w8WfBfjL/99ht/+tOf8PX1xcfHhy5dupCUlGR//+OPP6Zx48a4u7sTHBzMyJEjS/S5iIiISMkYhsGqPSf484xNjPjkJ3Ylp+HuYsLbzbnYY0xAcHUP2kb4VVyhxdAMbxnINlu47cXlN3weAzienkPTCStK1H/Pv3vh5VY2v4X/+Mc/eOONN4iMjKRmzZocOXKE3r1788orr+Du7s5nn31Gnz592LdvH/Xq1Sv2PBMnTuS1117j9ddf55133uHBBx/k0KFD+PkV/c1uNpuZNGkSDRo04OTJk4wbN45hw4axbNkyAI4ePUrXrl3p3r07q1evxtfXl02bNpGfnw/AzJkzGTduHP/5z3+4++67SUtLY9OmTWXymYiIiNzqDMNg1e8nmRr/B7uPpgPg6erMkA5hPNo1kp8OnuHJuTtsfS877uJiypf63FYp9uNV4BUA/v3vf9OzZ0/7az8/P5o3b25/PWnSJBYtWsSSJUuuOoM6bNgwBg8eDMCrr77KtGnT+PHHH7nrrruK7D9ixAj7ryMjI5k2bRpt2rSxP3luxowZVK9enc8//xxXV1cA6tevbz/m5Zdf5umnn2bMmDH2tjZt2pTy6kVERORyhmGwYs8JpsUn8FuKLeh6uTkzpEM4j3aJoFY1dwDuahLMzL+2LHRvUlAl24dXgbcMeLo6s+ffva7Z78cDZxg2e9s1+30yvE2Jpv89XYv/MUJptW7dusDr8+fPM2HCBP73v/9x7Ngx8vPzyc7O5vDhw1c9T7Nmzey/9vb2xtfXt9AShctt376dCRMmsGvXLs6ePYvVagXg8OHD3HbbbezcuZMuXbrYw+7lTp48SUpKCrGxsaW5VBERESmG1WqwYs9xpsYn8vsxW9D1dnNmSMdwHu0SiZ+3W6Fj7moSTM/bgticeJIVG7ZyZ5d2etJaVWQymUq0tKBLTADB1T04npZT5DpeE7Z/EXWJCajwb5Ird1t45plnWLlyJW+88QbR0dF4enpy3333kZeXd9XzXBlMTSaTPcReKTMzk169etGrVy/mzZtHQEAAhw8fplevXvZxPD09ix3rau+JiIhIyVmtBst/O87U+AT2Hs8AbEF3WKdwHukcSc0igu7lnJ1MtIvw4/TvBu0i/CpV2AUF3grl7GTipT638eTcHZio3GtdNm3axLBhw+jXrx9gm/E9ePBgmY6xd+9eTp8+zX/+8x9CQ0MB+Omnnwr0adasGZ9++ilms7lQmPbx8SE8PJz4+Hh69OhRprWJiIjcCqxWg+92H2dafAL7TtiCbjV3F4Z1DOfhzhHXDLo3C+3SUMEurnUJql5wi47aPm7MeOD2SrPWJSYmhq+//pqdO3eya9cuHnjggWJnaq9XvXr1cHNz45133mH//v0sWbKESZMmFegzcuRI0tPTGTRoED/99BMJCQnMmTPHvq3ahAkTePPNN5k2bRoJCQns2LGDd955p0zrFBERqWosVoOlu1K4a+p6npq/g30nMvBxd2H0HdFsfL4Hz/RqUGXCLmiG1yEurnX58cAZTmbkEFDNjQZ+LtSsUd3Rpdm99dZbjBgxgo4dO+Lv78/zzz9Penp6mY4REBDAJ598wgsvvMC0adNo2bIlb7zxBvfee6+9T61atVi9ejXPPvss3bp1w9nZmRYtWtCpUycAhg4dSk5ODm+//TbPPPMM/v7+3HfffWVap4iISFVhsRr879djTItPIPHkeQB8PFwY0SmCEZ0iqO5V+J6ZqsBklHQz11tIeno61atXJy0tDV9f3wLv5eTkcODAASIiIvDwKJuNlK1WK+np6fj6+uLkpEn38lQev38iIiKVncVq8O0vKUyLTyDpVCYAvh4ujOgcwfBOEVT3vPGgazabWbZsGb179y7yZvOydrW8diXN8IqIiIhUUfkWK0t/SeGd1YnsvxB0q3u68nDnCIZ1CsfXo2rO6F5JgVdERESkism3WFmyyxZ0D6Tagm4NL1ce6RzB0I7h+NwiQfciBV4RERGRKiLfYuWbnSlMX53AwdNZgC3oPtolkiEdwm65oHuRAq+IiIjITc5ssbLo56PMWJPIoQtBt6aXK492jWRIh3Cqud/ake/WvnoRERGRm5jZYmXRjqNMX5PI4TO2oOvn7cZjXSN5qH0Y3rd40L1In4KIiIjITSYv38rXO5KZsTaRI2eyAah1Iej+VUG3EH0aIiIiIjeJvHwrX25PZsaaRI6eswVd/2puPN41igfb18PLTdGuKPpURERERCq5vHwrX2w/wrtrki4Luu480S2SB9uF4enm7OAKKzeHPuUgIyODsWPHEhYWhqenJx07dmTbtm3294cNG4bJZCrwddddd13zvDNmzCA8PBwPDw/atWvHjz/+WJ6XISIiIlIucvMtzNlyiO6vr+Gfi3Zz9Fw2AT7u/OtPt7HhuR480iVSYbcEHDrD+8gjj7B7927mzJlDSEgIc+fOJS4ujj179lCnTh0A7rrrLmbPnm0/xt3d/arnXLhwIePGjeO9996jXbt2TJkyhV69erFv3z5q165drtdTIueOQNbpgm2GgXPmecisBt7+UCPUMbVdQ/fu3WnRogVTpkwBIDw8nLFjxzJ27NhijzGZTCxatIi+fftWSI0iIiJVQY7Zwn9/OsLMtUkcS8sBoLaPO092j2Jw23p4uCrklobDAm92djZfffUVixcvpmvXrgBMmDCBpUuXMnPmTF5++WXAFnCDgoJKfN633nqLRx99lOHDhwPw3nvv8b///Y+PP/6Yf/zjH2V/IaVx7ghMbwX5uQWanQCfiy9c3GHk9jINvX369MFsNvP9998Xem/Dhg107dqVXbt20axZs1Kdd9u2bXh7e5dVmSIiIre8HLOFhdtsQfd4ui3oBvl68GT3KAa2CVXQvU4OC7z5+flYLBY8PDwKtHt6erJx40b767Vr11K7dm1q1qzJHXfcwcsvv0ytWrWKPGdeXh7bt29n/Pjx9jYnJyfi4uLYvHlzsbXk5uaSm3sphKanpwO2Z0KbzeYCfc1mM4ZhYLVasVqtJb9ggMxUnK4Iu4Xk52LNTAXfOqU791UMHz6c+++/n8OHD1O3bt0C73388ce0bt2aJk2alOh6Ll47YP99uNZx1/VZlROr1YphGJjNZpyd9YeGiIhUDjlmCwt/SmbWhoOcyLBlhUBfd57oGsH9Levg7uoMWDGbK8ffp0W5mJmuzE7lPV5JOCzw+vj40KFDByZNmkSjRo0IDAxkwYIFbN68mejoaMC2nOEvf/kLERERJCUl8cILL3D33XezefPmIsNKamoqFouFwMDAAu2BgYHs3bu32FomT57MxIkTC7WvWLECLy+vAm0uLi4EBQVx/vx58vLybI2GAfnZ17xm57TUSzO5V5GZlorF7fi1O7p4gsl0zW5du3bF39+fDz74gGeeecbefv78eb788ksmTpzIwYMHefbZZ9m8eTPnzp0jPDyccePGcd9999n75+fnk5eXZ/8HQbNmzXjyySd58sknAUhKSmLUqFHs2LGD8PBwJk+eDNhm8y8ec6VVq1bxxhtv8Pvvv+Ps7EybNm34z3/+Q0REhL3P0aNHefHFF1m9ejV5eXnUr1+f119/ndatWwPw3Xff8frrr7Nnzx68vb3p0KEDc+fOLXK8vLw8srOzWb9+Pfn5+df87ERERMpTngV+OGki/qgT6Wbb3+k13Ax61rHSvnYmLqd3E79yt4OrLJ2VK1dWyDhZWVkl7uvQNbxz5sxhxIgR1KlTB2dnZ1q2bMngwYPZvn07AIMGDbL3bdq0Kc2aNSMqKoq1a9cSGxtbZnWMHz+ecePG2V+np6cTGhrKnXfeia+vb4G+OTk5HDlyhGrVql2anc7LxOk/jcqsHp//3nftToD1H8ngVrIlBUOGDOHzzz9n4sSJmC6E5K+++gqLxcLw4cM5f/487du355///Ce+vr4sW7aMJ554giZNmtC2bVvAFvbd3Nzsn4mTkxMeHh74+vpitVoZNmwYgYGBbN68mbS0NPtn6unpWehzvMgwDJ555hmaNWvG+fPneemllxg6dCg7duzAycmJ8+fPc++991KnTh0WL15MUFAQO3bssJ/zf//7Hw899BAvvPACc+bMIS8vj++++67Y8XJycvD09KRr166FfrogIiJSUbLzLHz+UzKzNhzg1HnbBFpIdQ+e6BbBX26vg7uLQ/cVuC5ms5mVK1fSs2dPXF3L/xHGxU2mFcWhgTcqKop169aRmZlJeno6wcHBDBw4kMjIyCL7R0ZG4u/vT2JiYpGB19/fH2dnZ06cOFGg/cSJE1ddB+zu7l7kzXCurq6FfsMsFgsmkwknJyecnC58Mzo55pvSycmpxGM//PDDvPHGG2zYsIHu3bsD8Omnn9K/f39q1qxJzZo1efbZZ+39R48ezYoVK/jyyy9p3769vf3itV/5etWqVezdu5fly5cTEhICwKuvvsrdd99d8LO6wv3331/g9ezZswkICGDv3r00adKEzz//nFOnTrFt2zb8/PwAqF+/vr3/5MmTGTRoEP/+97/tbbfffnuxn4OTkxMmk6nI31sREZHylpWXz7wth3l//X5Sz9uWLtSp4clTPaK5r1Vd3G7CoHulivo7tjRjVIp9eL29vfH29ubs2bMsX76c1157rch+ycnJnD59muDg4CLfd3Nzo1WrVsTHx9t3BbBarcTHxzNy5MjyKh9cveCFlGv3O/4LfHztbdUY8T0EleAGMleva/e5oGHDhnTs2JGPP/6Y7t27k5iYyIYNG+xB0WKx8Oqrr/Lf//6Xo0ePkpeXR25ubqElHcX5/fffCQ0NtYddgA4dOlzzuISEBF588UW2bt1Kamqqfa3v4cOHadKkCTt37uT222+3h90r7dy5k0cffbRENYqIiDhKVl4+czYfYtaG/aRemNGtW9OTkT2i+UvLqhF0KzOHBt7ly5djGAYNGjQgMTGRZ599loYNG9p/xD5x4kT69+9PUFAQSUlJPPfcc0RHR9OrVy/7OWJjY+nXr5890I4bN46hQ4fSunVr2rZty5QpU8jMzLTv2lAuTKaSLS1w8SzZ+Vw8S7xUoTQefvhhRo0axYwZM5g9ezZRUVF069YNgNdff52pU6cyZcoUmjZtire3N2PHjr20Trmc9OnTh7CwMGbNmkVISAhWq5UmTZrYx/X0vPpndq33RUREHCkzN585Ww4xa/1+Tmfa/m4L9fNkVI8Y+rWsg6uzgm5FcGjgTUtLY/z48SQnJ+Pn50f//v155ZVXcHV1JT8/n19++YVPP/2Uc+fOERISwp133smkSZMKLD9ISkoiNTXV/nrgwIGcOnWKF198kePHj9OiRQu+//77Qjey3YoGDBjAmDFjmD9/Pp999hlPPvmkfT3vpk2b+POf/8xf//pXwDYz/scff3DbbbeV6NyNGjXiyJEjHDt2zD4Dv2XLlqsec/r0afbt28esWbPo0qULQIEdOsB2Y9yHH37ImTNnipzlbdasGfHx8eX7DxoREZFSOp+bz2ebD/LhhgOcuRB0w2p58VSPaPrdrqBb0RwaeAcMGMCAAQOKfM/T05Ply5df8xwHDx4s1DZy5MjyXcJwvbxq2fbZvdrWZC7utn7loFq1agwcOJDx48eTnp7OsGHD7O/FxMTw5Zdf8sMPP1CzZk3eeustTpw4UeLAGxcXR/369Rk6dCivv/466enp/POf/7zqMTVr1qRWrVp88MEHBAcHc/jw4UJ7JQ8ePJhXX32Vvn37MnnyZIKDg/n5558JCQmhQ4cOvPTSS8TGxhIVFcWgQYPIz89n2bJlPP/886X+fERERG5URo6ZzzYf4sMN+zmbZds2K7yWFyPviKFvixBcFHQdolKs4b1l1Ai1PVTiiietWQ2DzMzzeHtXw6mcn7T28MMP89FHH9G7d+8C623/7//+j/3799OrVy+8vLx47LHH6Nu3L2lpaSU6r5OTE4sWLeLhhx+mbdu2hIeHM23atKs+CtrJyYnPP/+c0aNH06RJExo0aMC0adPsN9WBbV32ihUrePrpp+nduzf5+fncdtttzJgxA7A9/e2LL75g0qRJ/Oc//8HX19f+IBMREZGKkpFj5tMfDvLhxgOcuxB0I/y9GXVHNPc2V9B1NJNhGIaji6hs0tPTqV69OmlpaUVuS3bgwAEiIiLKbFsrq9VKeno6vr6+xe5mIGWjPH7/RETk1pWeY+aTTQf5aOMB0rJtQTfS35tRsdH0aXZrBV2z2cyyZcvo3bt3hW1LVlxeu5JmeEVERERKKS3bzOxNB/h44wHSc2wPMooK8GZ0bAx/ahaCs9O1HwwlFUeBV0RERKSE0rLNfLzxAB9vOkDGhaAbXbsao2NjuKdpsIJuJaXAKyIiInINaVlmPtq4n9mbDpKRawu6MReCbm8F3UpPgVdERESkGOey8vho4wE+uSzoNgj0YXRsDHc3CcJJQfemoMB7nXSv381Jv28iIlISZzPz+HDjfj794RDnLwTdhkE+jImNoVdjBd2bjQJvKV286zArK0tP+boJZWVlAaV7/raIiNw6zmTmMWvDfj774SCZeRYAGgX7MiY2mjtvU9C9WSnwlpKzszM1atTg5MmTAHh5edmfVna9rFYreXl55OTkaFuycmIYBllZWZw8eZIaNWrg7Ozs6JJERKQSOX0+l1kbDvDZ5oNkXQi6twX7MiYuhp6NAhV0b3IKvNchKCgIwB56b5RhGGRnZ+Pp6XnD4VmurkaNGvbfPxERkdTzucxav5/PNh8i22wLuo1DfBkbV5+4RrX193IVocB7HUwmE8HBwdSuXRuz2XzD5zObzaxfv56uXbvqR+3lyNXVVTO7IiICwKmMXD5Yn8TcLYftQbdpneqMiY0hVkG3ylHgvQHOzs5lEqCcnZ3Jz8/Hw8NDgVdERKQcnczI4YN1+5m79RA5ZisAzetWZ0xcDD0aKOhWVQq8IiIiUuWdTM/hvXX7mbf1ELn5F4JuaA3GxsXQvX6Agm4Vp8ArIiIiVdaJ9Bxmrk1iwY+H7UH39no1GBMbQzcF3VuGAq+IiIhUOcfTcnhvXRLzfzxM3oWg2yqsJmNiY+gS46+ge4tR4BUREZEq41haNjPXJvH5j0fIs9iCbuuwmoyNq0+n6FoKurcoBV4RERG56aWcy+bdtYn8d1uyPei2DfdjTFwMHaMUdG91CrwiIiJy0zp6Lpt31yTy35+OYLbYHh/fLsIWdDtEKuiKjQKviIiI3HSSz2YxY00SX26/FHTbR/oxJrY+HaJqObg6qWwUeEVEROSmceRMFu+uTeSLn5LJt9qCbseoWoyJjaFdpIKuFE2BV0RERCq9w6ezmLEmka92XAq6naJrMSa2Pm0j/BxcnVR2CrwiIiJSaR06ncn01Yl8/fNRLBeCbpcYf8bExtA6XEFXSkaBV0RERCqdg6mZTF+TyKLLgm7X+gGMiY2hVVhNB1cnNxsFXhEREak0DqRm8s7qBBbvTLEH3W71AxgTF0PLegq6cn0UeEVERMThkk6dZ/rqRBbvPMqFnEuPBgGMiatPi9AaDq1Nbn4KvCIiIuIwiSfPM311Akt2pdiDbmzD2oyOjaG5gq6UEQVeERERqXCJJzOYFp/I0l9SMC4E3bhGtqDbrG4Nh9YmVY8Cr4iIiFSYP05kMC0+gf/9eswedHveFsiY2Bia1Knu2OKkylLgFRERkXK373gG01YnsOyyoNurcSCjY2NoHKKgK+VLgVdERETKzd7j6UyLT2DZr8ftbXc1DmJ0bAy3hfg6sDK5lSjwioiISJnbk2ILut//dino9m4axKg7YmgUrKArFcvJkYNnZGQwduxYwsLC8PT0pGPHjmzbtq3Ivk888QQmk4kpU6Zc9ZwTJkzAZDIV+GrYsGE5VC8iIiJX+i0ljcfn/ETvaRv4/rfjmExwT7Nglo/tyrsPtlLYFYdw6AzvI488wu7du5kzZw4hISHMnTuXuLg49uzZQ506dez9Fi1axJYtWwgJCSnReRs3bsyqVavsr11cNJEtIiJSnnYfTWNqfAIr95wAsAXdpsGMjo2hfqCPg6uTW53DkmB2djZfffUVixcvpmvXroBtdnbp0qXMnDmTl19+GYCjR48yatQoli9fzj333FOic7u4uBAUFFRutYuIiIjNr8lpTI3/g1W/nwRsQbdPsxBG3RFNjIKuVBIOC7z5+flYLBY8PDwKtHt6erJx40YArFYrDz30EM8++yyNGzcu8bkTEhIICQnBw8ODDh06MHnyZOrVq1ds/9zcXHJzc+2v09PTATCbzZjN5tJc1nW5OEZFjCUiIlIWfj2axjtrklizLxUAJxP8qWkwf+seSVSAN6C/1241FZ1nSjOOwwKvj48PHTp0YNKkSTRq1IjAwEAWLFjA5s2biY6OBuD//b//h4uLC6NHjy7xedu1a8cnn3xCgwYNOHbsGBMnTqRLly7s3r0bH5+i/6U5efJkJk6cWKh9xYoVeHl5Xd8FXoeVK1dW2FgiIiLX41AGfJ/sxJ5zttuATBi08je4s66VQM8j7Nt2hH0OrlEcq6LyTFZWVon7mgzj4m54FS8pKYkRI0awfv16nJ2dadmyJfXr12f79u3MnTuXe+65hx07dtjX7oaHhzN27FjGjh1b4jHOnTtHWFgYb731Fg8//HCRfYqa4Q0NDSU1NRVf3/JfXG82m1m5ciU9e/bE1dW13McTEREprZ+PnGP6miTWJ5wGbDO6f24ezJPdIonw93ZwdVIZVHSeSU9Px9/fn7S0tGvmNYfezRUVFcW6devIzMwkPT2d4OBgBg4cSGRkJBs2bODkyZMFliJYLBaefvpppkyZwsGDB0s0Ro0aNahfvz6JiYnF9nF3d8fd3b1Qu6ura4UG0IoeT0RE5Fq2HzrL1PgE1v9xCgBnJxP9bq/DyB7RhCvoShEqKs+UZoxKsX2Bt7c33t7enD17luXLl/Paa6/Rv39/4uLiCvTr1asXDz30EMOHDy/xuc+fP09SUhIPPfRQWZctIiJSZf108AxT4xPYkGBbo+vsZOIvt9dh5B3RhNVS0JWbi0MD7/LlyzEMgwYNGpCYmMizzz5Lw4YNGT58OK6urtSqVatAf1dXV4KCgmjQoIG9LTY2ln79+jFy5EgAnnnmGfr06UNYWBgpKSm89NJLODs7M3jw4Aq9NhERkZvRjwfOMDX+DzYl2pYuuDiZ6N+yLk/1iKZerYq7r0WkLDk08KalpTF+/HiSk5Px8/Ojf//+vPLKK6Waok5KSiI1NdX+Ojk5mcGDB3P69GkCAgLo3LkzW7ZsISAgoDwuQUREpErYuv80U+MT+CHpUtC9v3Vd/tY9mlA/BV25uTk08A4YMIABAwaUuH9R63avbPv8889vsCoREZFbx+ak00yN/4Mt+88A4Ops4r5Wofyte5SCrlQZlWINr4iIiFQcwzDYvP80U1clsPXApaA7oHUoT3aPom5NBV2pWhR4RUREbhGGYfBDki3o/njQFnTdnJ0Y2MYWdENqeDq4QpHyocArIiJSxRmGwabE00xZ9Qc/HToL2ILuoLa2oBtcXUFXqjYFXhERkSrKMAw2JKQyNT6B7ReDrosTD7StxxPdogiq7uHgCkUqhgKviIhIFWMYBuv+OMXU+AR+PnwOAHcXJwa3rceT3aMI9FXQlVuLAq+IiEgVYRgGa/84xdRVCew8cg6wBd0H24XxRLdIaivoyi1KgVdEROQmZxgGa/adZOqqBHYlpwHg4erEX9uF8Vi3SGr7KOjKrU2BV0RE5CZlGAbxv59k2uoEfrks6D7UPozHukYR4OPu4ApFKgcFXhERkZuMYRis+v0kU+P/YPfRdAA8XZ0Z0iGMR7tG4l9NQVfkcgq8IiIiNwnDMFix5wTT4hP4LcUWdL3cnBnSIZxHu0RQS0FXpEgKvCIiIpWc1WqwYs9xpsYn8vsxW9D1dnNmSMdwHu0SiZ+3m4MrFKncFHhFREQqKavVYPlvx5kan8De4xmALegO6xTOI50jqamgK1IiCrwiIiKVjNVq8N3u40yLT2DfCVvQrebuwvBO4TzcOYIaXgq6IqWhwCsiIlJJWKwGy349xjurE/jjxHkAfC4E3REKuiLXTYFXRETEwSxWg//9eoxp8QkknrwQdD1cGNEpghGdIqju5ergCkVubgq8IiIiDmKxGnz7SwrT4hNIOpUJgK+HCyM6RzC8UwTVPRV0RcqCAq+IiEgFy7dYWfpLCu+sTmT/haBb3dOVhztHMKxTOL4eCroiZUmBV0REpILkW6ws2WULugdSbUG3hpcrj3SOYGjHcHwUdEXKhQKviIhIOcu3WPlmZwrTVydw8HQWYAu6j3aJZEiHMAVdkXKmwCsiIlJOzBYri34+yow1iRy6EHRrernyaNdIhnQIp5q7/hoWqQj6P81Rzh2BrNO2X+fnUz3rIBzbBS4Xfku8akGNUIeVJyIi189ssbJox1Gmr0nk8Blb0PXzduOxrpE81D4MbwVdkQql/+Mc4dwRmN4K8nMBcAW6A+y7rI+LO4zcrtArInITMVusfLU9mRlrEzlyJhuAWheC7l8VdEUcRv/nOULWaXvYLVZ+rq2fAq+ISKWXl2/ly+3JzFiTyNFztqDrX82Nx7tG8WD7eni56a9bEUfS/4GVWcrPYM0HV09w8bjsv162GWCTydEViojc0vLyrXyx/Qjvrkm6LOi680S3SB5sF4anm7ODKxQRKGXgtVqtrFu3jg0bNnDo0CGysrIICAjg9ttvJy4ujtBQzUaWqW/HXuVN04Xw6wEunrYwfHkwLhSSL7Z5XnbMxfB8lfNcDNjOrgrYIiIX5OZb+O9Pycxck0hKWg4AAT7uPNEtigfa1lPQFalkShR4s7OzefPNN5k5cyZnzpyhRYsWhISE4OnpSWJiIt988w2PPvood955Jy+++CLt27cv77pvDTXqgQHkZ4M5B8xZYFguvGnY2vOzgbPlX4vJ6Soh+fK2y0Ly5e8X1VbomMtCubN++CAilU+O2cJ/fzrCzLVJHLsQdGv7uPNk9ygGt62Hh6uCrkhlVKJUUb9+fTp06MCsWbPo2bMnrq6F9ws8dOgQ8+fPZ9CgQfzzn//k0UcfLfNibzkD5kBIi4JtFjOYsyE/x/Zfc/alQJyffVlbThH9ijsmp/jzYNjGNaxgzrR9cbr8r93J5bIZZ48rZqavZza7mJnri+87OZX/NYnITSvHbGHhNlvQPZ5uC7pBvh482T2KgW1CFXRFKrkSBd4VK1bQqFGjq/YJCwtj/PjxPPPMMxw+fLhMipMiOLvavvAt/7EMAyx5l4XlrIIh2R6McwrOQhcZti/2u8p58nMujW3Nh7wM21dFcHa7xpKPqwXsks5cX9am5SEiN4Ucs4UFPx7mvXVJnEi33WwcXN0WdAe0VtAVuVmUKPBeK+xeztXVlaioqOsuSCoRk8l2c5yLe8WMZ7WCJfcas9TXms3OuixYX2M225J3aWxL3oXXaRVzrVcG60Kz0NdY8lHgmGvMgDu7KWCLlFKO2cL8rbagezLDFnRDqnvwZI9oBrSui7uLgq7IzeS6F0rm5+fz/vvvs3btWiwWC506deKpp57Cw8OjLOurmrxq2ULk1bYmc3G39buVODmB04WwVhGslqKXfBQ1C13szPVVjrlyBtyaf2lsR62/ts9Cl2bJR0luerz8Bketv5abV3aehXlbD/H++v2cuhB069Tw5G89orivlYKuyM3quv9mGj16NH/88Qd/+ctfMJvNfPbZZ/z0008sWLCgLOurmmqE2h4qceFJa+b8fDZt2kSnTp1w1ZPWKo6TM7h5274qwpXrr0s0c13MbHZJ1mEbVtu4BdZfVwD7+utiZqGvZ5lIsWu3tf5aykZWXj7zthzm/fX7ST1/Keg+1SOa+1rVxc1F32ciN7MSB95FixbRr18/++sVK1awb98+nJ1t/9rt1atXqXdnyMjI4F//+heLFi3i5MmT3H777UydOpU2bdoU6vvEE0/w/vvv8/bbbzN27NirnnfGjBm8/vrrHD9+nObNm/POO+/Qtm3bUtVW7mqEXgq0ZjNpXkchuDkUcUOgVBEOXX9d3Mx1UcH5ytnsK5aJFDebfZEj1l+XaOb6GsG5pKFcy0OqlKy8fOZuOcQH6/eTet62zKluTU9G9ojmLy0VdEWqihIH3o8//phPP/2Ud999l5CQEFq2bMkTTzxB//79MZvNzJo1q8igejWPPPIIu3fvZs6cOYSEhDB37lzi4uLYs2cPderUsfdbtGgRW7ZsISQk5JrnXLhwIePGjeO9996jXbt2TJkyhV69erFv3z5q165dqvpEbloVvf7aMG5gycfVjilmBryo9de5FbX+2qPoWejr2q7vGjPgWn9dbjJz85mz5RCz1u/ndKbt+ynUz5NRPWLo17IOrs4KuiJVSYkD79KlS1m4cCHdu3dn1KhRfPDBB0yaNIl//vOf9jW8EyZMKPHA2dnZfPXVVyxevJiuXbsCMGHCBJYuXcrMmTN5+eWXATh69CijRo1i+fLl3HPPPdc871tvvcWjjz7K8OHDAXjvvff43//+x8cff8w//vGPEtcnIqVgMl2aBa0I9vXXpVnycR3rsC+ep8D66wuz3TnnKuBCTcXMQpfTdn3OVf8nTOdz8/ls80E+3HCAMxeCblgtL57qEU2/2xV0RaqqUq3hHThwIL169eK5556jV69evPfee7z55pvXNXB+fj4Wi6XQTW6enp5s3LgRsD3Z7aGHHuLZZ5+lcePG1zxnXl4e27dvZ/z48fY2Jycn4uLi2Lx5c7HH5ebmkpt76Qay9PR0AMxmM2azuVTXdT0ujlERY4lUGSY3cHMDtwpYImLNL3L22ZR/WSi+EMBNl2+zd1kgN10Mylcef2Uwz8/GdHH9NcaFEJ5V/tcIGCbngiH4QhA2Ln+AzIWZauPKZSIX3jMKBG3bcYbLFf3s+19X3A1g53PzmbvlMB//cIizWbY/a8P8vPhb9wjubRaMi7MTWC2YrZZrnElEilPReaY045T6prUaNWrwwQcfsH79eoYMGcJdd93FpEmTSr07g4+PDx06dGDSpEk0atSIwMBAFixYwObNm4mOjgbg//2//4eLiwujR48u0TlTU1OxWCwEBgYWaA8MDGTv3r3FHjd58mQmTpxYqH3FihV4eXmV4qpuzMqVKytsLBEpa+4XvqoX/bbLha9r/VFpGJgMC85GHs7Wy74uvHay5uFsNRdos7WbizjGfKF/4fNcPMbFuLQ8xGRYIO+87esy5bWowmJywerkhsXkisXJ7dKXyQ2rk2uB17Zfu17o71aw/1WOybK6su6UOyuPu5OZbwvYAR4GvepaaemfjvOxXaw4tqucrlDk1lRReSYrq+STASUOvIcPH+aZZ57h999/p1mzZrzxxhts376dV155hebNmzNlyhTuvvvuUhU6Z84cRowYQZ06dXB2dqZly5YMHjyY7du3s337dqZOncqOHTswlfMatvHjxzNu3Dj76/T0dEJDQ7nzzjvx9S3/2SOz2czKlSuLfYqdiEh5MACzYVy2/3WOfbbadOUDYy6fqb7igTGmi7PWl894m3OKngG3XPppmrORj7Mln/L+U68fgAvkurhhcvXA1d0LMj0hz/PC7POVS0U8LpvVvvRf44qZ64vHGa4FX2v9tdyqKjrPXPyJfEmUOPAOGTKEoKAgXn/9dZYvX87jjz/OkiVLmDhxIoMGDeLxxx9n9uzZ/Pe//y3x4FFRUaxbt47MzEzS09MJDg5m4MCBREZGsmHDBk6ePEm9evXs/S0WC08//TRTpkzh4MGDhc7n7++Ps7MzJ06cKNB+4sQJgoKCiq3D3d0dd/fCN/e4urpWaACt6PFERGzcwNOnYoYqtP76auurS79dn9WcTXZWJlZzFu5GHm6mS0sU3MkDcx6YL/0lWX6R1HSV9dNXu4HxOtdh3wLrr+XmUVF5pjRjlDjw/vTTT+zatYuoqCh69epFRESE/b1GjRqxfv16Pvjgg9JVeoG3tzfe3t6cPXuW5cuX89prr9G/f3/i4uIK9OvVqxcPPfSQ/Ya0K7m5udGqVSvi4+Pp27cvYFsHHB8fz8iRI6+rNhERKUPltP91WraZjzce4ONNB8jIsd1kGF27GmN6RNC7YQ2cLbkleEJjGWzXV9T66+zi6y4zF9dfl/qhMcWE7Ws9Nr0C11+LlIUSB95WrVrx4osvMnToUFatWkXTpk0L9XnsscdKNfjy5csxDIMGDRqQmJjIs88+S8OGDRk+fDiurq7UqlXwSWOurq4EBQXRoEEDe1tsbCz9+vWzB9px48YxdOhQWrduTdu2bZkyZQqZmZnFhmQREbl5pWWZ+WjjfmZvOkhGri3o1g+sxqg7YujdNBhnpwpcVmAYtgfMlMkTGku4XZ997KLXX5cbJ9dSPjSmmOBckh1EXDz0gBm5YSUOvJ999hlPP/00f//732nRogXvv//+DQ+elpbG+PHjSU5Oxs/Pj/79+/PKK6+Uaoo6KSmJ1NRU++uBAwdy6tQpXnzxRY4fP06LFi34/vvvC93IJiIiN69zWXl8tPEAn1wWdBsE+jA6Noa7mwThVJFB9yKTCVzcbF8exdy8WJYMw/aI+ht6QmMpQvll66+xmiHXDLklX0N5Q5zdr/HQmBJuvVfkzPUVx7i4a/11aZw7Yn9yLPn5VM86CMd2QSV7cqzJMAzD0UVUNunp6VSvXp20tLQKu2lt2bJl9O7dW2t4RUSu4mxmHh9u3M+nPxzi/IWg2zDIhzGxMfRq7KCge6uwWgvdmHjtJR9XzlyXImxbHbVVp+kqIbmESz5K89h0Z9ebN2CfOwLTW9n+4VUcF3cYub1cQm9p8lqJZngzMzPx9i75eqvS9hcREbmaM5l5zNqwn89+OEhmnu1GtEbBvoyJjebO2xR0K4STE7h52b4qgiW/mIBdkpnraxxTVMA2Lt7g6Mj116W5WbEkNz0W0c+51DvSFi/r9NXDLtjezzrt8FneEl11dHQ0Y8aMYejQoQQHBxfZxzAMVq1axVtvvUXXrl0LPPxBRETkepw+n8usDQf4bPNBsi4E3duCfRkTF0PPRoEKulWZsws4VwP3auU/1pXrr8t0HXYx5+HCD9gdtf66pLPQV7vpMeNYxdRcBkoUeNeuXcsLL7zAhAkTaN68Oa1btyYkJAQPDw/Onj3Lnj172Lx5My4uLowfP57HH3+8vOsWEZEqLPV8LrPW72fOlkP2oNs4xJexcfWJa1S73Pdnl1uMQ9dfF7Pko9TrsK8ym52fc2nsil5/XUmUKPA2aNCAr776isOHD/PFF1+wYcMGfvjhB7Kzs/H39+f2229n1qxZ3H333Tg7a6sSERG5PqcycvlgfRJztxwm22wLuk3rVGdMbAyxCrpSVZhMF2ZKPcCzAsa7uP66VDcwlmAddlYqpP5RARdw40q1kKNevXo8/fTTPP300+VVj4iI3IJOZuTwwbr9zN16iByzbS/b5nWrMyYuhh4NFHRFbkh5rb9O2QkfdCvbc5aTMly5LCIiUjon03N4b91+5m09RG7+haAbWoOxcTF0rx+goCsiZUKBV0REKtyJ9Bxmrk1iwY+H7UH39no1GBMbQzcFXREpYwq8IiJSYY6n5fDeuiTm/3iYvAtBt1VYTcbExtAlxl9BV+Rm4lXLts/utfbh9apV/PsVRIFXRETK3bG0bGauTeLzbUfsQbd1WE3GxtWnU3QtBV2Rm1GNUNtDJS48ac2cn8+mTZvo1KkTrpXsSWsKvCIiUm5SzmXz7tpE/rstmTyLLei2DfdjTFwMHaMUdEVuejVCLwVas5k0r6MQ3Bwq2ZNjSx14w8PDGTFiBMOGDaNevXrlUZOIiNzkjp7L5t01ifz3pyOYLbYN9ttF2IJuh0gFXRGpWE6lPWDs2LF8/fXXREZG0rNnTz7//HNyc6/xWDkREbklJJ/NYvzXv9L99TXM23oYs8WgfaQfCx5tz8LHO9AxSut0RaTiXVfg3blzJz/++CONGjVi1KhRBAcHM3LkSHbs2FEeNYqISCV35EwW47/+he6vr2XBj7ag2zGqFgsfa8/nj3WgQ5Tjb1oRkVvXda/hbdmyJS1btuTNN9/k3Xff5fnnn2fmzJk0bdqU0aNHM3z4cP0rXkSkijt8OosZaxL5akcy+Vbb0oXO0f6MiYuhTbifg6sTEbG57sBrNptZtGgRs2fPZuXKlbRv356HH36Y5ORkXnjhBVatWsX8+fPLslYREakkDp/OYvqaBL7acRTLhaDbJcafMbExtFbQFZFKptSBd8eOHcyePZsFCxbg5OTEkCFDePvtt2nYsKG9T79+/WjTpk2ZFioiIo53MDWT6WsSWfTzpaDbtX4AY2JjaBVW08HViYgUrdSBt02bNvTs2ZOZM2fSt29fXIvYdiIiIoJBgwaVSYEiIuJ4B1IzeWd1Aot3ptiDbvcGAYyOjaFlPQVdEancSh149+/fT1hY2FX7eHt7M3v27OsuSkREKof9p84zfXUi3+w8yoWcS48GAYyJq0+L0BoOrU1EpKRKHXhPnjzJ8ePHadeuXYH2rVu34uzsTOvWrcusOBERcYzEk+eZvjqBJbtS7EE3tmFtRsfG0FxBV0RuMqXeluypp57iyJEjhdqPHj3KU089VSZFiYiIYySezGD0gp/p+fY6vtlpC7txjQJZOrIzHw1ro7ArIjelUs/w7tmzh5YtWxZqv/3229mzZ0+ZFCUiIhUr4UQG01Yn8u0vKRgXZnR73hbImNgYmtSp7tjiRERuUKkDr7u7OydOnCAyMrJA+7Fjx3Bxue5dzkRExAH2Hc9g2uoElv16zB50ezUOZHRsDI1DFHRFpGoodUK98847GT9+PIsXL6Z6ddsfhufOneOFF16gZ8+eZV6giIiUvb3H05kWn8CyX4/b2+5uEsSoO2K4LcTXgZWJiJS9UgfeN954g65duxIWFsbtt98OwM6dOwkMDGTOnDllXqCIiJSd34/Zgu53uy8F3d5NbUG3UbCCrohUTaUOvHXq1OGXX35h3rx57Nq1C09PT4YPH87gwYOL3JNXREQc77eUNKbFJ7D8txMAmEzQu2kwo++IoUGQj4OrExEpX9e16Nbb25vHHnusrGsREZEytvtoGlPjE1i551LQvadpMKNjY6gfqKArIreG677LbM+ePRw+fJi8vLwC7ffee+8NFyUiIjfm12Rb0F31+6Wg26dZCKPuiCZGQVdEbjHX9aS1fv368euvv2IymTAu3NZrMpkAsFgsZVuhiIiU2C/J55i6KoH4vScBcDLBvc1DGHlHDNG1qzm4OhERxyh14B0zZgwRERHEx8cTERHBjz/+yOnTp3n66ad54403yqNGERG5hp1HzjF11R+s2XcKsAXdP7eow8g7ookKUNAVkVtbqQPv5s2bWb16Nf7+/jg5OeHk5ETnzp2ZPHkyo0eP5ueffy6POkVEpAg/Hz7L1PgE1l4WdPveXoeRPaKJVNAVEQGuI/BaLBZ8fGzrv/z9/UlJSaFBgwaEhYWxb9++Mi9QREQK237IFnTX/2ELus5OJvpdCLrh/t4Ork5EpHJxKu0BTZo0YdeuXQC0a9eO1157jU2bNvHvf/+70NPXriUjI4OxY8cSFhaGp6cnHTt2ZNu2bfb3J0yYQMOGDfH29qZmzZrExcWxdevWq55zwoQJmEymAl8NGzYs7WWKiFRKPx08w0MfbaX/zB9Y/8cpnJ1M3N+qLquf7sYb9zdX2BURKUKpZ3j/7//+j8zMTAD+/e9/86c//YkuXbpQq1YtFi5cWKpzPfLII+zevZs5c+YQEhLC3LlziYuLY8+ePdSpU4f69eszffp0IiMjyc7O5u233+bOO+8kMTGRgICAYs/buHFjVq1adeki9chjEbnJbTt4hqmrEtiYmAqAi5OJ/i3r8lSPaOrV8nJwdSIilVupk2CvXr3sv46Ojmbv3r2cOXOGmjVr2ndqKIns7Gy++uorFi9eTNeuXQHb7OzSpUuZOXMmL7/8Mg888ECBY9566y0++ugjfvnlF2JjY4s9t4uLC0FBQaW8MhGRymfr/tNMjU/gh6TTgC3o3t+6Ln/rHk2on4KuiEhJlCrwms1mPD092blzJ02aNLG3+/n5lXrg/Px8LBYLHh4eBdo9PT3ZuHFjof55eXl88MEHVK9enebNm1/13AkJCYSEhODh4UGHDh2YPHky9erVK7Z/bm4uubm59tfp6emA7XrNZnNpLuu6XByjIsYSkZvD1gNneGdNElsPnAXA1dnEX26vwxNdI6hb0xPQnxkiUrlUdJ4pzTilCryurq7Uq1evTPba9fHxoUOHDkyaNIlGjRoRGBjIggUL2Lx5M9HR0fZ+3377LYMGDSIrK4vg4GBWrlyJv79/sedt164dn3zyCQ0aNODYsWNMnDiRLl26sHv3bvvNdleaPHkyEydOLNS+YsUKvLwqbgZl5cqVFTaWiFQ+hgGJ6Sa+T3YiMd32EzNnk0H72gZxdaz4uR7kl80H+cXBdYqIXE1F5ZmsrKwS9zUZF58cUUIfffQRX3/9NXPmzLmumd3LJSUlMWLECNavX4+zszMtW7akfv36bN++nd9//x2AzMxMjh07RmpqKrNmzWL16tVs3bqV2rVrl2iMc+fOERYWxltvvcXDDz9cZJ+iZnhDQ0NJTU3F19f3hq6xJMxmMytXrqRnz564urqW+3giUrkYhsHm/bYZ3Z8OnQNsM7oDWtXl8a4RBFf3uPoJREQqgYrOM+np6fj7+5OWlnbNvFbqNbzTp08nMTGRkJAQwsLC8PYueEfwjh07SnyuqKgo1q1bR2ZmJunp6QQHBzNw4MACuz14e3sTHR1NdHQ07du3JyYmho8++ojx48eXaIwaNWpQv359EhMTi+3j7u6Ou7t7oXZXV9cKDaAVPZ6IOJZhGGxKPM2UVX/w0yHb0gU3ZycGtQ3lye5RBFf3dHCFIiKlV1F5pjRjlDrw9u3bt7SHXJO3tzfe3t6cPXuW5cuX89prrxXb12q1FpiNvZbz58+TlJTEQw89VBaliojcMMMw2JCQytT4BLZfDLouTjzQth5PdIsiSDO6IiJlqtSB96WXXiqzwZcvX45hGDRo0IDExESeffZZGjZsyPDhw8nMzOSVV17h3nvvJTg4mNTUVGbMmMHRo0e5//777eeIjY2lX79+jBw5EoBnnnmGPn36EBYWRkpKCi+99BLOzs4MHjy4zOoWEbkehmGw7o9TTI1P4OfD5wBwd3FicNt6PNk9ikBfBV0RkfLg0A1q09LSGD9+PMnJyfj5+dG/f39eeeUVXF1dsVgs7N27l08//ZTU1FRq1apFmzZt2LBhA40bN7afIykpidTUVPvr5ORkBg8ezOnTpwkICKBz585s2bLlqvv2ioiUJ8MwWPvHKaauSmDnkXOALeg+2C6MJ7pFUltBV0SkXJU68Do5OV11v93S7OAwYMAABgwYUOR7Hh4efP3119c8x8GDBwu8/vzzz0s8vohIeTIMgzX7TjJ1VQK7ktMA8HB14q/twnisWyS1fRR0RUQqQqkD76JFiwq8NpvN/Pzzz3z66adFbu0lInKrMQyD1XtPMjU+gV8uC7oPtQ/jsa5RBPgUvklWRETKT6kD75///OdCbffddx+NGzdm4cKFxW79JSJS1RmGwarfTzItPoFfj9qCrqerM0M6hPFo10j8qynoiog4Qpmt4W3fvj2PPfZYWZ1OROSmYRgGK/acYFp8Ar+l2J7U6OXmzJAO4TzaJYJaCroiIg5VJoE3OzubadOmUadOnbI4nYjITcFqtQXdqfEJ/H7MFnS93ZwZ0jGcR7tE4uft5uAKRUQEriPw1qxZs8BNa4ZhkJGRgZeXF3Pnzi3T4kREKiOr1WD5b8eZGp/A3uMZAFRzd2FoxzAe6RxJTQVdEZFKpdSB9+233y4QeJ2cnAgICKBdu3bUrFmzTIsTEalMrFaD73YfZ1p8AvtOXAq6wzuF83DnCGp4KeiKiFRGpQ68w4YNK4cyREQqL6vVYNnuY0yLT+CPE+cB8LkQdEco6IqIVHqlDryzZ8+mWrVqBZ52BvDFF1+QlZXF0KFDy6w4ERFHslgN/vfrMd6JTyDh5IWg6+HCiE4RjOgUQXWv8n9WvIiI3LhSB97Jkyfz/vvvF2qvXbs2jz32mAKviNz0LFaDb39JYVp8AkmnMgHw9XDh4c6RDOsUTnVPBV0RkZtJqQPv4cOHiYiIKNQeFhbG4cOHy6QoERFHsFgNlu5KYdrqBPZfCLrVPV15uHMEwzqF4+uhoCsicjMqdeCtXbs2v/zyC+Hh4QXad+3aRa1atcqqLhGRCpNvsbJkVwrTVyeyP9UWdGt4ufJI5wiGdgzHR0FXROSmVurAO3jwYEaPHo2Pjw9du3YFYN26dYwZM4ZBgwaVeYEiIuUl32Llm50pTF+dwMHTWQDU9HLlkS6RDO0YTjX3Mns2j4iIOFCp/zSfNGkSBw8eJDY2FhcX2+FWq5UhQ4bw6quvlnmBIiJlLd9iZdHPR5m+JpFDlwXdR7tGMqSDgq6ISFVT6j/V3dzcWLhwIS+//DI7d+7E09OTpk2bEhYWVh71iYiUGbPFyqIdtqB7+Iwt6Pp5u/FY10geah+Gt4KuiEiVdN1/usfExBATE1OWtYiIlAuzxcpX25OZsTaRI2eyAfCvZgu6f20fhpebgq6ISFVW6j/l+/fvT9u2bXn++ecLtL/22mts27aNL774osyKExG5EXn5Vr7akcz01YkcPXcp6D7eNYoH29dT0BURuUWU+k/79evXM2HChELtd999N2+++WZZ1CQickPy8q18sf0I765JsgfdAB93Hu8ayYPtwvB0c3ZwhSIiUpFKHXjPnz+Pm1vhx2i6urqSnp5eJkWJiFyP3HwL//0pmZlrEklJywGgto87T3SL4oF29fBwVdAVEbkVlTrwNm3alIULF/Liiy8WaP/888+57bbbyqwwEZGSys238N9tR3h3bRLHLgu6T3aPYnBbBV0RkVtdqQPvv/71L/7yl7+QlJTEHXfcAUB8fDwLFizQ+l0RqVA5ZgsLtx1h5tokjqfbgm6QrwdPdo9iYJtQBV0REQGuI/D26dOHb775hldffZUvv/wST09PmjVrxqpVq+jWrVt51CgiUkCO2cKCHw/z3rokTqTnAhBc3YO/dY/i/tYKuiIiUtB13aJ8zz33cM899xRq3717N02aNLnhokREipJjtjB/qy3onsywBd2Q6h482SOaAa3r4u6ioCsiIoXd8J48GRkZLFiwgA8//JDt27djsVjKoi4REbvsPAvzth7i/fX7OXUh6Nap4cnfekRxXysFXRERubrrDrzr16/nww8/5OuvvyYkJIS//OUvzJgxoyxrE5FbXFZePvO2HOb99ftJPX8p6I68I5r+Levi5uLk4ApFRORmUKrAe/z4cT755BM++ugj0tPTGTBgALm5uXzzzTfaoUFEykxWXj5ztxzig/X7ST2fB0Ddmp6M7BHNXxR0RUSklEocePv06cP69eu55557mDJlCnfddRfOzs6899575VmfiNxCMnPzmbPlELPW7+d0pi3o1vPzYmSPaPq1rIOrs4KuiIiUXokD73fffcfo0aN58skniYmJKc+aROQWcz43n882H+TDDQc4cyHohtWyBd2+tyvoiojIjSlx4N24cSMfffQRrVq1olGjRjz00EMMGjSoPGsTkSrufG4+n/5wkA837OdslhmA8FpejLwjhr4tQnBR0BURkTJQ4sDbvn172rdvz5QpU1i4cCEff/wx48aNw2q1snLlSkJDQ/Hx8SnPWkWkisjIMduC7sYDnLsQdCP9vRl5RzT3NlfQFRGRslXqXRq8vb0ZMWIEI0aMYN++fXz00Uf85z//4R//+Ac9e/ZkyZIl5VGniFQB6TlmPtl0kI82HiAt+0LQDfBm9B0x9GkegrOTycEViohIVXRD+/A2aNCA1157jcmTJ7N06VI+/vjjsqpLRKqQtOyLQXc/6Tn5AEQFeDM6NoY/NVPQFRGR8lUmPzd0dnamb9++pZ7dzcjIYOzYsYSFheHp6UnHjh3Ztm2b/f0JEybQsGFDvL29qVmzJnFxcWzduvWa550xYwbh4eF4eHjQrl07fvzxx1Jfk4jcuLRsM2+v/IPO/281b6/6g/ScfGJqV2Pa4NtZ8fdu/LlFHYVdEREpdzf8pLUb8cgjj7B7927mzJlDSEgIc+fOJS4ujj179lCnTh3q16/P9OnTiYyMJDs7m7fffps777yTxMREAgICijznwoULGTduHO+99x7t2rVjypQp9OrVi3379lG7du0KvkKRW1NalpmPNh1g9qYDZFyY0a0fWI3RsTH0bhKMk0KuiIhUIJNhGIYjBs7OzsbHx4fFixdzzz332NtbtWrF3Xffzcsvv1zomPT0dKpXr86qVauIjY0t8rzt2rWjTZs2TJ8+HQCr1UpoaCijRo3iH//4R4lquzhOWloavr6+13F1pWM2m1m2bBm9e/fG1dW13McTKS/nsvL4aOMBPtl0kIxcW9BtEOjD6NgY7m4SpKArIlKFVXSeKU1ec9gMb35+PhaLBQ8PjwLtnp6ebNy4sVD/vLw8PvjgA6pXr07z5s2LPGdeXh7bt29n/Pjx9jYnJyfi4uLYvHlzsbXk5uaSm5trf52eng7YfuPMZnOprut6XByjIsYSKQ9ns/KYvekQn209TGauBYCGgdV4qkcUdzaqjZOTCYslH4vFwYWKiEi5qeg8U5pxHBZ4fXx86NChA5MmTaJRo0YEBgayYMECNm/eTHR0tL3ft99+y6BBg8jKyiI4OJiVK1fi7+9f5DlTU1OxWCwEBgYWaA8MDGTv3r3F1jJ58mQmTpxYqH3FihV4eXld5xWW3sqVKytsLJGycN4Ma445seGYiVyrbfa2jpdBr7pWmvqdw3poO98fcnCRIiJSoSoqz2RlZZW4r0PX8M6ZM4cRI0ZQp04dnJ2dadmyJYMHD2b79u32Pj169GDnzp2kpqYya9YsBgwYwNatW8t0Pe748eMZN26c/XV6ejqhoaHceeedFbakYeXKlfTs2VNLGuSmcDozj483HWTu9iNk5dmmbRsF+TCqRxSxDQO0dEFE5BZU0Xnm4k/kS8KhgTcqKop169aRmZlJeno6wcHBDBw4kMjISHsfb29voqOjiY6Opn379sTExPDRRx8VWLZwkb+/P87Ozpw4caJA+4kTJwgKCiq2Dnd3d9zd3Qu1u7q6VmgArejxREor9Xwus9bvZ86WQ/ag26SOL2Ni6xPXqDYmk4KuiMitrqLyTGnGcGjgvcjb2xtvb2/Onj3L8uXLee2114rta7VaC6y3vZybmxutWrUiPj6evn372vvHx8czcuTI8ihd5JZwKiOXWRv2M2fzIbLNtqDbtE51xsbFcEdDBV0REancHBp4ly9fjmEYNGjQgMTERJ599lkaNmzI8OHDyczM5JVXXuHee+8lODiY1NRUZsyYwdGjR7n//vvt54iNjaVfv372QDtu3DiGDh1K69atadu2LVOmTCEzM5Phw4c76jJFblonM3L4YN1+5m49RI7ZCkDzutUZExdDjwYKuiIicnNwaOBNS0tj/PjxJCcn4+fnR//+/XnllVdwdXXFYrGwd+9ePv30U1JTU6lVqxZt2rRhw4YNNG7c2H6OpKQkUlNT7a8HDhzIqVOnePHFFzl+/DgtWrTg+++/L3Qjm4gU72R6Du+t28+8rYfIzbcF3RahNRgTF0P3+gEKuiIiclNx2D68lZn24ZVb1Yn0HN5bl8T8rYftQff2ejUYG1efrjH+CroiIlIs7cMrIpXa8bQLQffHw+RdCLqtwmoyJjaGLgq6IiJyk1PgFbmFHUvLZubaJD7fdsQedNuE12RMbH06RddS0BURkSpBgVfkFpRyzhZ0F247Qp7FFnTbhvsxNi6GDlEKuiIiUrUo8IrcQo6ey+bdNYn896cjmC225fvtIvwYExdDh0gFXRERqZoUeEVuAclns3h3bRJfXBZ020f6MSa2Ph2iajm4OhERkfKlwCtShR05k8W7axP5cnuyPeh2jKrFmNgY2kUq6IqIyK1BgVekCjp8OosZaxL5akcy+VZb0O0c7c+YuBjahPs5uDoREZGKpcArUoUcPp3F9DUJfLXjKJYLQbdLjD9jYmNoraArIiK3KAVekSrgYGom09cksujnS0G3a/0AxsTG0CqspoOrExERcSwFXpGb2IHUTN5ZncDinSn2oNu9QQCjY2NoWU9BV0REBBR4RW5K+0+dZ/rqRL7ZeZQLOZceDQIYE1efFqE1HFqbiIhIZaPAK3ITSTx5numrE1iyK8UedGMb1mZ0bAzNFXRFRESKpMArchNIPJnBtPhElv6SgnEh6MY1CmRMbAxN61Z3bHEiIiKVnAKvSCWWcCKDaasT+fayoNvzNlvQbVJHQVdERKQkFHhFKqF9xzOYtjqBZb8eswfdXo0DGR0bQ+MQBV0REZHSUOAVqUT2Hk9nWnwCy349bm+7u0kQo+6I4bYQXwdWJiIicvNS4BWpBH4/Zgu63+2+FHR7N7UF3UbBCroiIiI3QoFXxIF+S0ljWnwCy387AYDJBL2bBjP6jhgaBPk4uDoREZGqQYFXxAF2H01janwCK/dcCrp/ahbCqDuiqR+ooCsiIlKWFHhFKtCvybagu+r3S0G3z4WgG6OgKyIiUi4UeEUqwC/J55i6KoH4vScBcDLBvc1DGHlHDNG1qzm4OhERkapNgVekHO08co6pq/5gzb5TgC3o9m1Rh6fuiCYqQEFXRESkIijwipSDnw+fZWp8AmsvD7q312Fkj2giFXRFREQqlAKvSBnafsgWdNf/YQu6zk4m+l0IuuH+3g6uTkRE5NakwCtSBn46eIap8QlsSEgFbEG3f8s6PNUjmrBaCroiIiKOpMArcgO2HTzD1FUJbEy0BV0XJxP9W9blqR7R1Kvl5eDqREREBBR4Ra7L1v2nmRqfwA9JpwFb0L2/dV3+1j2aUD8FXRERkcpEgVekFDYnnWZq/B9s2X8GAFdnE/e3DuVv3aOoW1NBV0REpDJS4BW5BsMw2Lz/NFNXJbD1wKWgO6B1KH/rEU2dGp4OrlBERESuRoFXpBiGYbA56TRTViXw40Fb0HVzdmJgm1Ce7B5FiIKuiIjITUGBV+QKhmGwKdG2dGHbwbOALegOamsLusHVFXRFRERuJk6OHDwjI4OxY8cSFhaGp6cnHTt2ZNu2bQCYzWaef/55mjZtire3NyEhIQwZMoSUlJSrnnPChAmYTKYCXw0bNqyIy5GbnGEYrP/jFPe9t5m/frSVbQfP4ubixLCO4ax/rgf//nMThV0REZGbkENneB955BF2797NnDlzCAkJYe7cucTFxbFnzx6qVavGjh07+Ne//kXz5s05e/YsY8aM4d577+Wnn3666nkbN27MqlWr7K9dXDSRLcUzDIP1CalMWfUHPx8+B4C7ixMPtKvHE92iCPT1cGyBIiIickMclgSzs7P56quvWLx4MV27dgVss7NLly5l5syZvPzyy6xcubLAMdOnT6dt27YcPnyYevXqFXtuFxcXgoKCyrV+ufkZhsHaP04xdVUCO4+cA2xB98F2YTzRLZLaCroiIiJVgsMCb35+PhaLBQ+PgqHC09OTjRs3FnlMWloaJpOJGjVqXPXcCQkJhISE4OHhQYcOHZg8efJVA3Jubi65ubn21+np6YBtWYXZbC7hFV2/i2NUxFhyMeimMn1NEr8ctf1ee7g68UCbUB7pHE6Ajzug3w8REZHSqOg8U5pxTIZhGOVYy1V17NgRNzc35s+fT2BgIAsWLGDo0KFER0ezb9++An1zcnLo1KkTDRs2ZN68ecWe87vvvuP8+fM0aNCAY8eOMXHiRI4ePcru3bvx8fEp8pgJEyYwceLEQu3z58/Hy0t7q1YVhgG/nTPx/REnjmSaAHBzMugcaNAjxIqvm4MLFBERkRLLysrigQceIC0tDV9f36v2dWjgTUpKYsSIEaxfvx5nZ2datmxJ/fr12b59O7///ru9n9lspn///iQnJ7N27dprXtTlzp07R1hYGG+99RYPP/xwkX2KmuENDQ0lNTW1VGNdL7PZzMqVK+nZsyeurq7lPt6txjAMVu89xfS1+9mdYpvR9XR14sF29XikUxi1qrk7uEIREZGbX0XnmfT0dPz9/UsUeB16N1dUVBTr1q0jMzOT9PR0goODGThwIJGRkfY+ZrOZAQMGcOjQIVavXl3qAFqjRg3q169PYmJisX3c3d1xdy8celxdXSs0gFb0eFWdYRis2HOCafEJ/HYh6Hq5OTOkQziPdolQ0BURESkHFZVnSjNGpdi+wNvbG29vb86ePcvy5ct57bXXgEthNyEhgTVr1lCrVq1Sn/v8+fMkJSXx0EMPlXXZUklZrbagOzU+gd+P2YKut5szQzuG80iXSPy8tXZBRETkVuLQwLt8+XIMw6BBgwYkJiby7LPP0rBhQ4YPH47ZbOa+++5jx44dfPvtt1gsFo4fPw6An58fbm620BIbG0u/fv0YOXIkAM888wx9+vQhLCyMlJQUXnrpJZydnRk8eLDDrlMqhtVqsPy340yNT2Dv8QwAqrm7MLRjGI90jqSmgq6IiMgtyaGBNy0tjfHjx5OcnIyfnx/9+/fnlVdewdXVlYMHD7JkyRIAWrRoUeC4NWvW0L17d8C2Djg1NdX+XnJyMoMHD+b06dMEBATQuXNntmzZQkBAQEVdllQwq9Xgu93HeWd1waA7vFM4D3eOoIaXgq6IiMitzKGBd8CAAQwYMKDI98LDwynJ/XQHDx4s8Przzz8vi9LkJmC1GizbfYxp8Qn8ceI8AD7uLgzvHMHDnSKo7qX10CIiIlJJ1vCKlIbFavC/X4/xTnwCCScvBF0PF0Z0imCEgq6IiIhcQYFXbhoWq8G3v6TwzupEEi8EXV8PFx7uHMmwTuFU91TQFRERkcIUeKXSs1gNlu5KYdrqBPafygSguqcrD3eOYFincHw9FHRFRESkeAq8UmnlW6ws2ZXC9NWJ7E+1Bd0aXq480jmCoR3D8VHQFRERkRJQ4JVKJ99i5ZudKcxYk8iBC0G3ppcrj3SJZGjHcKq569tWRERESk7JQSqNfIuVRT8fZfqaRA6dzgJsQffRrpEM6aCgKyIiItdHCUIczmyxsmiHLegePmMLun7ebjzWNZKH2ofhraArIiIiN0BJQhzGbLHy1fZkZqxN5MiZbAD8q9mC7l/bh+Hlpm9PERERuXFKFFLh8vKtfLUjmemrEzl67lLQfbxrFA+2r6egKyIiImVKyUIqTF6+lS+2H+HdNUn2oBvg487jXSN5sF0Ynm7ODq5QREREqiIFXil3ufkW/vtTMjPXJJKSlgNAbR93nugWxQPt6uHhqqArIiIi5UeBV8pNbr6F/247wrtrkzh2IegG+tqC7uC2CroiIiJSMRR4pczlmC0s3HaEmWuTOJ5uC7pBvh482T2KgW1CFXRFRESkQinwSpnJMVtY8ONh3luXxIn0XACCq3vwt+5R3N9aQVdEREQcQ4FXbliO2cL8rbagezLDFnRDqnvwZI9oBrSui7uLgq6IiIg4jgKvXLfsPAvzth7i/fX7OXUh6Nap4cnfekRxXysFXREREakcFHil1LLy8pm35TDvr99P6vlLQXfkHdH0b1kXNxcnB1coIiIicokCr5RYVl4+c7cc4oP1+0k9nwdA3ZqejOwRzV8UdEVERKSSUuCVa8rMzWfOlkPMWr+f05m2oFvPz4uRPaLp17IOrs4KuiIiIlJ5KfBKsc7n5vPZ5oN8uOEAZy4E3bBatqDb93YFXREREbk5KPBKIedz8/n0h4N8uGE/Z7PMAITX8mLkHTH0bRGCi4KuiIiI3EQUeMUuI8dsC7obD3DuQtCN9Pdm5B3R3NtcQVdERERuTgq8QnqOmU82HeSjjQdIy74QdAO8GX1HDH2ah+DsZHJwhSIiIiLXT4H3FpaWfTHo7ic9Jx+AqABvRsfG8KdmCroiIiJSNSjw3oLSss18vPEAH286QMaFoBtTuxqjYmO4p2mwgq6IiIhUKQq8t5C0LDMfbTrA7MuCbv3AaoyOjaF3k2CcFHRFRESkClLgvQWcy8rjo40H+GTTQTJybUG3QaAPo2NjuLtJkIKuiIiIVGkKvFXY2cw8Pty4n09/OMT5C0G3YZAPY2Jj6NVYQVdERERuDQq8VdCZzDw+3LCfT384SGaeBYBGwb6MiY3hztsCFXRFRETklqLAW4WcPp/LrA0H+GzzQbIuBN3bgn0ZExdDz0YKuiIiInJrUuCtAlLP5zJr/X7mbDlkD7pN6vgyJrY+cY1qYzIp6IqIiMity6GPzsrIyGDs2LGEhYXh6elJx44d2bZtGwBms5nnn3+epk2b4u3tTUhICEOGDCElJeWa550xYwbh4eF4eHjQrl07fvzxx/K+FIdIPZ/Lq8t+p8v/W8P76/eTlWehaZ3qfDS0NUtHdqbnbYEKuyIiInLLc+gM7yOPPMLu3buZM2cOISEhzJ07l7i4OPbs2UO1atXYsWMH//rXv2jevDlnz55lzJgx3Hvvvfz000/FnnPhwoWMGzeO9957j3bt2jFlyhR69erFvn37qF27dgVeXfk5mZHDB+v2M3frIXLMVgCa163OmLgYejTQjK6IiIjI5UyGYRiOGDg7OxsfHx8WL17MPffcY29v1aoVd999Ny+//HKhY7Zt20bbtm05dOgQ9erVK/K87dq1o02bNkyfPh0Aq9VKaGgoo0aN4h//+EeRx+Tm5pKbm2t/nZ6eTmhoKKmpqfj6+t7IZZaI2Wxm5cqV9OzZE1dX12L7ncywrdFdsC2Z3PxLQXdUj0i6xvgr6IqIiIjDlDTPlJX09HT8/f1JS0u7Zl5z2Axvfn4+FosFDw+PAu2enp5s3LixyGPS0tIwmUzUqFGjyPfz8vLYvn0748ePt7c5OTkRFxfH5s2bi61l8uTJTJw4sVD7ihUr8PLyKsHVlI2VK1cW2Z6WB/FHnfjhhAmzYQu14dUM7gq10rD6aTITT/NdYoWVKSIiIlKs4vJMWcvKyipxX4cFXh8fHzp06MCkSZNo1KgRgYGBLFiwgM2bNxMdHV2of05ODs8//zyDBw8uNsWnpqZisVgIDAws0B4YGMjevXuLrWX8+PGMGzfO/vriDO+dd95Z7jO8FqvBlqRTrN68nTs6tKJ9VID90b7H03P4YMNBFu5KJu/CjG7LejUY2SOSzlG1NKMrIiIilYYjZnhLyqFreOfMmcOIESOoU6cOzs7OtGzZksGDB7N9+/YC/cxmMwMGDMAwDGbOnFnmdbi7u+Pu7l6o3dXVtVx/w77ffYyJS/dwLC0HcOazhJ0EV/dgdGw0vx/L4PNtR+xBt014TcbE1qdTtIKuiIiIVF7lnZ8uH6ekHBp4o6KiWLduHZmZmaSnpxMcHMzAgQOJjIy097kYdg8dOsTq1auvOuPq7++Ps7MzJ06cKNB+4sQJgoKCyu06rsf3u4/x5NwdXLmA+lhaDuO/3m1/3Tbcj7FxMXTQjK6IiIjIdXHotmQXeXt7ExwczNmzZ1m+fDl//vOfgUthNyEhgVWrVlGrVq2rnsfNzY1WrVoRHx9vb7NarcTHx9OhQ4dyvYbSsFgNJi7dUyjsXs7N2cTch9uy8PH2dIzWDWkiIiIi18uhM7zLly/HMAwaNGhAYmIizz77LA0bNmT48OGYzWbuu+8+duzYwbfffovFYuH48eMA+Pn54ebmBkBsbCz9+vVj5MiRAIwbN46hQ4fSunVr2rZty5QpU8jMzGT48OEOu84r/XjgzIVlDMXLsxg4Ozkp6IqIiIjcIIcG3rS0NMaPH09ycjJ+fn7079+fV155BVdXVw4ePMiSJUsAaNGiRYHj1qxZQ/fu3QFISkoiNTXV/t7AgQM5deoUL774IsePH6dFixZ8//33hW5kc6STGVcPu6XtJyIiIiLFc2jgHTBgAAMGDCjyvfDwcEqyRfDBgwcLtY0cOdI+41sZ1fbxuHanUvQTERERkeJVijW8t5q2EX4EV/eguMUKJiC4ugdtI/wqsiwRERGRKkmB1wGcnUy81Oc2gEKh9+Lrl/rcZt+PV0RERESunwKvg9zVJJiZf21JUPWCyxaCqnsw868tuatJsIMqExEREalaHLqG91Z3V5Nget4WxObEk6zYsJU7u7SjQ3RtzeyKiIiIlCEFXgdzdjLRLsKP078btIvwU9gVERERKWNa0iAiIiIiVZoCr4iIiIhUaQq8IiIiIlKlKfCKiIiISJWmwCsiIiIiVZoCr4iIiIhUadqWrAiGYQCQnp5eIeOZzWaysrJIT0/H1dW1QsYUERERKUsVnWcu5rSLue1qFHiLkJGRAUBoaKiDKxERERGRq8nIyKB69epX7WMyShKLbzFWq5WUlBR8fHwwmcr/QRDp6emEhoZy5MgRfH19y308ERERkbJW0XnGMAwyMjIICQnByenqq3Q1w1sEJycn6tatW+Hj+vr6KvCKiIjITa0i88y1ZnYv0k1rIiIiIlKlKfCKiIiISJWmwFsJuLu789JLL+Hu7u7oUkRERESuS2XOM7ppTURERESqNM3wioiIiEiVpsArIiIiIlWaAq+IiIiIVGkKvCIiIiJSpSnwOtD69evp06cPISEhmEwmvvnmG0eXJCIiIlJikydPpk2bNvj4+FC7dm369u3Lvn37HF1WIQq8DpSZmUnz5s2ZMWOGo0sRERERKbV169bx1FNPsWXLFlauXInZbObOO+8kMzPT0aUVoG3JKgmTycSiRYvo27evo0sRERERuS6nTp2idu3arFu3jq5duzq6HDvN8IqIiIhImUhLSwPAz8/PwZUUpMArIiIiIjfMarUyduxYOnXqRJMmTRxdTgEuji5ARERERG5+Tz31FLt372bjxo2OLqUQBV4RERERuSEjR47k22+/Zf369dStW9fR5RSiwCsiIiIi18UwDEaNGsWiRYtYu3YtERERji6pSAq8DnT+/HkSExPtrw8cOMDOnTvx8/OjXr16DqxMRERE5Nqeeuop5s+fz+LFi/Hx8eH48eMAVK9eHU9PTwdXd4m2JXOgtWvX0qNHj0LtQ4cO5ZNPPqn4gkRERERKwWQyFdk+e/Zshg0bVrHFXIUCr4iIiIhUadqWTERERESqNAVeEREREanSFHhFREREpEpT4BURERGRKk2BV0RERESqNAVeEREREanSFHhFREREpEpT4BURERGRKk2BV0REimUymfjmm28cXYaIyA1R4BURqaSGDRuGyWQq9HXXXXc5ujQRkZuKi6MLEBGR4t11113Mnj27QJu7u7uDqhERuTlphldEpBJzd3cnKCiowFfNmjUB23KDmTNncvfdd+Pp6UlkZCRffvllgeN//fVX7rjjDjw9PalVqxaPPfYY58+fL9Dn448/pnHjxri7uxMcHMzIkSMLvJ+amkq/fv3w8vIiJiaGJUuWlO9Fi4iUMQVeEZGb2L/+9S/69+/Prl27ePDBBxk0aBC///47AJmZmfTq1YuaNWuybds2vvjiC1atWlUg0M6cOZOnnnqKxx57jF9//ZUlS5YQHR1dYIyJEycyYMAAfvnlF3r37s2DDz7ImTNnKvQ6RURuhMkwDMPRRYiISGHDhg1j7ty5eHh4FGh/4YUXeOGFFzCZTDzxxBPMnDnT/l779u1p2bIl7777LrNmzeL555/nyJEjeHt7A7Bs2TL69OlDSkoKgYGB1KlTh+HDh/Pyyy8XWYPJZOL//u//mDRpEmAL0dWqVeO7777TWmIRuWloDa+ISCXWo0ePAoEWwM/Pz/7rDh06FHivQ4cO7Ny5E4Dff/+d5s2b28MuQKdOnbBarezbtw+TyURKSgqxsbFXraFZs2b2X3t7e+Pr68vJkyev95JERCqcAq+ISCXm7e1daIlBWfH09CxRP1dX1wKvTSYTVqu1PEoSESkXWsMrInIT27JlS6HXjRo1AqBRo0bs2rWLzMxM+/ubNm3CycmJBg0a4OPjQ3h4OPHx8RVas4hIRdMMr4hIJZabm8vx48cLtLm4uODv7w/AF198QevWrencuTPz5s3jxx9/5KOPPgLgwQcf5KWXXmLo0KFMmDCBU6dOMWrUKB566CECAwMBmDBhAk888QS1a9fm7rvvJiMjg02bNjFq1KiKvVARkXKkwCsiUol9//33BAcHF2hr0KABe/fuBWw7KHz++ef87W9/Izg4mAULFnDbbbcB4OXlxfLlyxkzZgxt2rTBy8uL/v3789Zbb9nPNXToUHJycnj77bd55pln8Pf357777qu4CxQRqQDapUFE5CZlMplYtGgRffv2dXQpIiKVmtbwioiIiEiVpsArIiIiIlWa1vCKiNyktCJNRKRkNMMrIiIiIlWaAq+IiIiIVGkKvCIiIiJSpSnwioiIiEiVpsArIiIiIlWaAq+IiIiIVGkKvCIiIiJSpSnwioiIiEiV9v8Bwg1IDb91pEoAAAAASUVORK5CYII=\n",
            "text/plain": ["<Figure size 800x400 with 1 Axes>"]
          },
          "metadata": {},
          "output_type": "display_data"
        }
      ],
      "source": [
        "import matplotlib.pyplot as plt\n",
        "\n",
        "epochs = range(1,3)\n",
        "\n",
        "plt.figure(figsize=(8, 4))\n",
        "plt.plot(epochs, train_losses, marker='o', label='Train loss')\n",
        "plt.plot(epochs, val_losses,   marker='s', label='Valid loss')\n",
        "plt.xlabel('Epoch'); plt.ylabel('Loss')\n",
        "plt.title('Train -Validation Loss')\n",
        "plt.xticks(epochs)\n",
        "plt.grid(True); plt.legend()\n",
        "plt.show()\n",
        "\n",
        "plt.figure(figsize=(8, 4))\n",
        "plt.plot(epochs, train_accs, marker='o', label='Train acc')\n",
        "plt.plot(epochs, val_accs,   marker='s', label='Valid acc')\n",
        "plt.xlabel('Epoch'); plt.ylabel('Accuracy (%)')\n",
        "plt.title('Train-Validation Accuracy')\n",
        "plt.xticks(epochs)\n",
        "plt.grid(True); plt.legend()\n",
        "plt.show()"
      ]
    },
    {
      "cell_type": "code",
      "execution_count": 57,
      "metadata": {
        "colab": {
          "base_uri": "https://localhost:8080/"
        },
        "executionInfo": {
          "elapsed": 119,
          "status": "ok",
          "timestamp": 1749125107990,
          "user": {
            "displayName": "Hakan Çobanoğlu",
            "userId": "12887805589343695815"
          },
          "user_tz": -180
        },
        "id": "zj3mwOm-8-W4",
        "outputId": "859c4fd1-862d-4af7-a8f4-d215c1025a82"
      },
      "outputs": [
        {
          "name": "stdout",
          "output_type": "stream",
          "text": [
            "{'label': 'POSITIVE', 'score': 0.997}\n",
            "{'label': 'NEGATIVE', 'score': 0.996}\n",
            "{'label': 'NEGATIVE', 'score': 0.849}\n",
            "{'label': 'NEGATIVE', 'score': 0.739}\n",
            "{'label': 'NEGATIVE', 'score': 0.925}\n",
            "{'label': 'NEGATIVE', 'score': 0.732}\n",
            "{'label': 'POSITIVE', 'score': 0.514}\n",
            "{'label': 'POSITIVE', 'score': 0.997}\n",
            "{'label': 'NEGATIVE', 'score': 0.947}\n"
          ]
        }
      ],
      "source": [
        "def predict_reviews(reviews):\n",
        "\n",
        "    if isinstance(reviews, str):\n",
        "        reviews = [reviews]\n",
        "\n",
        "    model.eval()\n",
        "    device_ = next(model.parameters()).device\n",
        "\n",
        "    results = []\n",
        "    with torch.no_grad():\n",
        "        enc = tokenizer(\n",
        "            reviews,\n",
        "            padding=True,\n",
        "            truncation=True,\n",
        "            max_length=MAX_LEN,\n",
        "            return_tensors=\"pt\"\n",
        "        ).to(device_)\n",
        "\n",
        "        logits = model(enc[\"input_ids\"], enc[\"attention_mask\"])\n",
        "        probs  = torch.softmax(logits, dim=-1)\n",
        "        preds  = probs.argmax(dim=-1).cpu().numpy()\n",
        "\n",
        "        for idx, review in enumerate(reviews):\n",
        "            label = \"POSITIVE\" if preds[idx] == 1 else \"NEGATIVE\"\n",
        "            score = probs[idx, preds[idx]].item()\n",
        "            results.append({\"label\": label, \"score\": round(score, 3)})\n",
        "\n",
        "    return results\n",
        "\n",
        "samples = [\n",
        "    \"The movie was surprisingly touching and well-acted.\",\n",
        "    \"Plot holes everywhere—what a waste of time!\",\n",
        "    \"I fell asleep halfway through.\",\n",
        "    \"Amazing cinematography but weak story.\",\n",
        "    \"\"\"i'll spare you the \"cinema is dead\" spiel and instead elect to mention that they literally say \"epic fail\" like five times in this movie\"\"\", #1/5-star\n",
        "    \"i have no clue what the plot of this was supposed to be, but one star because the scene of ryan in the car reminiscing about his ex while listening to all too well i fear i may know that feeling a little bit all too well.\", # 1/5-star\n",
        "    \"they added the scene where colt cries in the car while listening to all too well by taylor swift so that girls could have their own “literally me” ryan gosling moment\", #4/5-star\n",
        "    \"the fall guy was released in dvd/bluray format today so I had to watch it again and I know what you all will say regarding the amount of times I’ve seen this film but how could I just ignore watching it on my own new physical copy when it came in the mail today… I couldn’t, bc my love for this film is too strong\", #5-star\n",
        "    \"A clear thank-you message to stunt performers, and all those in a craft that frequently receives less recognition than it deserves, but a film that is messy—really messy. Gosling and Blunt try their hardest to lift the weak writing, and they occasionally succeed in providing ounces of charisma and charm, but their fundamental relationship felt deeply forced. It's an effort that unfortunately falls into many of the modern-day blockbuster traps—meta humour that lands less than it should and okay-ish action sequences that feel way too long (as does the entire film). There is true enthusiasm there, and don't get me wrong, there are some genuinely pretty funny and heartfelt moments (especially the ones with Gosling leading the line), but I can't help but feel slightly disappointed overall.\" #2,5/5 star\n",
        "]\n",
        "\n",
        "for out in predict_reviews(samples):\n",
        "    print(out)\n"
      ]
    },
    {
      "cell_type": "code",
      "execution_count": 51,
      "metadata": {
        "executionInfo": {
          "elapsed": 4378,
          "status": "ok",
          "timestamp": 1749124410992,
          "user": {
            "displayName": "Hakan Çobanoğlu",
            "userId": "12887805589343695815"
          },
          "user_tz": -180
        },
        "id": "kQC2HL7d7_iH"
      },
      "outputs": [],
      "source": [
        "torch.save(model.state_dict(), '/content/drive/MyDrive/model_weights.pth')"
      ]
    }
  ],
  "metadata": {
    "accelerator": "GPU",
    "colab": {
      "authorship_tag": "ABX9TyPOCbJqxed3au9dYJAOQLP3",
      "gpuType": "T4",
      "provenance": []
    },
    "kernelspec": {
      "display_name": "Python 3",
      "name": "python3"
    },
    "language_info": {
      "name": "python"
    },
    "widgets": {
      "application/vnd.jupyter.widget-state+json": {
        "0156294c49b349b3ad5c54a58110c91b": {
          "model_module": "@jupyter-widgets/controls",
          "model_module_version": "1.5.0",
          "model_name": "HTMLModel",
          "state": {
            "_dom_classes": [],
            "_model_module": "@jupyter-widgets/controls",
            "_model_module_version": "1.5.0",
            "_model_name": "HTMLModel",
            "_view_count": null,
            "_view_module": "@jupyter-widgets/controls",
            "_view_module_version": "1.5.0",
            "_view_name": "HTMLView",
            "description": "",
            "description_tooltip": null,
            "layout": "IPY_MODEL_6a777cfe40d44c1c87df3b2e2d20cd31",
            "placeholder": "​",
            "style": "IPY_MODEL_ce0f610827554de0b6f8f70b6559d3a3",
            "value": "vocab.json: 100%"
          }
        },
        "06b1dd3a5fd3499ab0ec79b99b2a3d3a": {
          "model_module": "@jupyter-widgets/controls",
          "model_module_version": "1.5.0",
          "model_name": "ProgressStyleModel",
          "state": {
            "_model_module": "@jupyter-widgets/controls",
            "_model_module_version": "1.5.0",
            "_model_name": "ProgressStyleModel",
            "_view_count": null,
            "_view_module": "@jupyter-widgets/base",
            "_view_module_version": "1.2.0",
            "_view_name": "StyleView",
            "bar_color": null,
            "description_width": ""
          }
        },
        "07e2a025f338403e824920744933cd20": {
          "model_module": "@jupyter-widgets/base",
          "model_module_version": "1.2.0",
          "model_name": "LayoutModel",
          "state": {
            "_model_module": "@jupyter-widgets/base",
            "_model_module_version": "1.2.0",
            "_model_name": "LayoutModel",
            "_view_count": null,
            "_view_module": "@jupyter-widgets/base",
            "_view_module_version": "1.2.0",
            "_view_name": "LayoutView",
            "align_content": null,
            "align_items": null,
            "align_self": null,
            "border": null,
            "bottom": null,
            "display": null,
            "flex": null,
            "flex_flow": null,
            "grid_area": null,
            "grid_auto_columns": null,
            "grid_auto_flow": null,
            "grid_auto_rows": null,
            "grid_column": null,
            "grid_gap": null,
            "grid_row": null,
            "grid_template_areas": null,
            "grid_template_columns": null,
            "grid_template_rows": null,
            "height": null,
            "justify_content": null,
            "justify_items": null,
            "left": null,
            "margin": null,
            "max_height": null,
            "max_width": null,
            "min_height": null,
            "min_width": null,
            "object_fit": null,
            "object_position": null,
            "order": null,
            "overflow": null,
            "overflow_x": null,
            "overflow_y": null,
            "padding": null,
            "right": null,
            "top": null,
            "visibility": null,
            "width": null
          }
        },
        "0bd6163596d94344b469933c355eddc0": {
          "model_module": "@jupyter-widgets/controls",
          "model_module_version": "1.5.0",
          "model_name": "HTMLModel",
          "state": {
            "_dom_classes": [],
            "_model_module": "@jupyter-widgets/controls",
            "_model_module_version": "1.5.0",
            "_model_name": "HTMLModel",
            "_view_count": null,
            "_view_module": "@jupyter-widgets/controls",
            "_view_module_version": "1.5.0",
            "_view_name": "HTMLView",
            "description": "",
            "description_tooltip": null,
            "layout": "IPY_MODEL_8febc6356f8148b795b835f401e15109",
            "placeholder": "​",
            "style": "IPY_MODEL_80dc5dfaf7b9487facd62df35ab783c3",
            "value": "tokenizer_config.json: 100%"
          }
        },
        "13dcedc893204775b16799b7a58f0b2b": {
          "model_module": "@jupyter-widgets/controls",
          "model_module_version": "1.5.0",
          "model_name": "HBoxModel",
          "state": {
            "_dom_classes": [],
            "_model_module": "@jupyter-widgets/controls",
            "_model_module_version": "1.5.0",
            "_model_name": "HBoxModel",
            "_view_count": null,
            "_view_module": "@jupyter-widgets/controls",
            "_view_module_version": "1.5.0",
            "_view_name": "HBoxView",
            "box_style": "",
            "children": [
              "IPY_MODEL_1802dd24165a4780b71c96e5c5d29da6",
              "IPY_MODEL_c0aeb9db97334f9a8a994532ae320b1f",
              "IPY_MODEL_ec970d9cf97a4f6fa2a6883a8e9fd19a"
            ],
            "layout": "IPY_MODEL_a5c098b64aa3492cb0c49f35154da519"
          }
        },
        "14f8ef3a3acf4092b2685941af8ce025": {
          "model_module": "@jupyter-widgets/base",
          "model_module_version": "1.2.0",
          "model_name": "LayoutModel",
          "state": {
            "_model_module": "@jupyter-widgets/base",
            "_model_module_version": "1.2.0",
            "_model_name": "LayoutModel",
            "_view_count": null,
            "_view_module": "@jupyter-widgets/base",
            "_view_module_version": "1.2.0",
            "_view_name": "LayoutView",
            "align_content": null,
            "align_items": null,
            "align_self": null,
            "border": null,
            "bottom": null,
            "display": null,
            "flex": null,
            "flex_flow": null,
            "grid_area": null,
            "grid_auto_columns": null,
            "grid_auto_flow": null,
            "grid_auto_rows": null,
            "grid_column": null,
            "grid_gap": null,
            "grid_row": null,
            "grid_template_areas": null,
            "grid_template_columns": null,
            "grid_template_rows": null,
            "height": null,
            "justify_content": null,
            "justify_items": null,
            "left": null,
            "margin": null,
            "max_height": null,
            "max_width": null,
            "min_height": null,
            "min_width": null,
            "object_fit": null,
            "object_position": null,
            "order": null,
            "overflow": null,
            "overflow_x": null,
            "overflow_y": null,
            "padding": null,
            "right": null,
            "top": null,
            "visibility": null,
            "width": null
          }
        },
        "15e50e12049d4cb6b2f292e19b62fe15": {
          "model_module": "@jupyter-widgets/controls",
          "model_module_version": "1.5.0",
          "model_name": "HTMLModel",
          "state": {
            "_dom_classes": [],
            "_model_module": "@jupyter-widgets/controls",
            "_model_module_version": "1.5.0",
            "_model_name": "HTMLModel",
            "_view_count": null,
            "_view_module": "@jupyter-widgets/controls",
            "_view_module_version": "1.5.0",
            "_view_name": "HTMLView",
            "description": "",
            "description_tooltip": null,
            "layout": "IPY_MODEL_85ad1e20f8fe4951a05a38c04dd95503",
            "placeholder": "​",
            "style": "IPY_MODEL_84e7b4d070d24b39a9e330566dce72f4",
            "value": "model.safetensors: 100%"
          }
        },
        "16987737fee84e62a2f85e7e738688f4": {
          "model_module": "@jupyter-widgets/controls",
          "model_module_version": "1.5.0",
          "model_name": "ProgressStyleModel",
          "state": {
            "_model_module": "@jupyter-widgets/controls",
            "_model_module_version": "1.5.0",
            "_model_name": "ProgressStyleModel",
            "_view_count": null,
            "_view_module": "@jupyter-widgets/base",
            "_view_module_version": "1.2.0",
            "_view_name": "StyleView",
            "bar_color": null,
            "description_width": ""
          }
        },
        "16d85250387c4631816dbc3c23d2b610": {
          "model_module": "@jupyter-widgets/base",
          "model_module_version": "1.2.0",
          "model_name": "LayoutModel",
          "state": {
            "_model_module": "@jupyter-widgets/base",
            "_model_module_version": "1.2.0",
            "_model_name": "LayoutModel",
            "_view_count": null,
            "_view_module": "@jupyter-widgets/base",
            "_view_module_version": "1.2.0",
            "_view_name": "LayoutView",
            "align_content": null,
            "align_items": null,
            "align_self": null,
            "border": null,
            "bottom": null,
            "display": null,
            "flex": null,
            "flex_flow": null,
            "grid_area": null,
            "grid_auto_columns": null,
            "grid_auto_flow": null,
            "grid_auto_rows": null,
            "grid_column": null,
            "grid_gap": null,
            "grid_row": null,
            "grid_template_areas": null,
            "grid_template_columns": null,
            "grid_template_rows": null,
            "height": null,
            "justify_content": null,
            "justify_items": null,
            "left": null,
            "margin": null,
            "max_height": null,
            "max_width": null,
            "min_height": null,
            "min_width": null,
            "object_fit": null,
            "object_position": null,
            "order": null,
            "overflow": null,
            "overflow_x": null,
            "overflow_y": null,
            "padding": null,
            "right": null,
            "top": null,
            "visibility": null,
            "width": null
          }
        },
        "1802dd24165a4780b71c96e5c5d29da6": {
          "model_module": "@jupyter-widgets/controls",
          "model_module_version": "1.5.0",
          "model_name": "HTMLModel",
          "state": {
            "_dom_classes": [],
            "_model_module": "@jupyter-widgets/controls",
            "_model_module_version": "1.5.0",
            "_model_name": "HTMLModel",
            "_view_count": null,
            "_view_module": "@jupyter-widgets/controls",
            "_view_module_version": "1.5.0",
            "_view_name": "HTMLView",
            "description": "",
            "description_tooltip": null,
            "layout": "IPY_MODEL_dc000c67e97548cd8a13a01bd94acd3f",
            "placeholder": "​",
            "style": "IPY_MODEL_82cd15d98a404c4baf340cb19f748ac2",
            "value": "merges.txt: 100%"
          }
        },
        "1c17de2cbd4c4a4e8bce95b7de6f3408": {
          "model_module": "@jupyter-widgets/base",
          "model_module_version": "1.2.0",
          "model_name": "LayoutModel",
          "state": {
            "_model_module": "@jupyter-widgets/base",
            "_model_module_version": "1.2.0",
            "_model_name": "LayoutModel",
            "_view_count": null,
            "_view_module": "@jupyter-widgets/base",
            "_view_module_version": "1.2.0",
            "_view_name": "LayoutView",
            "align_content": null,
            "align_items": null,
            "align_self": null,
            "border": null,
            "bottom": null,
            "display": null,
            "flex": null,
            "flex_flow": null,
            "grid_area": null,
            "grid_auto_columns": null,
            "grid_auto_flow": null,
            "grid_auto_rows": null,
            "grid_column": null,
            "grid_gap": null,
            "grid_row": null,
            "grid_template_areas": null,
            "grid_template_columns": null,
            "grid_template_rows": null,
            "height": null,
            "justify_content": null,
            "justify_items": null,
            "left": null,
            "margin": null,
            "max_height": null,
            "max_width": null,
            "min_height": null,
            "min_width": null,
            "object_fit": null,
            "object_position": null,
            "order": null,
            "overflow": null,
            "overflow_x": null,
            "overflow_y": null,
            "padding": null,
            "right": null,
            "top": null,
            "visibility": null,
            "width": null
          }
        },
        "1ddfaa571c32409ea4644817625bb9c2": {
          "model_module": "@jupyter-widgets/controls",
          "model_module_version": "1.5.0",
          "model_name": "DescriptionStyleModel",
          "state": {
            "_model_module": "@jupyter-widgets/controls",
            "_model_module_version": "1.5.0",
            "_model_name": "DescriptionStyleModel",
            "_view_count": null,
            "_view_module": "@jupyter-widgets/base",
            "_view_module_version": "1.2.0",
            "_view_name": "StyleView",
            "description_width": ""
          }
        },
        "1e2ab83004fb471eae5fa2484bda5c79": {
          "model_module": "@jupyter-widgets/base",
          "model_module_version": "1.2.0",
          "model_name": "LayoutModel",
          "state": {
            "_model_module": "@jupyter-widgets/base",
            "_model_module_version": "1.2.0",
            "_model_name": "LayoutModel",
            "_view_count": null,
            "_view_module": "@jupyter-widgets/base",
            "_view_module_version": "1.2.0",
            "_view_name": "LayoutView",
            "align_content": null,
            "align_items": null,
            "align_self": null,
            "border": null,
            "bottom": null,
            "display": null,
            "flex": null,
            "flex_flow": null,
            "grid_area": null,
            "grid_auto_columns": null,
            "grid_auto_flow": null,
            "grid_auto_rows": null,
            "grid_column": null,
            "grid_gap": null,
            "grid_row": null,
            "grid_template_areas": null,
            "grid_template_columns": null,
            "grid_template_rows": null,
            "height": null,
            "justify_content": null,
            "justify_items": null,
            "left": null,
            "margin": null,
            "max_height": null,
            "max_width": null,
            "min_height": null,
            "min_width": null,
            "object_fit": null,
            "object_position": null,
            "order": null,
            "overflow": null,
            "overflow_x": null,
            "overflow_y": null,
            "padding": null,
            "right": null,
            "top": null,
            "visibility": null,
            "width": null
          }
        },
        "1f014a1b6eb048629f407e2116e6bdd6": {
          "model_module": "@jupyter-widgets/controls",
          "model_module_version": "1.5.0",
          "model_name": "DescriptionStyleModel",
          "state": {
            "_model_module": "@jupyter-widgets/controls",
            "_model_module_version": "1.5.0",
            "_model_name": "DescriptionStyleModel",
            "_view_count": null,
            "_view_module": "@jupyter-widgets/base",
            "_view_module_version": "1.2.0",
            "_view_name": "StyleView",
            "description_width": ""
          }
        },
        "252010bd03f440ad8a3fb83c90418577": {
          "model_module": "@jupyter-widgets/base",
          "model_module_version": "1.2.0",
          "model_name": "LayoutModel",
          "state": {
            "_model_module": "@jupyter-widgets/base",
            "_model_module_version": "1.2.0",
            "_model_name": "LayoutModel",
            "_view_count": null,
            "_view_module": "@jupyter-widgets/base",
            "_view_module_version": "1.2.0",
            "_view_name": "LayoutView",
            "align_content": null,
            "align_items": null,
            "align_self": null,
            "border": null,
            "bottom": null,
            "display": null,
            "flex": null,
            "flex_flow": null,
            "grid_area": null,
            "grid_auto_columns": null,
            "grid_auto_flow": null,
            "grid_auto_rows": null,
            "grid_column": null,
            "grid_gap": null,
            "grid_row": null,
            "grid_template_areas": null,
            "grid_template_columns": null,
            "grid_template_rows": null,
            "height": null,
            "justify_content": null,
            "justify_items": null,
            "left": null,
            "margin": null,
            "max_height": null,
            "max_width": null,
            "min_height": null,
            "min_width": null,
            "object_fit": null,
            "object_position": null,
            "order": null,
            "overflow": null,
            "overflow_x": null,
            "overflow_y": null,
            "padding": null,
            "right": null,
            "top": null,
            "visibility": null,
            "width": null
          }
        },
        "2a5b10e8baf140edb6c76f2d816b28c0": {
          "model_module": "@jupyter-widgets/base",
          "model_module_version": "1.2.0",
          "model_name": "LayoutModel",
          "state": {
            "_model_module": "@jupyter-widgets/base",
            "_model_module_version": "1.2.0",
            "_model_name": "LayoutModel",
            "_view_count": null,
            "_view_module": "@jupyter-widgets/base",
            "_view_module_version": "1.2.0",
            "_view_name": "LayoutView",
            "align_content": null,
            "align_items": null,
            "align_self": null,
            "border": null,
            "bottom": null,
            "display": null,
            "flex": null,
            "flex_flow": null,
            "grid_area": null,
            "grid_auto_columns": null,
            "grid_auto_flow": null,
            "grid_auto_rows": null,
            "grid_column": null,
            "grid_gap": null,
            "grid_row": null,
            "grid_template_areas": null,
            "grid_template_columns": null,
            "grid_template_rows": null,
            "height": null,
            "justify_content": null,
            "justify_items": null,
            "left": null,
            "margin": null,
            "max_height": null,
            "max_width": null,
            "min_height": null,
            "min_width": null,
            "object_fit": null,
            "object_position": null,
            "order": null,
            "overflow": null,
            "overflow_x": null,
            "overflow_y": null,
            "padding": null,
            "right": null,
            "top": null,
            "visibility": null,
            "width": null
          }
        },
        "2aeb5cfdca224abeb6387e141e0dcefb": {
          "model_module": "@jupyter-widgets/base",
          "model_module_version": "1.2.0",
          "model_name": "LayoutModel",
          "state": {
            "_model_module": "@jupyter-widgets/base",
            "_model_module_version": "1.2.0",
            "_model_name": "LayoutModel",
            "_view_count": null,
            "_view_module": "@jupyter-widgets/base",
            "_view_module_version": "1.2.0",
            "_view_name": "LayoutView",
            "align_content": null,
            "align_items": null,
            "align_self": null,
            "border": null,
            "bottom": null,
            "display": null,
            "flex": null,
            "flex_flow": null,
            "grid_area": null,
            "grid_auto_columns": null,
            "grid_auto_flow": null,
            "grid_auto_rows": null,
            "grid_column": null,
            "grid_gap": null,
            "grid_row": null,
            "grid_template_areas": null,
            "grid_template_columns": null,
            "grid_template_rows": null,
            "height": null,
            "justify_content": null,
            "justify_items": null,
            "left": null,
            "margin": null,
            "max_height": null,
            "max_width": null,
            "min_height": null,
            "min_width": null,
            "object_fit": null,
            "object_position": null,
            "order": null,
            "overflow": null,
            "overflow_x": null,
            "overflow_y": null,
            "padding": null,
            "right": null,
            "top": null,
            "visibility": null,
            "width": null
          }
        },
        "338b3d8c72104348b1f4dd81cfe4e2a9": {
          "model_module": "@jupyter-widgets/controls",
          "model_module_version": "1.5.0",
          "model_name": "ProgressStyleModel",
          "state": {
            "_model_module": "@jupyter-widgets/controls",
            "_model_module_version": "1.5.0",
            "_model_name": "ProgressStyleModel",
            "_view_count": null,
            "_view_module": "@jupyter-widgets/base",
            "_view_module_version": "1.2.0",
            "_view_name": "StyleView",
            "bar_color": null,
            "description_width": ""
          }
        },
        "3bc9d70293704d02830a8a8176d420b9": {
          "model_module": "@jupyter-widgets/controls",
          "model_module_version": "1.5.0",
          "model_name": "HTMLModel",
          "state": {
            "_dom_classes": [],
            "_model_module": "@jupyter-widgets/controls",
            "_model_module_version": "1.5.0",
            "_model_name": "HTMLModel",
            "_view_count": null,
            "_view_module": "@jupyter-widgets/controls",
            "_view_module_version": "1.5.0",
            "_view_name": "HTMLView",
            "description": "",
            "description_tooltip": null,
            "layout": "IPY_MODEL_1e2ab83004fb471eae5fa2484bda5c79",
            "placeholder": "​",
            "style": "IPY_MODEL_7d670a3a6430483e8f073ffc196cf79a",
            "value": " 899k/899k [00:00&lt;00:00, 5.12MB/s]"
          }
        },
        "3c250b5ba13f4e0d84b1515f7f9c9ac9": {
          "model_module": "@jupyter-widgets/controls",
          "model_module_version": "1.5.0",
          "model_name": "DescriptionStyleModel",
          "state": {
            "_model_module": "@jupyter-widgets/controls",
            "_model_module_version": "1.5.0",
            "_model_name": "DescriptionStyleModel",
            "_view_count": null,
            "_view_module": "@jupyter-widgets/base",
            "_view_module_version": "1.2.0",
            "_view_name": "StyleView",
            "description_width": ""
          }
        },
        "4942ca2225d5457b8caa1ee5df46f0c7": {
          "model_module": "@jupyter-widgets/base",
          "model_module_version": "1.2.0",
          "model_name": "LayoutModel",
          "state": {
            "_model_module": "@jupyter-widgets/base",
            "_model_module_version": "1.2.0",
            "_model_name": "LayoutModel",
            "_view_count": null,
            "_view_module": "@jupyter-widgets/base",
            "_view_module_version": "1.2.0",
            "_view_name": "LayoutView",
            "align_content": null,
            "align_items": null,
            "align_self": null,
            "border": null,
            "bottom": null,
            "display": null,
            "flex": null,
            "flex_flow": null,
            "grid_area": null,
            "grid_auto_columns": null,
            "grid_auto_flow": null,
            "grid_auto_rows": null,
            "grid_column": null,
            "grid_gap": null,
            "grid_row": null,
            "grid_template_areas": null,
            "grid_template_columns": null,
            "grid_template_rows": null,
            "height": null,
            "justify_content": null,
            "justify_items": null,
            "left": null,
            "margin": null,
            "max_height": null,
            "max_width": null,
            "min_height": null,
            "min_width": null,
            "object_fit": null,
            "object_position": null,
            "order": null,
            "overflow": null,
            "overflow_x": null,
            "overflow_y": null,
            "padding": null,
            "right": null,
            "top": null,
            "visibility": null,
            "width": null
          }
        },
        "4d040a597305437798d2d28b30466635": {
          "model_module": "@jupyter-widgets/controls",
          "model_module_version": "1.5.0",
          "model_name": "HTMLModel",
          "state": {
            "_dom_classes": [],
            "_model_module": "@jupyter-widgets/controls",
            "_model_module_version": "1.5.0",
            "_model_name": "HTMLModel",
            "_view_count": null,
            "_view_module": "@jupyter-widgets/controls",
            "_view_module_version": "1.5.0",
            "_view_name": "HTMLView",
            "description": "",
            "description_tooltip": null,
            "layout": "IPY_MODEL_dbc28817ca1f4dc38611151aa515632a",
            "placeholder": "​",
            "style": "IPY_MODEL_b489bc79b8704276b957838f6b9eaed4",
            "value": " 481/481 [00:00&lt;00:00, 50.8kB/s]"
          }
        },
        "5fdd066cdfb543e89da51f2971591a66": {
          "model_module": "@jupyter-widgets/controls",
          "model_module_version": "1.5.0",
          "model_name": "ProgressStyleModel",
          "state": {
            "_model_module": "@jupyter-widgets/controls",
            "_model_module_version": "1.5.0",
            "_model_name": "ProgressStyleModel",
            "_view_count": null,
            "_view_module": "@jupyter-widgets/base",
            "_view_module_version": "1.2.0",
            "_view_name": "StyleView",
            "bar_color": null,
            "description_width": ""
          }
        },
        "637ecf0892d843e4ae090b8f2b7c2a5d": {
          "model_module": "@jupyter-widgets/base",
          "model_module_version": "1.2.0",
          "model_name": "LayoutModel",
          "state": {
            "_model_module": "@jupyter-widgets/base",
            "_model_module_version": "1.2.0",
            "_model_name": "LayoutModel",
            "_view_count": null,
            "_view_module": "@jupyter-widgets/base",
            "_view_module_version": "1.2.0",
            "_view_name": "LayoutView",
            "align_content": null,
            "align_items": null,
            "align_self": null,
            "border": null,
            "bottom": null,
            "display": null,
            "flex": null,
            "flex_flow": null,
            "grid_area": null,
            "grid_auto_columns": null,
            "grid_auto_flow": null,
            "grid_auto_rows": null,
            "grid_column": null,
            "grid_gap": null,
            "grid_row": null,
            "grid_template_areas": null,
            "grid_template_columns": null,
            "grid_template_rows": null,
            "height": null,
            "justify_content": null,
            "justify_items": null,
            "left": null,
            "margin": null,
            "max_height": null,
            "max_width": null,
            "min_height": null,
            "min_width": null,
            "object_fit": null,
            "object_position": null,
            "order": null,
            "overflow": null,
            "overflow_x": null,
            "overflow_y": null,
            "padding": null,
            "right": null,
            "top": null,
            "visibility": null,
            "width": null
          }
        },
        "6552f40b1ffd4a0183076376769a44e9": {
          "model_module": "@jupyter-widgets/controls",
          "model_module_version": "1.5.0",
          "model_name": "HTMLModel",
          "state": {
            "_dom_classes": [],
            "_model_module": "@jupyter-widgets/controls",
            "_model_module_version": "1.5.0",
            "_model_name": "HTMLModel",
            "_view_count": null,
            "_view_module": "@jupyter-widgets/controls",
            "_view_module_version": "1.5.0",
            "_view_name": "HTMLView",
            "description": "",
            "description_tooltip": null,
            "layout": "IPY_MODEL_252010bd03f440ad8a3fb83c90418577",
            "placeholder": "​",
            "style": "IPY_MODEL_72933a813a124c0a9c75a4797ea08829",
            "value": " 1.36M/1.36M [00:00&lt;00:00, 35.0MB/s]"
          }
        },
        "66bb425ac0f84d04baa858285ca74430": {
          "model_module": "@jupyter-widgets/controls",
          "model_module_version": "1.5.0",
          "model_name": "HTMLModel",
          "state": {
            "_dom_classes": [],
            "_model_module": "@jupyter-widgets/controls",
            "_model_module_version": "1.5.0",
            "_model_name": "HTMLModel",
            "_view_count": null,
            "_view_module": "@jupyter-widgets/controls",
            "_view_module_version": "1.5.0",
            "_view_name": "HTMLView",
            "description": "",
            "description_tooltip": null,
            "layout": "IPY_MODEL_14f8ef3a3acf4092b2685941af8ce025",
            "placeholder": "​",
            "style": "IPY_MODEL_1f014a1b6eb048629f407e2116e6bdd6",
            "value": " 25.0/25.0 [00:00&lt;00:00, 2.26kB/s]"
          }
        },
        "6758152845e149b0bb535e39a98b2ca3": {
          "model_module": "@jupyter-widgets/controls",
          "model_module_version": "1.5.0",
          "model_name": "HBoxModel",
          "state": {
            "_dom_classes": [],
            "_model_module": "@jupyter-widgets/controls",
            "_model_module_version": "1.5.0",
            "_model_name": "HBoxModel",
            "_view_count": null,
            "_view_module": "@jupyter-widgets/controls",
            "_view_module_version": "1.5.0",
            "_view_name": "HBoxView",
            "box_style": "",
            "children": [
              "IPY_MODEL_0bd6163596d94344b469933c355eddc0",
              "IPY_MODEL_9de51e1ed9374349913d82164d5dad51",
              "IPY_MODEL_66bb425ac0f84d04baa858285ca74430"
            ],
            "layout": "IPY_MODEL_07e2a025f338403e824920744933cd20"
          }
        },
        "6a777cfe40d44c1c87df3b2e2d20cd31": {
          "model_module": "@jupyter-widgets/base",
          "model_module_version": "1.2.0",
          "model_name": "LayoutModel",
          "state": {
            "_model_module": "@jupyter-widgets/base",
            "_model_module_version": "1.2.0",
            "_model_name": "LayoutModel",
            "_view_count": null,
            "_view_module": "@jupyter-widgets/base",
            "_view_module_version": "1.2.0",
            "_view_name": "LayoutView",
            "align_content": null,
            "align_items": null,
            "align_self": null,
            "border": null,
            "bottom": null,
            "display": null,
            "flex": null,
            "flex_flow": null,
            "grid_area": null,
            "grid_auto_columns": null,
            "grid_auto_flow": null,
            "grid_auto_rows": null,
            "grid_column": null,
            "grid_gap": null,
            "grid_row": null,
            "grid_template_areas": null,
            "grid_template_columns": null,
            "grid_template_rows": null,
            "height": null,
            "justify_content": null,
            "justify_items": null,
            "left": null,
            "margin": null,
            "max_height": null,
            "max_width": null,
            "min_height": null,
            "min_width": null,
            "object_fit": null,
            "object_position": null,
            "order": null,
            "overflow": null,
            "overflow_x": null,
            "overflow_y": null,
            "padding": null,
            "right": null,
            "top": null,
            "visibility": null,
            "width": null
          }
        },
        "72933a813a124c0a9c75a4797ea08829": {
          "model_module": "@jupyter-widgets/controls",
          "model_module_version": "1.5.0",
          "model_name": "DescriptionStyleModel",
          "state": {
            "_model_module": "@jupyter-widgets/controls",
            "_model_module_version": "1.5.0",
            "_model_name": "DescriptionStyleModel",
            "_view_count": null,
            "_view_module": "@jupyter-widgets/base",
            "_view_module_version": "1.2.0",
            "_view_name": "StyleView",
            "description_width": ""
          }
        },
        "790184049dea48b7b1d2f89af9823855": {
          "model_module": "@jupyter-widgets/controls",
          "model_module_version": "1.5.0",
          "model_name": "HTMLModel",
          "state": {
            "_dom_classes": [],
            "_model_module": "@jupyter-widgets/controls",
            "_model_module_version": "1.5.0",
            "_model_name": "HTMLModel",
            "_view_count": null,
            "_view_module": "@jupyter-widgets/controls",
            "_view_module_version": "1.5.0",
            "_view_name": "HTMLView",
            "description": "",
            "description_tooltip": null,
            "layout": "IPY_MODEL_d66c4eab4ee6438e984598753d43c120",
            "placeholder": "​",
            "style": "IPY_MODEL_97189a65af3a40d489884fcdc1061219",
            "value": "tokenizer.json: 100%"
          }
        },
        "7cae67278040498ebb018a077c25c5e8": {
          "model_module": "@jupyter-widgets/controls",
          "model_module_version": "1.5.0",
          "model_name": "FloatProgressModel",
          "state": {
            "_dom_classes": [],
            "_model_module": "@jupyter-widgets/controls",
            "_model_module_version": "1.5.0",
            "_model_name": "FloatProgressModel",
            "_view_count": null,
            "_view_module": "@jupyter-widgets/controls",
            "_view_module_version": "1.5.0",
            "_view_name": "ProgressView",
            "bar_style": "success",
            "description": "",
            "description_tooltip": null,
            "layout": "IPY_MODEL_2a5b10e8baf140edb6c76f2d816b28c0",
            "max": 481,
            "min": 0,
            "orientation": "horizontal",
            "style": "IPY_MODEL_a37b486d6f5145c7b9362525da81195d",
            "value": 481
          }
        },
        "7d670a3a6430483e8f073ffc196cf79a": {
          "model_module": "@jupyter-widgets/controls",
          "model_module_version": "1.5.0",
          "model_name": "DescriptionStyleModel",
          "state": {
            "_model_module": "@jupyter-widgets/controls",
            "_model_module_version": "1.5.0",
            "_model_name": "DescriptionStyleModel",
            "_view_count": null,
            "_view_module": "@jupyter-widgets/base",
            "_view_module_version": "1.2.0",
            "_view_name": "StyleView",
            "description_width": ""
          }
        },
        "80a48330aa45463fb9eaee855a4cb03f": {
          "model_module": "@jupyter-widgets/controls",
          "model_module_version": "1.5.0",
          "model_name": "DescriptionStyleModel",
          "state": {
            "_model_module": "@jupyter-widgets/controls",
            "_model_module_version": "1.5.0",
            "_model_name": "DescriptionStyleModel",
            "_view_count": null,
            "_view_module": "@jupyter-widgets/base",
            "_view_module_version": "1.2.0",
            "_view_name": "StyleView",
            "description_width": ""
          }
        },
        "80dc5dfaf7b9487facd62df35ab783c3": {
          "model_module": "@jupyter-widgets/controls",
          "model_module_version": "1.5.0",
          "model_name": "DescriptionStyleModel",
          "state": {
            "_model_module": "@jupyter-widgets/controls",
            "_model_module_version": "1.5.0",
            "_model_name": "DescriptionStyleModel",
            "_view_count": null,
            "_view_module": "@jupyter-widgets/base",
            "_view_module_version": "1.2.0",
            "_view_name": "StyleView",
            "description_width": ""
          }
        },
        "82cd15d98a404c4baf340cb19f748ac2": {
          "model_module": "@jupyter-widgets/controls",
          "model_module_version": "1.5.0",
          "model_name": "DescriptionStyleModel",
          "state": {
            "_model_module": "@jupyter-widgets/controls",
            "_model_module_version": "1.5.0",
            "_model_name": "DescriptionStyleModel",
            "_view_count": null,
            "_view_module": "@jupyter-widgets/base",
            "_view_module_version": "1.2.0",
            "_view_name": "StyleView",
            "description_width": ""
          }
        },
        "84e7b4d070d24b39a9e330566dce72f4": {
          "model_module": "@jupyter-widgets/controls",
          "model_module_version": "1.5.0",
          "model_name": "DescriptionStyleModel",
          "state": {
            "_model_module": "@jupyter-widgets/controls",
            "_model_module_version": "1.5.0",
            "_model_name": "DescriptionStyleModel",
            "_view_count": null,
            "_view_module": "@jupyter-widgets/base",
            "_view_module_version": "1.2.0",
            "_view_name": "StyleView",
            "description_width": ""
          }
        },
        "855b4986fd3b409990b4e9110fed1cbe": {
          "model_module": "@jupyter-widgets/controls",
          "model_module_version": "1.5.0",
          "model_name": "HBoxModel",
          "state": {
            "_dom_classes": [],
            "_model_module": "@jupyter-widgets/controls",
            "_model_module_version": "1.5.0",
            "_model_name": "HBoxModel",
            "_view_count": null,
            "_view_module": "@jupyter-widgets/controls",
            "_view_module_version": "1.5.0",
            "_view_name": "HBoxView",
            "box_style": "",
            "children": [
              "IPY_MODEL_15e50e12049d4cb6b2f292e19b62fe15",
              "IPY_MODEL_e2e2ed86842844e0bedf29d4de243162",
              "IPY_MODEL_f4b5eb8203c14f7db3b46c6b46edb1a6"
            ],
            "layout": "IPY_MODEL_dccdebc4b18345708595563fb0982fb8"
          }
        },
        "85ad1e20f8fe4951a05a38c04dd95503": {
          "model_module": "@jupyter-widgets/base",
          "model_module_version": "1.2.0",
          "model_name": "LayoutModel",
          "state": {
            "_model_module": "@jupyter-widgets/base",
            "_model_module_version": "1.2.0",
            "_model_name": "LayoutModel",
            "_view_count": null,
            "_view_module": "@jupyter-widgets/base",
            "_view_module_version": "1.2.0",
            "_view_name": "LayoutView",
            "align_content": null,
            "align_items": null,
            "align_self": null,
            "border": null,
            "bottom": null,
            "display": null,
            "flex": null,
            "flex_flow": null,
            "grid_area": null,
            "grid_auto_columns": null,
            "grid_auto_flow": null,
            "grid_auto_rows": null,
            "grid_column": null,
            "grid_gap": null,
            "grid_row": null,
            "grid_template_areas": null,
            "grid_template_columns": null,
            "grid_template_rows": null,
            "height": null,
            "justify_content": null,
            "justify_items": null,
            "left": null,
            "margin": null,
            "max_height": null,
            "max_width": null,
            "min_height": null,
            "min_width": null,
            "object_fit": null,
            "object_position": null,
            "order": null,
            "overflow": null,
            "overflow_x": null,
            "overflow_y": null,
            "padding": null,
            "right": null,
            "top": null,
            "visibility": null,
            "width": null
          }
        },
        "8991b739670e474a885899b4b0ece74b": {
          "model_module": "@jupyter-widgets/controls",
          "model_module_version": "1.5.0",
          "model_name": "FloatProgressModel",
          "state": {
            "_dom_classes": [],
            "_model_module": "@jupyter-widgets/controls",
            "_model_module_version": "1.5.0",
            "_model_name": "FloatProgressModel",
            "_view_count": null,
            "_view_module": "@jupyter-widgets/controls",
            "_view_module_version": "1.5.0",
            "_view_name": "ProgressView",
            "bar_style": "success",
            "description": "",
            "description_tooltip": null,
            "layout": "IPY_MODEL_4942ca2225d5457b8caa1ee5df46f0c7",
            "max": 898823,
            "min": 0,
            "orientation": "horizontal",
            "style": "IPY_MODEL_de2e731a46004a03b2f96edcb4112485",
            "value": 898823
          }
        },
        "8a56ff76cc9a456397c07019daecabcf": {
          "model_module": "@jupyter-widgets/controls",
          "model_module_version": "1.5.0",
          "model_name": "HBoxModel",
          "state": {
            "_dom_classes": [],
            "_model_module": "@jupyter-widgets/controls",
            "_model_module_version": "1.5.0",
            "_model_name": "HBoxModel",
            "_view_count": null,
            "_view_module": "@jupyter-widgets/controls",
            "_view_module_version": "1.5.0",
            "_view_name": "HBoxView",
            "box_style": "",
            "children": [
              "IPY_MODEL_0156294c49b349b3ad5c54a58110c91b",
              "IPY_MODEL_8991b739670e474a885899b4b0ece74b",
              "IPY_MODEL_3bc9d70293704d02830a8a8176d420b9"
            ],
            "layout": "IPY_MODEL_637ecf0892d843e4ae090b8f2b7c2a5d"
          }
        },
        "8febc6356f8148b795b835f401e15109": {
          "model_module": "@jupyter-widgets/base",
          "model_module_version": "1.2.0",
          "model_name": "LayoutModel",
          "state": {
            "_model_module": "@jupyter-widgets/base",
            "_model_module_version": "1.2.0",
            "_model_name": "LayoutModel",
            "_view_count": null,
            "_view_module": "@jupyter-widgets/base",
            "_view_module_version": "1.2.0",
            "_view_name": "LayoutView",
            "align_content": null,
            "align_items": null,
            "align_self": null,
            "border": null,
            "bottom": null,
            "display": null,
            "flex": null,
            "flex_flow": null,
            "grid_area": null,
            "grid_auto_columns": null,
            "grid_auto_flow": null,
            "grid_auto_rows": null,
            "grid_column": null,
            "grid_gap": null,
            "grid_row": null,
            "grid_template_areas": null,
            "grid_template_columns": null,
            "grid_template_rows": null,
            "height": null,
            "justify_content": null,
            "justify_items": null,
            "left": null,
            "margin": null,
            "max_height": null,
            "max_width": null,
            "min_height": null,
            "min_width": null,
            "object_fit": null,
            "object_position": null,
            "order": null,
            "overflow": null,
            "overflow_x": null,
            "overflow_y": null,
            "padding": null,
            "right": null,
            "top": null,
            "visibility": null,
            "width": null
          }
        },
        "9145230f95554740b823d4f7856d3b39": {
          "model_module": "@jupyter-widgets/base",
          "model_module_version": "1.2.0",
          "model_name": "LayoutModel",
          "state": {
            "_model_module": "@jupyter-widgets/base",
            "_model_module_version": "1.2.0",
            "_model_name": "LayoutModel",
            "_view_count": null,
            "_view_module": "@jupyter-widgets/base",
            "_view_module_version": "1.2.0",
            "_view_name": "LayoutView",
            "align_content": null,
            "align_items": null,
            "align_self": null,
            "border": null,
            "bottom": null,
            "display": null,
            "flex": null,
            "flex_flow": null,
            "grid_area": null,
            "grid_auto_columns": null,
            "grid_auto_flow": null,
            "grid_auto_rows": null,
            "grid_column": null,
            "grid_gap": null,
            "grid_row": null,
            "grid_template_areas": null,
            "grid_template_columns": null,
            "grid_template_rows": null,
            "height": null,
            "justify_content": null,
            "justify_items": null,
            "left": null,
            "margin": null,
            "max_height": null,
            "max_width": null,
            "min_height": null,
            "min_width": null,
            "object_fit": null,
            "object_position": null,
            "order": null,
            "overflow": null,
            "overflow_x": null,
            "overflow_y": null,
            "padding": null,
            "right": null,
            "top": null,
            "visibility": null,
            "width": null
          }
        },
        "97189a65af3a40d489884fcdc1061219": {
          "model_module": "@jupyter-widgets/controls",
          "model_module_version": "1.5.0",
          "model_name": "DescriptionStyleModel",
          "state": {
            "_model_module": "@jupyter-widgets/controls",
            "_model_module_version": "1.5.0",
            "_model_name": "DescriptionStyleModel",
            "_view_count": null,
            "_view_module": "@jupyter-widgets/base",
            "_view_module_version": "1.2.0",
            "_view_name": "StyleView",
            "description_width": ""
          }
        },
        "9de51e1ed9374349913d82164d5dad51": {
          "model_module": "@jupyter-widgets/controls",
          "model_module_version": "1.5.0",
          "model_name": "FloatProgressModel",
          "state": {
            "_dom_classes": [],
            "_model_module": "@jupyter-widgets/controls",
            "_model_module_version": "1.5.0",
            "_model_name": "FloatProgressModel",
            "_view_count": null,
            "_view_module": "@jupyter-widgets/controls",
            "_view_module_version": "1.5.0",
            "_view_name": "ProgressView",
            "bar_style": "success",
            "description": "",
            "description_tooltip": null,
            "layout": "IPY_MODEL_f5e5eb567ec440aea0dbf56ddc3bb7bd",
            "max": 25,
            "min": 0,
            "orientation": "horizontal",
            "style": "IPY_MODEL_16987737fee84e62a2f85e7e738688f4",
            "value": 25
          }
        },
        "a37b486d6f5145c7b9362525da81195d": {
          "model_module": "@jupyter-widgets/controls",
          "model_module_version": "1.5.0",
          "model_name": "ProgressStyleModel",
          "state": {
            "_model_module": "@jupyter-widgets/controls",
            "_model_module_version": "1.5.0",
            "_model_name": "ProgressStyleModel",
            "_view_count": null,
            "_view_module": "@jupyter-widgets/base",
            "_view_module_version": "1.2.0",
            "_view_name": "StyleView",
            "bar_color": null,
            "description_width": ""
          }
        },
        "a5c098b64aa3492cb0c49f35154da519": {
          "model_module": "@jupyter-widgets/base",
          "model_module_version": "1.2.0",
          "model_name": "LayoutModel",
          "state": {
            "_model_module": "@jupyter-widgets/base",
            "_model_module_version": "1.2.0",
            "_model_name": "LayoutModel",
            "_view_count": null,
            "_view_module": "@jupyter-widgets/base",
            "_view_module_version": "1.2.0",
            "_view_name": "LayoutView",
            "align_content": null,
            "align_items": null,
            "align_self": null,
            "border": null,
            "bottom": null,
            "display": null,
            "flex": null,
            "flex_flow": null,
            "grid_area": null,
            "grid_auto_columns": null,
            "grid_auto_flow": null,
            "grid_auto_rows": null,
            "grid_column": null,
            "grid_gap": null,
            "grid_row": null,
            "grid_template_areas": null,
            "grid_template_columns": null,
            "grid_template_rows": null,
            "height": null,
            "justify_content": null,
            "justify_items": null,
            "left": null,
            "margin": null,
            "max_height": null,
            "max_width": null,
            "min_height": null,
            "min_width": null,
            "object_fit": null,
            "object_position": null,
            "order": null,
            "overflow": null,
            "overflow_x": null,
            "overflow_y": null,
            "padding": null,
            "right": null,
            "top": null,
            "visibility": null,
            "width": null
          }
        },
        "b489bc79b8704276b957838f6b9eaed4": {
          "model_module": "@jupyter-widgets/controls",
          "model_module_version": "1.5.0",
          "model_name": "DescriptionStyleModel",
          "state": {
            "_model_module": "@jupyter-widgets/controls",
            "_model_module_version": "1.5.0",
            "_model_name": "DescriptionStyleModel",
            "_view_count": null,
            "_view_module": "@jupyter-widgets/base",
            "_view_module_version": "1.2.0",
            "_view_name": "StyleView",
            "description_width": ""
          }
        },
        "b65668768f1e4ca594086831dad3f98a": {
          "model_module": "@jupyter-widgets/controls",
          "model_module_version": "1.5.0",
          "model_name": "HTMLModel",
          "state": {
            "_dom_classes": [],
            "_model_module": "@jupyter-widgets/controls",
            "_model_module_version": "1.5.0",
            "_model_name": "HTMLModel",
            "_view_count": null,
            "_view_module": "@jupyter-widgets/controls",
            "_view_module_version": "1.5.0",
            "_view_name": "HTMLView",
            "description": "",
            "description_tooltip": null,
            "layout": "IPY_MODEL_2aeb5cfdca224abeb6387e141e0dcefb",
            "placeholder": "​",
            "style": "IPY_MODEL_3c250b5ba13f4e0d84b1515f7f9c9ac9",
            "value": "config.json: 100%"
          }
        },
        "b665022fa4f04b3db89ebcbe4caa0d07": {
          "model_module": "@jupyter-widgets/controls",
          "model_module_version": "1.5.0",
          "model_name": "HBoxModel",
          "state": {
            "_dom_classes": [],
            "_model_module": "@jupyter-widgets/controls",
            "_model_module_version": "1.5.0",
            "_model_name": "HBoxModel",
            "_view_count": null,
            "_view_module": "@jupyter-widgets/controls",
            "_view_module_version": "1.5.0",
            "_view_name": "HBoxView",
            "box_style": "",
            "children": [
              "IPY_MODEL_b65668768f1e4ca594086831dad3f98a",
              "IPY_MODEL_7cae67278040498ebb018a077c25c5e8",
              "IPY_MODEL_4d040a597305437798d2d28b30466635"
            ],
            "layout": "IPY_MODEL_9145230f95554740b823d4f7856d3b39"
          }
        },
        "ba2d909803b6419f892764f57e55fe11": {
          "model_module": "@jupyter-widgets/base",
          "model_module_version": "1.2.0",
          "model_name": "LayoutModel",
          "state": {
            "_model_module": "@jupyter-widgets/base",
            "_model_module_version": "1.2.0",
            "_model_name": "LayoutModel",
            "_view_count": null,
            "_view_module": "@jupyter-widgets/base",
            "_view_module_version": "1.2.0",
            "_view_name": "LayoutView",
            "align_content": null,
            "align_items": null,
            "align_self": null,
            "border": null,
            "bottom": null,
            "display": null,
            "flex": null,
            "flex_flow": null,
            "grid_area": null,
            "grid_auto_columns": null,
            "grid_auto_flow": null,
            "grid_auto_rows": null,
            "grid_column": null,
            "grid_gap": null,
            "grid_row": null,
            "grid_template_areas": null,
            "grid_template_columns": null,
            "grid_template_rows": null,
            "height": null,
            "justify_content": null,
            "justify_items": null,
            "left": null,
            "margin": null,
            "max_height": null,
            "max_width": null,
            "min_height": null,
            "min_width": null,
            "object_fit": null,
            "object_position": null,
            "order": null,
            "overflow": null,
            "overflow_x": null,
            "overflow_y": null,
            "padding": null,
            "right": null,
            "top": null,
            "visibility": null,
            "width": null
          }
        },
        "c0aeb9db97334f9a8a994532ae320b1f": {
          "model_module": "@jupyter-widgets/controls",
          "model_module_version": "1.5.0",
          "model_name": "FloatProgressModel",
          "state": {
            "_dom_classes": [],
            "_model_module": "@jupyter-widgets/controls",
            "_model_module_version": "1.5.0",
            "_model_name": "FloatProgressModel",
            "_view_count": null,
            "_view_module": "@jupyter-widgets/controls",
            "_view_module_version": "1.5.0",
            "_view_name": "ProgressView",
            "bar_style": "success",
            "description": "",
            "description_tooltip": null,
            "layout": "IPY_MODEL_f2d8d6ec69d44c15a4ebfe0cee1415b3",
            "max": 456318,
            "min": 0,
            "orientation": "horizontal",
            "style": "IPY_MODEL_338b3d8c72104348b1f4dd81cfe4e2a9",
            "value": 456318
          }
        },
        "ce0f610827554de0b6f8f70b6559d3a3": {
          "model_module": "@jupyter-widgets/controls",
          "model_module_version": "1.5.0",
          "model_name": "DescriptionStyleModel",
          "state": {
            "_model_module": "@jupyter-widgets/controls",
            "_model_module_version": "1.5.0",
            "_model_name": "DescriptionStyleModel",
            "_view_count": null,
            "_view_module": "@jupyter-widgets/base",
            "_view_module_version": "1.2.0",
            "_view_name": "StyleView",
            "description_width": ""
          }
        },
        "d66c4eab4ee6438e984598753d43c120": {
          "model_module": "@jupyter-widgets/base",
          "model_module_version": "1.2.0",
          "model_name": "LayoutModel",
          "state": {
            "_model_module": "@jupyter-widgets/base",
            "_model_module_version": "1.2.0",
            "_model_name": "LayoutModel",
            "_view_count": null,
            "_view_module": "@jupyter-widgets/base",
            "_view_module_version": "1.2.0",
            "_view_name": "LayoutView",
            "align_content": null,
            "align_items": null,
            "align_self": null,
            "border": null,
            "bottom": null,
            "display": null,
            "flex": null,
            "flex_flow": null,
            "grid_area": null,
            "grid_auto_columns": null,
            "grid_auto_flow": null,
            "grid_auto_rows": null,
            "grid_column": null,
            "grid_gap": null,
            "grid_row": null,
            "grid_template_areas": null,
            "grid_template_columns": null,
            "grid_template_rows": null,
            "height": null,
            "justify_content": null,
            "justify_items": null,
            "left": null,
            "margin": null,
            "max_height": null,
            "max_width": null,
            "min_height": null,
            "min_width": null,
            "object_fit": null,
            "object_position": null,
            "order": null,
            "overflow": null,
            "overflow_x": null,
            "overflow_y": null,
            "padding": null,
            "right": null,
            "top": null,
            "visibility": null,
            "width": null
          }
        },
        "dbc28817ca1f4dc38611151aa515632a": {
          "model_module": "@jupyter-widgets/base",
          "model_module_version": "1.2.0",
          "model_name": "LayoutModel",
          "state": {
            "_model_module": "@jupyter-widgets/base",
            "_model_module_version": "1.2.0",
            "_model_name": "LayoutModel",
            "_view_count": null,
            "_view_module": "@jupyter-widgets/base",
            "_view_module_version": "1.2.0",
            "_view_name": "LayoutView",
            "align_content": null,
            "align_items": null,
            "align_self": null,
            "border": null,
            "bottom": null,
            "display": null,
            "flex": null,
            "flex_flow": null,
            "grid_area": null,
            "grid_auto_columns": null,
            "grid_auto_flow": null,
            "grid_auto_rows": null,
            "grid_column": null,
            "grid_gap": null,
            "grid_row": null,
            "grid_template_areas": null,
            "grid_template_columns": null,
            "grid_template_rows": null,
            "height": null,
            "justify_content": null,
            "justify_items": null,
            "left": null,
            "margin": null,
            "max_height": null,
            "max_width": null,
            "min_height": null,
            "min_width": null,
            "object_fit": null,
            "object_position": null,
            "order": null,
            "overflow": null,
            "overflow_x": null,
            "overflow_y": null,
            "padding": null,
            "right": null,
            "top": null,
            "visibility": null,
            "width": null
          }
        },
        "dc000c67e97548cd8a13a01bd94acd3f": {
          "model_module": "@jupyter-widgets/base",
          "model_module_version": "1.2.0",
          "model_name": "LayoutModel",
          "state": {
            "_model_module": "@jupyter-widgets/base",
            "_model_module_version": "1.2.0",
            "_model_name": "LayoutModel",
            "_view_count": null,
            "_view_module": "@jupyter-widgets/base",
            "_view_module_version": "1.2.0",
            "_view_name": "LayoutView",
            "align_content": null,
            "align_items": null,
            "align_self": null,
            "border": null,
            "bottom": null,
            "display": null,
            "flex": null,
            "flex_flow": null,
            "grid_area": null,
            "grid_auto_columns": null,
            "grid_auto_flow": null,
            "grid_auto_rows": null,
            "grid_column": null,
            "grid_gap": null,
            "grid_row": null,
            "grid_template_areas": null,
            "grid_template_columns": null,
            "grid_template_rows": null,
            "height": null,
            "justify_content": null,
            "justify_items": null,
            "left": null,
            "margin": null,
            "max_height": null,
            "max_width": null,
            "min_height": null,
            "min_width": null,
            "object_fit": null,
            "object_position": null,
            "order": null,
            "overflow": null,
            "overflow_x": null,
            "overflow_y": null,
            "padding": null,
            "right": null,
            "top": null,
            "visibility": null,
            "width": null
          }
        },
        "dccdebc4b18345708595563fb0982fb8": {
          "model_module": "@jupyter-widgets/base",
          "model_module_version": "1.2.0",
          "model_name": "LayoutModel",
          "state": {
            "_model_module": "@jupyter-widgets/base",
            "_model_module_version": "1.2.0",
            "_model_name": "LayoutModel",
            "_view_count": null,
            "_view_module": "@jupyter-widgets/base",
            "_view_module_version": "1.2.0",
            "_view_name": "LayoutView",
            "align_content": null,
            "align_items": null,
            "align_self": null,
            "border": null,
            "bottom": null,
            "display": null,
            "flex": null,
            "flex_flow": null,
            "grid_area": null,
            "grid_auto_columns": null,
            "grid_auto_flow": null,
            "grid_auto_rows": null,
            "grid_column": null,
            "grid_gap": null,
            "grid_row": null,
            "grid_template_areas": null,
            "grid_template_columns": null,
            "grid_template_rows": null,
            "height": null,
            "justify_content": null,
            "justify_items": null,
            "left": null,
            "margin": null,
            "max_height": null,
            "max_width": null,
            "min_height": null,
            "min_width": null,
            "object_fit": null,
            "object_position": null,
            "order": null,
            "overflow": null,
            "overflow_x": null,
            "overflow_y": null,
            "padding": null,
            "right": null,
            "top": null,
            "visibility": null,
            "width": null
          }
        },
        "de2e731a46004a03b2f96edcb4112485": {
          "model_module": "@jupyter-widgets/controls",
          "model_module_version": "1.5.0",
          "model_name": "ProgressStyleModel",
          "state": {
            "_model_module": "@jupyter-widgets/controls",
            "_model_module_version": "1.5.0",
            "_model_name": "ProgressStyleModel",
            "_view_count": null,
            "_view_module": "@jupyter-widgets/base",
            "_view_module_version": "1.2.0",
            "_view_name": "StyleView",
            "bar_color": null,
            "description_width": ""
          }
        },
        "e2e2ed86842844e0bedf29d4de243162": {
          "model_module": "@jupyter-widgets/controls",
          "model_module_version": "1.5.0",
          "model_name": "FloatProgressModel",
          "state": {
            "_dom_classes": [],
            "_model_module": "@jupyter-widgets/controls",
            "_model_module_version": "1.5.0",
            "_model_name": "FloatProgressModel",
            "_view_count": null,
            "_view_module": "@jupyter-widgets/controls",
            "_view_module_version": "1.5.0",
            "_view_name": "ProgressView",
            "bar_style": "success",
            "description": "",
            "description_tooltip": null,
            "layout": "IPY_MODEL_ba2d909803b6419f892764f57e55fe11",
            "max": 498818054,
            "min": 0,
            "orientation": "horizontal",
            "style": "IPY_MODEL_5fdd066cdfb543e89da51f2971591a66",
            "value": 498818054
          }
        },
        "e96e25a7648644c986b33c494b950f61": {
          "model_module": "@jupyter-widgets/controls",
          "model_module_version": "1.5.0",
          "model_name": "FloatProgressModel",
          "state": {
            "_dom_classes": [],
            "_model_module": "@jupyter-widgets/controls",
            "_model_module_version": "1.5.0",
            "_model_name": "FloatProgressModel",
            "_view_count": null,
            "_view_module": "@jupyter-widgets/controls",
            "_view_module_version": "1.5.0",
            "_view_name": "ProgressView",
            "bar_style": "success",
            "description": "",
            "description_tooltip": null,
            "layout": "IPY_MODEL_ee8603bcf24e43a59889998fb485f05d",
            "max": 1355863,
            "min": 0,
            "orientation": "horizontal",
            "style": "IPY_MODEL_06b1dd3a5fd3499ab0ec79b99b2a3d3a",
            "value": 1355863
          }
        },
        "ec970d9cf97a4f6fa2a6883a8e9fd19a": {
          "model_module": "@jupyter-widgets/controls",
          "model_module_version": "1.5.0",
          "model_name": "HTMLModel",
          "state": {
            "_dom_classes": [],
            "_model_module": "@jupyter-widgets/controls",
            "_model_module_version": "1.5.0",
            "_model_name": "HTMLModel",
            "_view_count": null,
            "_view_module": "@jupyter-widgets/controls",
            "_view_module_version": "1.5.0",
            "_view_name": "HTMLView",
            "description": "",
            "description_tooltip": null,
            "layout": "IPY_MODEL_16d85250387c4631816dbc3c23d2b610",
            "placeholder": "​",
            "style": "IPY_MODEL_1ddfaa571c32409ea4644817625bb9c2",
            "value": " 456k/456k [00:00&lt;00:00, 28.0MB/s]"
          }
        },
        "ee8603bcf24e43a59889998fb485f05d": {
          "model_module": "@jupyter-widgets/base",
          "model_module_version": "1.2.0",
          "model_name": "LayoutModel",
          "state": {
            "_model_module": "@jupyter-widgets/base",
            "_model_module_version": "1.2.0",
            "_model_name": "LayoutModel",
            "_view_count": null,
            "_view_module": "@jupyter-widgets/base",
            "_view_module_version": "1.2.0",
            "_view_name": "LayoutView",
            "align_content": null,
            "align_items": null,
            "align_self": null,
            "border": null,
            "bottom": null,
            "display": null,
            "flex": null,
            "flex_flow": null,
            "grid_area": null,
            "grid_auto_columns": null,
            "grid_auto_flow": null,
            "grid_auto_rows": null,
            "grid_column": null,
            "grid_gap": null,
            "grid_row": null,
            "grid_template_areas": null,
            "grid_template_columns": null,
            "grid_template_rows": null,
            "height": null,
            "justify_content": null,
            "justify_items": null,
            "left": null,
            "margin": null,
            "max_height": null,
            "max_width": null,
            "min_height": null,
            "min_width": null,
            "object_fit": null,
            "object_position": null,
            "order": null,
            "overflow": null,
            "overflow_x": null,
            "overflow_y": null,
            "padding": null,
            "right": null,
            "top": null,
            "visibility": null,
            "width": null
          }
        },
        "f02db3f258f94916a897a8067f66fb21": {
          "model_module": "@jupyter-widgets/base",
          "model_module_version": "1.2.0",
          "model_name": "LayoutModel",
          "state": {
            "_model_module": "@jupyter-widgets/base",
            "_model_module_version": "1.2.0",
            "_model_name": "LayoutModel",
            "_view_count": null,
            "_view_module": "@jupyter-widgets/base",
            "_view_module_version": "1.2.0",
            "_view_name": "LayoutView",
            "align_content": null,
            "align_items": null,
            "align_self": null,
            "border": null,
            "bottom": null,
            "display": null,
            "flex": null,
            "flex_flow": null,
            "grid_area": null,
            "grid_auto_columns": null,
            "grid_auto_flow": null,
            "grid_auto_rows": null,
            "grid_column": null,
            "grid_gap": null,
            "grid_row": null,
            "grid_template_areas": null,
            "grid_template_columns": null,
            "grid_template_rows": null,
            "height": null,
            "justify_content": null,
            "justify_items": null,
            "left": null,
            "margin": null,
            "max_height": null,
            "max_width": null,
            "min_height": null,
            "min_width": null,
            "object_fit": null,
            "object_position": null,
            "order": null,
            "overflow": null,
            "overflow_x": null,
            "overflow_y": null,
            "padding": null,
            "right": null,
            "top": null,
            "visibility": null,
            "width": null
          }
        },
        "f2d8d6ec69d44c15a4ebfe0cee1415b3": {
          "model_module": "@jupyter-widgets/base",
          "model_module_version": "1.2.0",
          "model_name": "LayoutModel",
          "state": {
            "_model_module": "@jupyter-widgets/base",
            "_model_module_version": "1.2.0",
            "_model_name": "LayoutModel",
            "_view_count": null,
            "_view_module": "@jupyter-widgets/base",
            "_view_module_version": "1.2.0",
            "_view_name": "LayoutView",
            "align_content": null,
            "align_items": null,
            "align_self": null,
            "border": null,
            "bottom": null,
            "display": null,
            "flex": null,
            "flex_flow": null,
            "grid_area": null,
            "grid_auto_columns": null,
            "grid_auto_flow": null,
            "grid_auto_rows": null,
            "grid_column": null,
            "grid_gap": null,
            "grid_row": null,
            "grid_template_areas": null,
            "grid_template_columns": null,
            "grid_template_rows": null,
            "height": null,
            "justify_content": null,
            "justify_items": null,
            "left": null,
            "margin": null,
            "max_height": null,
            "max_width": null,
            "min_height": null,
            "min_width": null,
            "object_fit": null,
            "object_position": null,
            "order": null,
            "overflow": null,
            "overflow_x": null,
            "overflow_y": null,
            "padding": null,
            "right": null,
            "top": null,
            "visibility": null,
            "width": null
          }
        },
        "f4b5eb8203c14f7db3b46c6b46edb1a6": {
          "model_module": "@jupyter-widgets/controls",
          "model_module_version": "1.5.0",
          "model_name": "HTMLModel",
          "state": {
            "_dom_classes": [],
            "_model_module": "@jupyter-widgets/controls",
            "_model_module_version": "1.5.0",
            "_model_name": "HTMLModel",
            "_view_count": null,
            "_view_module": "@jupyter-widgets/controls",
            "_view_module_version": "1.5.0",
            "_view_name": "HTMLView",
            "description": "",
            "description_tooltip": null,
            "layout": "IPY_MODEL_f02db3f258f94916a897a8067f66fb21",
            "placeholder": "​",
            "style": "IPY_MODEL_80a48330aa45463fb9eaee855a4cb03f",
            "value": " 499M/499M [00:06&lt;00:00, 80.7MB/s]"
          }
        },
        "f5e5eb567ec440aea0dbf56ddc3bb7bd": {
          "model_module": "@jupyter-widgets/base",
          "model_module_version": "1.2.0",
          "model_name": "LayoutModel",
          "state": {
            "_model_module": "@jupyter-widgets/base",
            "_model_module_version": "1.2.0",
            "_model_name": "LayoutModel",
            "_view_count": null,
            "_view_module": "@jupyter-widgets/base",
            "_view_module_version": "1.2.0",
            "_view_name": "LayoutView",
            "align_content": null,
            "align_items": null,
            "align_self": null,
            "border": null,
            "bottom": null,
            "display": null,
            "flex": null,
            "flex_flow": null,
            "grid_area": null,
            "grid_auto_columns": null,
            "grid_auto_flow": null,
            "grid_auto_rows": null,
            "grid_column": null,
            "grid_gap": null,
            "grid_row": null,
            "grid_template_areas": null,
            "grid_template_columns": null,
            "grid_template_rows": null,
            "height": null,
            "justify_content": null,
            "justify_items": null,
            "left": null,
            "margin": null,
            "max_height": null,
            "max_width": null,
            "min_height": null,
            "min_width": null,
            "object_fit": null,
            "object_position": null,
            "order": null,
            "overflow": null,
            "overflow_x": null,
            "overflow_y": null,
            "padding": null,
            "right": null,
            "top": null,
            "visibility": null,
            "width": null
          }
        },
        "f9a88a6e87cb4a668bf5e960ad70f8d8": {
          "model_module": "@jupyter-widgets/controls",
          "model_module_version": "1.5.0",
          "model_name": "HBoxModel",
          "state": {
            "_dom_classes": [],
            "_model_module": "@jupyter-widgets/controls",
            "_model_module_version": "1.5.0",
            "_model_name": "HBoxModel",
            "_view_count": null,
            "_view_module": "@jupyter-widgets/controls",
            "_view_module_version": "1.5.0",
            "_view_name": "HBoxView",
            "box_style": "",
            "children": [
              "IPY_MODEL_790184049dea48b7b1d2f89af9823855",
              "IPY_MODEL_e96e25a7648644c986b33c494b950f61",
              "IPY_MODEL_6552f40b1ffd4a0183076376769a44e9"
            ],
            "layout": "IPY_MODEL_1c17de2cbd4c4a4e8bce95b7de6f3408"
          }
        }
      },
      "state": {}
    }
  },
  "nbformat": 4,
  "nbformat_minor": 0
}
>>>>>>> 048ff8f630aa71c20fb0f64fcf4e85a0e292be83
