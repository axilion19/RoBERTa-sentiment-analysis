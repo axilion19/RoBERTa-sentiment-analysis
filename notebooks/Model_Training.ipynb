{
  "cells": [
    {
      "cell_type": "code",
      "execution_count": null,
      "metadata": {
        "executionInfo": {
          "elapsed": 52148,
          "status": "ok",
          "timestamp": 1749117682665,
          "user": {
            "displayName": "Hakan Çobanoğlu",
            "userId": "12887805589343695815"
          },
          "user_tz": -180
        },
        "id": "XL63zRs_h6Si"
      },
      "source": [
        "import pandas as pd\n",
        "import torch\n",
        "import transformers\n",
        "from tqdm import tqdm\n",
        "from torch.utils.data import Dataset, DataLoader\n",
        "from transformers import RobertaModel, RobertaTokenizer"
      ]
    },
    {
      "cell_type": "code",
      "execution_count": null,
      "metadata": {
        "colab": {
          "base_uri": "https://localhost:8080/"
        },
        "executionInfo": {
          "elapsed": 19115,
          "status": "ok",
          "timestamp": 1749117725674,
          "user": {
            "displayName": "Hakan Çobanoğlu",
            "userId": "12887805589343695815"
          },
          "user_tz": -180
        },
        "id": "tA_0WqF_iQMZ",
        "outputId": "be82b935-3287-4aee-d79e-3c921d84c7a6"
      },
      "source": [
        "from google.colab import drive\n",
        "drive.mount('/content/drive')"
      ]
    },
    {
      "cell_type": "code",
      "execution_count": null,
      "metadata": {
        "colab": {
          "base_uri": "https://localhost:8080/",
          "height": 35
        },
        "executionInfo": {
          "elapsed": 11,
          "status": "ok",
          "timestamp": 1749117744318,
          "user": {
            "displayName": "Hakan Çobanoğlu",
            "userId": "12887805589343695815"
          },
          "user_tz": -180
        },
        "id": "W89IPbYgilDD",
        "outputId": "2cc6727d-50b6-4fd6-8607-df6019b09311"
      },
      "source": [
        "from torch import cuda\n",
        "device = 'cuda' if cuda.is_available() else 'cpu'\n",
        "device"
      ]
    },
    {
      "cell_type": "code",
      "execution_count": null,
      "metadata": {
        "colab": {
          "base_uri": "https://localhost:8080/",
          "height": 424
        },
        "executionInfo": {
          "elapsed": 2928,
          "status": "ok",
          "timestamp": 1749118520676,
          "user": {
            "displayName": "Hakan Çobanoğlu",
            "userId": "12887805589343695815"
          },
          "user_tz": -180
        },
        "id": "n7Y3Dn-Zir6g",
        "outputId": "9ed0b8be-7c24-4d0a-ee15-350d7a9656a6"
      },
      "source": [
        "data = pd.read_csv('/content/drive/MyDrive/imdb_data_cleaned.csv')\n",
        "data"
      ]
    },
    {
      "cell_type": "code",
      "execution_count": null,
      "metadata": {
        "colab": {
          "base_uri": "https://localhost:8080/",
          "height": 281,
          "referenced_widgets": [
            "6758152845e149b0bb535e39a98b2ca3",
            "0bd6163596d94344b469933c355eddc0",
            "9de51e1ed9374349913d82164d5dad51",
            "66bb425ac0f84d04baa858285ca74430",
            "07e2a025f338403e824920744933cd20",
            "8febc6356f8148b795b835f401e15109",
            "80dc5dfaf7b9487facd62df35ab783c3",
            "f5e5eb567ec440aea0dbf56ddc3bb7bd",
            "16987737fee84e62a2f85e7e738688f4",
            "14f8ef3a3acf4092b2685941af8ce025",
            "1f014a1b6eb048629f407e2116e6bdd6",
            "8a56ff76cc9a456397c07019daecabcf",
            "0156294c49b349b3ad5c54a58110c91b",
            "8991b739670e474a885899b4b0ece74b",
            "3bc9d70293704d02830a8a8176d420b9",
            "637ecf0892d843e4ae090b8f2b7c2a5d",
            "6a777cfe40d44c1c87df3b2e2d20cd31",
            "ce0f610827554de0b6f8f70b6559d3a3",
            "4942ca2225d5457b8caa1ee5df46f0c7",
            "de2e731a46004a03b2f96edcb4112485",
            "1e2ab83004fb471eae5fa2484bda5c79",
            "7d670a3a6430483e8f073ffc196cf79a",
            "13dcedc893204775b16799b7a58f0b2b",
            "1802dd24165a4780b71c96e5c5d29da6",
            "c0aeb9db97334f9a8a994532ae320b1f",
            "ec970d9cf97a4f6fa2a6883a8e9fd19a",
            "a5c098b64aa3492cb0c49f35154da519",
            "dc000c67e97548cd8a13a01bd94acd3f",
            "82cd15d98a404c4baf340cb19f748ac2",
            "f2d8d6ec69d44c15a4ebfe0cee1415b3",
            "338b3d8c72104348b1f4dd81cfe4e2a9",
            "16d85250387c4631816dbc3c23d2b610",
            "1ddfaa571c32409ea4644817625bb9c2",
            "f9a88a6e87cb4a668bf5e960ad70f8d8",
            "790184049dea48b7b1d2f89af9823855",
            "e96e25a7648644c986b33c494b950f61",
            "6552f40b1ffd4a0183076376769a44e9",
            "1c17de2cbd4c4a4e8bce95b7de6f3408",
            "d66c4eab4ee6438e984598753d43c120",
            "97189a65af3a40d489884fcdc1061219",
            "ee8603bcf24e43a59889998fb485f05d",
            "06b1dd3a5fd3499ab0ec79b99b2a3d3a",
            "252010bd03f440ad8a3fb83c90418577",
            "72933a813a124c0a9c75a4797ea08829",
            "b665022fa4f04b3db89ebcbe4caa0d07",
            "b65668768f1e4ca594086831dad3f98a",
            "7cae67278040498ebb018a077c25c5e8",
            "4d040a597305437798d2d28b30466635",
            "9145230f95554740b823d4f7856d3b39",
            "2aeb5cfdca224abeb6387e141e0dcefb",
            "3c250b5ba13f4e0d84b1515f7f9c9ac9",
            "2a5b10e8baf140edb6c76f2d816b28c0",
            "a37b486d6f5145c7b9362525da81195d",
            "dbc28817ca1f4dc38611151aa515632a",
            "b489bc79b8704276b957838f6b9eaed4"
          ]
        },
        "executionInfo": {
          "elapsed": 3124,
          "status": "ok",
          "timestamp": 1749118554007,
          "user": {
            "displayName": "Hakan Çobanoğlu",
            "userId": "12887805589343695815"
          },
          "user_tz": -180
        },
        "id": "r3cp6KIjlvBn",
        "outputId": "f5b7a62e-8241-492b-fe37-6fbbadef55c9"
      },
      "source": [
        "MAX_LEN = 256\n",
        "TRAIN_BATCH_SIZE = 8\n",
        "VALID_BATCH_SIZE = 4\n",
        "\n",
        "LEARNING_RATE = 1e-05\n",
        "tokenizer = RobertaTokenizer.from_pretrained('roberta-base', truncation=True, do_lower_case=True)"
      ]
    },
    {
      "cell_type": "code",
      "execution_count": null,
      "metadata": {
        "executionInfo": {
          "elapsed": 4,
          "status": "ok",
          "timestamp": 1749118597324,
          "user": {
            "displayName": "Hakan Çobanoğlu",
            "userId": "12887805589343695815"
          },
          "user_tz": -180
        },
        "id": "vlG6MEyGlxOy"
      },
      "source": [
        "class SentimentData(Dataset):\n",
        "    def __init__(self, dataframe, tokenizer, max_len):\n",
        "        self.tokenizer = tokenizer\n",
        "        self.data = dataframe\n",
        "        self.text = dataframe.review\n",
        "        self.targets = self.data.sentiment\n",
        "        self.max_len = max_len\n",
        "\n",
        "    def __len__(self):\n",
        "        return len(self.text)\n",
        "\n",
        "    def __getitem__(self, index):\n",
        "        text = str(self.text[index])\n",
        "        text = \" \".join(text.split())\n",
        "\n",
        "        inputs = self.tokenizer.encode_plus(\n",
        "            text,\n",
        "            add_special_tokens=True,\n",
        "            max_length=self.max_len,\n",
        "            padding='max_length',\n",
        "            truncation=True,\n",
        "            return_token_type_ids=False\n",
        "        )\n",
        "        ids = inputs['input_ids']\n",
        "        mask = inputs['attention_mask']\n",
        "\n",
        "\n",
        "        return {\n",
        "            'ids': torch.tensor(ids, dtype=torch.long),\n",
        "            'mask': torch.tensor(mask, dtype=torch.long),\n",
        "            'targets': torch.tensor(self.targets[index], dtype=torch.float)\n",
        "        }"
      ]
    },
    {
      "cell_type": "code",
      "execution_count": null,
      "metadata": {
        "colab": {
          "base_uri": "https://localhost:8080/"
        },
        "executionInfo": {
          "elapsed": 21,
          "status": "ok",
          "timestamp": 1749118615045,
          "user": {
            "displayName": "Hakan Çobanoğlu",
            "userId": "12887805589343695815"
          },
          "user_tz": -180
        },
        "id": "-UhuaeFEl8Xk",
        "outputId": "2f421f26-6e8f-4faa-b479-9bbe3dea037c"
      },
      "source": [
        "train_size = 0.8\n",
        "train_data = data.sample(frac=train_size,random_state=200)\n",
        "test_data = data.drop(train_data.index).reset_index(drop=True)\n",
        "train_data = train_data.reset_index(drop=True)\n",
        "\n",
        "\n",
        "print(\"FULL Dataset: {}\".format(data.shape))\n",
        "print(\"TRAIN Dataset: {}\".format(train_data.shape))\n",
        "print(\"TEST Dataset: {}\".format(test_data.shape))\n",
        "\n",
        "training_set = SentimentData(train_data, tokenizer, MAX_LEN)\n",
        "testing_set = SentimentData(test_data, tokenizer, MAX_LEN)"
      ]
    },
    {
      "cell_type": "code",
      "execution_count": null,
      "metadata": {
        "executionInfo": {
          "elapsed": 5,
          "status": "ok",
          "timestamp": 1749118629557,
          "user": {
            "displayName": "Hakan Çobanoğlu",
            "userId": "12887805589343695815"
          },
          "user_tz": -180
        },
        "id": "QYL-_tYamAzK"
      },
      "source": [
        "train_params = {'batch_size': TRAIN_BATCH_SIZE,\n",
        "                'shuffle': True,\n",
        "                'num_workers': 0\n",
        "                }\n",
        "\n",
        "test_params = {'batch_size': VALID_BATCH_SIZE,\n",
        "                'shuffle': True,\n",
        "                'num_workers': 0\n",
        "                }\n",
        "\n",
        "training_loader = DataLoader(training_set, **train_params)\n",
        "testing_loader = DataLoader(testing_set, **test_params)"
      ]
    },
    {
      "cell_type": "code",
      "execution_count": null,
      "metadata": {
        "executionInfo": {
          "elapsed": 5,
          "status": "ok",
          "timestamp": 1749118654856,
          "user": {
            "displayName": "Hakan Çobanoğlu",
            "userId": "12887805589343695815"
          },
          "user_tz": -180
        },
        "id": "Njwa9G-KmHF9"
      },
      "source": [
        "class RobertaClass(torch.nn.Module):\n",
        "    def __init__(self):\n",
        "        super(RobertaClass, self).__init__()\n",
        "        self.l1 = RobertaModel.from_pretrained(\"roberta-base\")\n",
        "        self.pre_classifier = torch.nn.Linear(768, 768)\n",
        "        self.dropout = torch.nn.Dropout(0.3)\n",
        "        self.classifier = torch.nn.Linear(768, 2)\n",
        "\n",
        "    def forward(self, input_ids, attention_mask):\n",
        "        output_1 = self.l1(input_ids=input_ids, attention_mask=attention_mask)\n",
        "        hidden_state = output_1[0]\n",
        "        pooler = hidden_state[:, 0]\n",
        "        pooler = self.pre_classifier(pooler)\n",
        "        pooler = torch.nn.ReLU()(pooler)\n",
        "        pooler = self.dropout(pooler)\n",
        "        output = self.classifier(pooler)\n",
        "        return output"
      ]
    },
    {
      "cell_type": "code",
      "execution_count": null,
      "metadata": {
        "colab": {
          "base_uri": "https://localhost:8080/",
          "height": 882,
          "referenced_widgets": [
            "855b4986fd3b409990b4e9110fed1cbe",
            "15e50e12049d4cb6b2f292e19b62fe15",
            "e2e2ed86842844e0bedf29d4de243162",
            "f4b5eb8203c14f7db3b46c6b46edb1a6",
            "dccdebc4b18345708595563fb0982fb8",
            "85ad1e20f8fe4951a05a38c04dd95503",
            "84e7b4d070d24b39a9e330566dce72f4",
            "ba2d909803b6419f892764f57e55fe11",
            "5fdd066cdfb543e89da51f2971591a66",
            "f02db3f258f94916a897a8067f66fb21",
            "80a48330aa45463fb9eaee855a4cb03f"
          ]
        },
        "executionInfo": {
          "elapsed": 7933,
          "status": "ok",
          "timestamp": 1749118676045,
          "user": {
            "displayName": "Hakan Çobanoğlu",
            "userId": "12887805589343695815"
          },
          "user_tz": -180
        },
        "id": "KOytE9D5mKSx",
        "outputId": "d7ce181f-47b7-475d-d777-780af7b8882b"
      },
      "source": ["model = RobertaClass()\n", "model.to(device)"]
    },
    {
      "cell_type": "code",
      "execution_count": null,
      "metadata": {
        "executionInfo": {
          "elapsed": 5,
          "status": "ok",
          "timestamp": 1749118688751,
          "user": {
            "displayName": "Hakan Çobanoğlu",
            "userId": "12887805589343695815"
          },
          "user_tz": -180
        },
        "id": "6GiwDhDMmP5g"
      },
      "source": [
        "loss_function = torch.nn.CrossEntropyLoss()\n",
        "optimizer = torch.optim.Adam(params =  model.parameters(), lr=LEARNING_RATE)"
      ]
    },
    {
      "cell_type": "code",
      "execution_count": null,
      "metadata": {
        "executionInfo": {
          "elapsed": 12,
          "status": "ok",
          "timestamp": 1749118703244,
          "user": {
            "displayName": "Hakan Çobanoğlu",
            "userId": "12887805589343695815"
          },
          "user_tz": -180
        },
        "id": "iu-zmKkSmSlP"
      },
      "source": [
        "def calcuate_accuracy(preds, targets):\n",
        "    n_correct = (preds==targets).sum().item()\n",
        "    return n_correct"
      ]
    },
    {
      "cell_type": "code",
      "execution_count": null,
      "metadata": {
        "executionInfo": {
          "elapsed": 5,
          "status": "ok",
          "timestamp": 1749119176125,
          "user": {
            "displayName": "Hakan Çobanoğlu",
            "userId": "12887805589343695815"
          },
          "user_tz": -180
        },
        "id": "028m57GXmV9Z"
      },
      "source": [
        "def train(epoch):\n",
        "    tr_loss = 0\n",
        "    n_correct = 0\n",
        "    nb_tr_steps = 0\n",
        "    nb_tr_examples = 0\n",
        "    model.train()\n",
        "    for _,data in tqdm(enumerate(training_loader, 0)):\n",
        "        ids = data['ids'].to(device, dtype = torch.long)\n",
        "        mask = data['mask'].to(device, dtype = torch.long)\n",
        "        targets = data['targets'].to(device, dtype = torch.long)\n",
        "\n",
        "        outputs = model(ids, mask)\n",
        "        loss = loss_function(outputs, targets)\n",
        "        tr_loss += loss.item()\n",
        "        big_val, big_idx = torch.max(outputs.data, dim=1)\n",
        "        n_correct += calcuate_accuracy(big_idx, targets)\n",
        "\n",
        "        nb_tr_steps += 1\n",
        "        nb_tr_examples+=targets.size(0)\n",
        "\n",
        "        if _%5000==0:\n",
        "            loss_step = tr_loss/nb_tr_steps\n",
        "            accu_step = (n_correct*100)/nb_tr_examples\n",
        "            print(f\"Training Loss per 5000 steps: {loss_step}\")\n",
        "            print(f\"Training Accuracy per 5000 steps: {accu_step}\")\n",
        "\n",
        "        optimizer.zero_grad()\n",
        "        loss.backward()\n",
        "        optimizer.step()\n",
        "\n",
        "    print(f'The Total Accuracy for Epoch {epoch}: {(n_correct*100)/nb_tr_examples}')\n",
        "    epoch_loss = tr_loss/nb_tr_steps\n",
        "    epoch_accu = (n_correct*100)/nb_tr_examples\n",
        "    print(f\"Training Loss Epoch: {epoch_loss}\")\n",
        "    print(f\"Training Accuracy Epoch: {epoch_accu}\")\n",
        "\n",
        "    return epoch_accu, epoch_loss"
      ]
    },
    {
      "cell_type": "code",
      "execution_count": null,
      "metadata": {
        "executionInfo": {
          "elapsed": 5,
          "status": "ok",
          "timestamp": 1749119179028,
          "user": {
            "displayName": "Hakan Çobanoğlu",
            "userId": "12887805589343695815"
          },
          "user_tz": -180
        },
        "id": "N3mGAJ6_mtT4"
      },
      "source": [
        "def valid(model, testing_loader):\n",
        "    model.eval()\n",
        "    n_correct = 0; n_wrong = 0; total = 0; tr_loss=0; nb_tr_steps=0; nb_tr_examples=0\n",
        "    with torch.no_grad():\n",
        "        for _, data in tqdm(enumerate(testing_loader, 0)):\n",
        "            ids = data['ids'].to(device, dtype = torch.long)\n",
        "            mask = data['mask'].to(device, dtype = torch.long)\n",
        "            targets = data['targets'].to(device, dtype = torch.long)\n",
        "            outputs = model(ids, mask).squeeze()\n",
        "            loss = loss_function(outputs, targets)\n",
        "            tr_loss += loss.item()\n",
        "            big_val, big_idx = torch.max(outputs.data, dim=1)\n",
        "            n_correct += calcuate_accuracy(big_idx, targets)\n",
        "\n",
        "            nb_tr_steps += 1\n",
        "            nb_tr_examples+=targets.size(0)\n",
        "\n",
        "            if _%5000==0:\n",
        "                loss_step = tr_loss/nb_tr_steps\n",
        "                accu_step = (n_correct*100)/nb_tr_examples\n",
        "                print(f\"Validation Loss per 100 steps: {loss_step}\")\n",
        "                print(f\"Validation Accuracy per 100 steps: {accu_step}\")\n",
        "    epoch_loss = tr_loss/nb_tr_steps\n",
        "    epoch_accu = (n_correct*100)/nb_tr_examples\n",
        "    print(f\"Validation Loss Epoch: {epoch_loss}\")\n",
        "    print(f\"Validation Accuracy Epoch: {epoch_accu}\")\n",
        "\n",
        "    return epoch_accu, epoch_loss\n"
      ]
    },
    {
      "cell_type": "code",
      "execution_count": null,
      "metadata": {
        "colab": {
          "base_uri": "https://localhost:8080/"
        },
        "executionInfo": {
          "elapsed": 3952003,
          "status": "ok",
          "timestamp": 1749124176439,
          "user": {
            "displayName": "Hakan Çobanoğlu",
            "userId": "12887805589343695815"
          },
          "user_tz": -180
        },
        "id": "fWyKoeDGoKLQ",
        "outputId": "1044dc32-c9e4-446d-b599-5b62153556d9"
      },
      "source": [
        "import copy\n",
        "train_losses, val_losses = [], []\n",
        "train_accs,   val_accs   = [], []\n",
        "\n",
        "EPOCHS     = 4\n",
        "PATIENCE   = 1\n",
        "MONITOR    = \"val_loss\"\n",
        "MODE       = \"min\"\n",
        "\n",
        "best_metric   = float(\"inf\") if MODE == \"min\" else -float(\"inf\")\n",
        "patience_cnt  = 0\n",
        "best_weights  = None\n",
        "\n",
        "for ep in range(EPOCHS):\n",
        "    tr_acc, tr_loss = train(ep)\n",
        "    val_acc, val_loss = valid(model, testing_loader)\n",
        "\n",
        "    train_losses.append(tr_loss)\n",
        "    val_losses.append(val_loss)\n",
        "    train_accs.append(tr_acc)\n",
        "    val_accs.append(val_acc)\n",
        "\n",
        "    print(f\"Epoch {ep} done ✓\")\n",
        "\n",
        "    current = val_loss if MONITOR == \"val_loss\" else val_acc\n",
        "    better  = (current < best_metric) if MODE == \"min\" else (current > best_metric)\n",
        "\n",
        "    if better:\n",
        "        best_metric  = current\n",
        "        patience_cnt = 0\n",
        "        best_weights = copy.deepcopy(model.state_dict())\n",
        "    else:\n",
        "        patience_cnt += 1\n",
        "\n",
        "        if patience_cnt >= PATIENCE:\n",
        "            print(\"Early stopping triggered\")\n",
        "            break\n",
        "if best_weights is not None:\n",
        "    model.load_state_dict(best_weights)\n",
        "    print(f\"Model: best weights protected -> ({MONITOR}={best_metric:.4f})\")\n"
      ]
    },
    {
      "cell_type": "code",
      "execution_count": null,
      "metadata": {
        "colab": {
          "base_uri": "https://localhost:8080/",
          "height": 803
        },
        "executionInfo": {
          "elapsed": 247,
          "status": "ok",
          "timestamp": 1749124599409,
          "user": {
            "displayName": "Hakan Çobanoğlu",
            "userId": "12887805589343695815"
          },
          "user_tz": -180
        },
        "id": "zlR2dOQZqQfq",
        "outputId": "b7072eaa-1aa9-455f-cacc-b586be8a4aad"
      },
      "source": [
        "import matplotlib.pyplot as plt\n",
        "\n",
        "epochs = range(1,3)\n",
        "\n",
        "plt.figure(figsize=(8, 4))\n",
        "plt.plot(epochs, train_losses, marker='o', label='Train loss')\n",
        "plt.plot(epochs, val_losses,   marker='s', label='Valid loss')\n",
        "plt.xlabel('Epoch'); plt.ylabel('Loss')\n",
        "plt.title('Train -Validation Loss')\n",
        "plt.xticks(epochs)\n",
        "plt.grid(True); plt.legend()\n",
        "plt.show()\n",
        "\n",
        "plt.figure(figsize=(8, 4))\n",
        "plt.plot(epochs, train_accs, marker='o', label='Train acc')\n",
        "plt.plot(epochs, val_accs,   marker='s', label='Valid acc')\n",
        "plt.xlabel('Epoch'); plt.ylabel('Accuracy (%)')\n",
        "plt.title('Train-Validation Accuracy')\n",
        "plt.xticks(epochs)\n",
        "plt.grid(True); plt.legend()\n",
        "plt.show()"
      ]
    },
    {
      "cell_type": "code",
      "execution_count": null,
      "metadata": {
        "colab": {
          "base_uri": "https://localhost:8080/"
        },
        "executionInfo": {
          "elapsed": 119,
          "status": "ok",
          "timestamp": 1749125107990,
          "user": {
            "displayName": "Hakan Çobanoğlu",
            "userId": "12887805589343695815"
          },
          "user_tz": -180
        },
        "id": "zj3mwOm-8-W4",
        "outputId": "859c4fd1-862d-4af7-a8f4-d215c1025a82"
      },
      "source": [
        "def predict_reviews(reviews):\n",
        "\n",
        "    if isinstance(reviews, str):\n",
        "        reviews = [reviews]\n",
        "\n",
        "    model.eval()\n",
        "    device_ = next(model.parameters()).device\n",
        "\n",
        "    results = []\n",
        "    with torch.no_grad():\n",
        "        enc = tokenizer(\n",
        "            reviews,\n",
        "            padding=True,\n",
        "            truncation=True,\n",
        "            max_length=MAX_LEN,\n",
        "            return_tensors=\"pt\"\n",
        "        ).to(device_)\n",
        "\n",
        "        logits = model(enc[\"input_ids\"], enc[\"attention_mask\"])\n",
        "        probs  = torch.softmax(logits, dim=-1)\n",
        "        preds  = probs.argmax(dim=-1).cpu().numpy()\n",
        "\n",
        "        for idx, review in enumerate(reviews):\n",
        "            label = \"POSITIVE\" if preds[idx] == 1 else \"NEGATIVE\"\n",
        "            score = probs[idx, preds[idx]].item()\n",
        "            results.append({\"label\": label, \"score\": round(score, 3)})\n",
        "\n",
        "    return results\n",
        "\n",
        "samples = [\n",
        "    \"The movie was surprisingly touching and well-acted.\",\n",
        "    \"Plot holes everywhere—what a waste of time!\",\n",
        "    \"I fell asleep halfway through.\",\n",
        "    \"Amazing cinematography but weak story.\",\n",
        "    \"\"\"i'll spare you the \"cinema is dead\" spiel and instead elect to mention that they literally say \"epic fail\" like five times in this movie\"\"\", #1/5-star\n",
        "    \"i have no clue what the plot of this was supposed to be, but one star because the scene of ryan in the car reminiscing about his ex while listening to all too well i fear i may know that feeling a little bit all too well.\", # 1/5-star\n",
        "    \"they added the scene where colt cries in the car while listening to all too well by taylor swift so that girls could have their own “literally me” ryan gosling moment\", #4/5-star\n",
        "    \"the fall guy was released in dvd/bluray format today so I had to watch it again and I know what you all will say regarding the amount of times I’ve seen this film but how could I just ignore watching it on my own new physical copy when it came in the mail today… I couldn’t, bc my love for this film is too strong\", #5-star\n",
        "    \"A clear thank-you message to stunt performers, and all those in a craft that frequently receives less recognition than it deserves, but a film that is messy—really messy. Gosling and Blunt try their hardest to lift the weak writing, and they occasionally succeed in providing ounces of charisma and charm, but their fundamental relationship felt deeply forced. It's an effort that unfortunately falls into many of the modern-day blockbuster traps—meta humour that lands less than it should and okay-ish action sequences that feel way too long (as does the entire film). There is true enthusiasm there, and don't get me wrong, there are some genuinely pretty funny and heartfelt moments (especially the ones with Gosling leading the line), but I can't help but feel slightly disappointed overall.\" #2,5/5 star\n",
        "]\n",
        "\n",
        "for out in predict_reviews(samples):\n",
        "    print(out)\n"
      ]
    },
    {
      "cell_type": "code",
      "execution_count": null,
      "metadata": {
        "executionInfo": {
          "elapsed": 4378,
          "status": "ok",
          "timestamp": 1749124410992,
          "user": {
            "displayName": "Hakan Çobanoğlu",
            "userId": "12887805589343695815"
          },
          "user_tz": -180
        },
        "id": "kQC2HL7d7_iH"
      },
      "source": [
        "torch.save(model.state_dict(), '/content/drive/MyDrive/model_weights.pth')"
      ]
    }
  ],
  "metadata": {
    "accelerator": "GPU",
    "colab": {
      "authorship_tag": "ABX9TyPOCbJqxed3au9dYJAOQLP3",
      "gpuType": "T4",
      "provenance": []
    },
    "kernelspec": {
      "display_name": "Python 3",
      "name": "python3"
    },
    "language_info": {
      "name": "python"
    }
  },
  "nbformat": 4,
  "nbformat_minor": 0
}
